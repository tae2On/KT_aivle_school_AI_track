{
 "cells": [
  {
   "cell_type": "markdown",
   "id": "e1986c64-20c1-479c-b91c-ab574c5410dd",
   "metadata": {},
   "source": [
    "# Crawling Naver Stock Reports"
   ]
  },
  {
   "cell_type": "code",
   "execution_count": 6,
   "id": "becb8251-5ecb-4a62-98f4-3f7489d43011",
   "metadata": {},
   "outputs": [],
   "source": [
    "import requests\n",
    "import pandas as pd\n",
    "from bs4 import BeautifulSoup"
   ]
  },
  {
   "cell_type": "code",
   "execution_count": 7,
   "id": "6a4e0c4e-a2bc-4b6e-a745-fddb364534bc",
   "metadata": {},
   "outputs": [],
   "source": [
    "# 1. URL 수집\n",
    "url = 'https://finance.naver.com/research/company_list.naver?&page=1'"
   ]
  },
  {
   "cell_type": "code",
   "execution_count": 8,
   "id": "3d271e16-aea8-483a-b2e3-5872f7a1414d",
   "metadata": {},
   "outputs": [
    {
     "data": {
      "text/plain": [
       "<Response [200]>"
      ]
     },
     "execution_count": 8,
     "metadata": {},
     "output_type": "execute_result"
    }
   ],
   "source": [
    "# 2. request(URL) > response(HTML)\n",
    "response = requests.get(url)\n",
    "response"
   ]
  },
  {
   "cell_type": "code",
   "execution_count": 9,
   "id": "8ca8c5d5-2172-431b-86e3-fa05a0475284",
   "metadata": {},
   "outputs": [
    {
     "data": {
      "text/plain": [
       "'<!--  global include -->\\n\\n\\t\\n\\t\\n\\t\\n\\t\\n\\t\\n<html lang=\\'ko\\'>\\n<head>\\n\\n\\n\\t\\n\\t\\n\\t\\t\\n\\t\\t\\t\\n\\t\\t\\t\\n\\t\\t\\t\\t<title>종목분석 리포트 : 네이버페이 증권</title>\\n\\t\\t\\t\\n\\t\\t\\n\\t\\n\\n\\n\\n\\n<meta http-equiv=\"Content-Type\" content=\"text/html; charset=utf-8\" />\\n\\n'"
      ]
     },
     "execution_count": 9,
     "metadata": {},
     "output_type": "execute_result"
    }
   ],
   "source": [
    "response.text[:200]"
   ]
  },
  {
   "cell_type": "code",
   "execution_count": 10,
   "id": "45db58ae-b5dc-480a-ace8-82dde86422b9",
   "metadata": {},
   "outputs": [
    {
     "data": {
      "text/plain": [
       "bs4.BeautifulSoup"
      ]
     },
     "execution_count": 10,
     "metadata": {},
     "output_type": "execute_result"
    }
   ],
   "source": [
    "# 3. HTML > BeautifulSoup > css-selector > DataFrame\n",
    "dom = BeautifulSoup(response.content, 'html.parser')\n",
    "type(dom) # select(css-selector), select_one()"
   ]
  },
  {
   "cell_type": "code",
   "execution_count": 11,
   "id": "5b567fdb-9bee-47a7-915e-9e832e929b29",
   "metadata": {},
   "outputs": [
    {
     "data": {
      "text/plain": [
       "49"
      ]
     },
     "execution_count": 11,
     "metadata": {},
     "output_type": "execute_result"
    }
   ],
   "source": [
    "# selector = '#contentarea_left > div.box_type_m > table.type_1 > tbody > tr:nth-child(3)'\n",
    "# selector = '#contentarea_left > div.box_type_m > table.type_1 > tr'\n",
    "selector = 'table.type_1 > tr'\n",
    "elements = dom.select(selector)\n",
    "len(elements)"
   ]
  },
  {
   "cell_type": "code",
   "execution_count": 12,
   "id": "db42cc39-c99c-4daa-a5be-4d71ea4af27c",
   "metadata": {},
   "outputs": [
    {
     "data": {
      "text/plain": [
       "(6,\n",
       " [<td style=\"padding-left:10\">\n",
       "  <a class=\"stock_item\" href=\"/item/main.naver?code=066570\" title=\"LG전자\">LG전자</a>\n",
       "  </td>,\n",
       "  <td><a href=\"company_read.naver?nid=77126&amp;page=1\">AI데이터센터 냉각 시장 공략</a><img alt=\"NEW\" class=\"ico_new\" height=\"8\" src=\"https://ssl.pstatic.net/imgstock/images5/ico_research_new.gif\" width=\"8\"/></td>,\n",
       "  <td>교보증권</td>,\n",
       "  <td class=\"file\"><a href=\"https://stock.pstatic.net/stock-research/company/34/20240923_company_481199000.pdf\" target=\"_blank\"><img align=\"absmiddle\" alt=\"pdf\" src=\"https://ssl.pstatic.net/imgstock/images5/down.gif\"/></a></td>,\n",
       "  <td class=\"date\" style=\"padding-left:5px\">24.09.23</td>,\n",
       "  <td class=\"date\">401</td>])"
      ]
     },
     "execution_count": 12,
     "metadata": {},
     "output_type": "execute_result"
    }
   ],
   "source": [
    "element = elements[2]\n",
    "tag = element.select('td')\n",
    "len(tag), tag"
   ]
  },
  {
   "cell_type": "code",
   "execution_count": 13,
   "id": "7b4476e2-75e6-4b35-8dcc-771f0a5061cb",
   "metadata": {},
   "outputs": [
    {
     "data": {
      "text/plain": [
       "{'stock_name': 'LG전자',\n",
       " 'stock_link': '/item/main.naver?code=066570',\n",
       " 'title': 'AI데이터센터 냉각 시장 공략',\n",
       " 'title_link': 'company_read.naver?nid=77126&page=1',\n",
       " 'writer': '교보증권',\n",
       " 'pdf_link': 'https://stock.pstatic.net/stock-research/company/34/20240923_company_481199000.pdf',\n",
       " 'data': '24.09.23',\n",
       " 'pv': '401'}"
      ]
     },
     "execution_count": 13,
     "metadata": {},
     "output_type": "execute_result"
    }
   ],
   "source": [
    "data = {}\n",
    "data['stock_name'] = tag[0].select_one('a').text\n",
    "data['stock_link'] = tag[0].select_one('a').get('href')\n",
    "data['title'] = tag[1].select_one('a').text\n",
    "data['title_link'] = tag[1].select_one('a').get('href')\n",
    "\n",
    "data['writer'] = tag[2].text #교보\n",
    "data['pdf_link'] = tag[3].select_one('a').get('href')\n",
    "data['data'] =  tag[4].text\n",
    "data['pv'] = tag[5].text\n",
    "data"
   ]
  },
  {
   "cell_type": "code",
   "execution_count": 30,
   "id": "85a2aee3-1e0c-4b44-9b27-cfcb17f5d49d",
   "metadata": {},
   "outputs": [],
   "source": [
    "# enumerate\n",
    "rows = []\n",
    "for idx, element in enumerate(elements):\n",
    "    tag = element.select('td')\n",
    "    # print(idx, len(tag))\n",
    "    if len(tag) == 6:\n",
    "        data = {}\n",
    "        data['stock_name'] = tag[0].select_one('a').text\n",
    "        data['stock_link'] = tag[0].select_one('a').get('href')\n",
    "        data['title'] = tag[1].select_one('a').text\n",
    "        data['title_link'] = tag[1].select_one('a').get('href')\n",
    "        \n",
    "        data['writer'] = tag[2].text #교보\n",
    "        data['pdf_link'] = tag[3].select_one('a').get('href')\n",
    "        data['data'] =  tag[4].text\n",
    "        data['pv'] = tag[5].text\n",
    "\n",
    "        rows.append(data)"
   ]
  },
  {
   "cell_type": "code",
   "execution_count": 34,
   "id": "4d2584ef-317c-463f-8629-a565ec0b661e",
   "metadata": {},
   "outputs": [
    {
     "data": {
      "text/html": [
       "<div>\n",
       "<style scoped>\n",
       "    .dataframe tbody tr th:only-of-type {\n",
       "        vertical-align: middle;\n",
       "    }\n",
       "\n",
       "    .dataframe tbody tr th {\n",
       "        vertical-align: top;\n",
       "    }\n",
       "\n",
       "    .dataframe thead th {\n",
       "        text-align: right;\n",
       "    }\n",
       "</style>\n",
       "<table border=\"1\" class=\"dataframe\">\n",
       "  <thead>\n",
       "    <tr style=\"text-align: right;\">\n",
       "      <th></th>\n",
       "      <th>stock_name</th>\n",
       "      <th>stock_link</th>\n",
       "      <th>title</th>\n",
       "      <th>title_link</th>\n",
       "      <th>writer</th>\n",
       "      <th>pdf_link</th>\n",
       "      <th>data</th>\n",
       "      <th>pv</th>\n",
       "    </tr>\n",
       "  </thead>\n",
       "  <tbody>\n",
       "    <tr>\n",
       "      <th>28</th>\n",
       "      <td>동국S&amp;C</td>\n",
       "      <td>/item/main.naver?code=100130</td>\n",
       "      <td>금리 하락으로 미국에서 훈풍이 불어온다</td>\n",
       "      <td>company_read.naver?nid=77098&amp;page=1</td>\n",
       "      <td>iM증권</td>\n",
       "      <td>https://stock.pstatic.net/stock-research/compa...</td>\n",
       "      <td>24.09.19</td>\n",
       "      <td>1510</td>\n",
       "    </tr>\n",
       "    <tr>\n",
       "      <th>29</th>\n",
       "      <td>SOOP</td>\n",
       "      <td>/item/main.naver?code=067160</td>\n",
       "      <td>경쟁사 스트리머 이적, 트래픽 유입 기대</td>\n",
       "      <td>company_read.naver?nid=77097&amp;page=1</td>\n",
       "      <td>신한투자증권</td>\n",
       "      <td>https://stock.pstatic.net/stock-research/compa...</td>\n",
       "      <td>24.09.19</td>\n",
       "      <td>1464</td>\n",
       "    </tr>\n",
       "  </tbody>\n",
       "</table>\n",
       "</div>"
      ],
      "text/plain": [
       "   stock_name                    stock_link                   title  \\\n",
       "28      동국S&C  /item/main.naver?code=100130   금리 하락으로 미국에서 훈풍이 불어온다   \n",
       "29       SOOP  /item/main.naver?code=067160  경쟁사 스트리머 이적, 트래픽 유입 기대   \n",
       "\n",
       "                             title_link  writer  \\\n",
       "28  company_read.naver?nid=77098&page=1    iM증권   \n",
       "29  company_read.naver?nid=77097&page=1  신한투자증권   \n",
       "\n",
       "                                             pdf_link      data    pv  \n",
       "28  https://stock.pstatic.net/stock-research/compa...  24.09.19  1510  \n",
       "29  https://stock.pstatic.net/stock-research/compa...  24.09.19  1464  "
      ]
     },
     "execution_count": 34,
     "metadata": {},
     "output_type": "execute_result"
    }
   ],
   "source": [
    "df = pd.DataFrame(rows)\n",
    "df.tail(2)"
   ]
  },
  {
   "cell_type": "code",
   "execution_count": 46,
   "id": "b1cb45e2-052a-4fdc-9492-2244ebfd4742",
   "metadata": {},
   "outputs": [
    {
     "data": {
      "text/plain": [
       "['.ipynb_checkpoints',\n",
       " '00_python.ipynb',\n",
       " '01_requests_naver_stock.ipynb',\n",
       " '02_requests_daum_exchange.ipynb',\n",
       " '03_rest_api.ipynb',\n",
       " '04_requests_zigbang.ipynb',\n",
       " '05_html.ipynb',\n",
       " '06_css_selector.ipynb',\n",
       " '07_naver_relational_keywords.ipynb',\n",
       " '08_naver,stock_report.ipynb']"
      ]
     },
     "execution_count": 46,
     "metadata": {},
     "output_type": "execute_result"
    }
   ],
   "source": [
    "# file dounload\n",
    "# os package: 파일 시스템을 관리하는 파이썬 패키지\n",
    "import os\n",
    "os.listdir() # 파일 목록 출력"
   ]
  },
  {
   "cell_type": "code",
   "execution_count": 50,
   "id": "b2a1370e-20f1-442e-977b-2bf1ed9f7151",
   "metadata": {},
   "outputs": [
    {
     "data": {
      "text/plain": [
       "False"
      ]
     },
     "execution_count": 50,
     "metadata": {},
     "output_type": "execute_result"
    }
   ],
   "source": [
    "path = 'reports'\n",
    "os.path.exists(path) # 디렉토리, 파일 존재 여부 확인"
   ]
  },
  {
   "cell_type": "code",
   "execution_count": 52,
   "id": "d816b051-ce25-4ded-a4e6-939ccb332e66",
   "metadata": {},
   "outputs": [],
   "source": [
    "if not os.path.exists(path): # 디렉토리 없으면 True\n",
    "    os.makedirs(path) # 디렉토리 생성"
   ]
  },
  {
   "cell_type": "code",
   "execution_count": 56,
   "id": "8b5ea8a3-8cf6-4770-9b92-bbd29db4fcc4",
   "metadata": {},
   "outputs": [
    {
     "data": {
      "text/plain": [
       "True"
      ]
     },
     "execution_count": 56,
     "metadata": {},
     "output_type": "execute_result"
    }
   ],
   "source": [
    "os.path.exists(path)"
   ]
  },
  {
   "cell_type": "code",
   "execution_count": 58,
   "id": "8f0e3a9f-4ed5-46fd-bbf5-8b103a8e07cc",
   "metadata": {},
   "outputs": [
    {
     "data": {
      "text/plain": [
       "['08_naver,stock_report.ipynb', 'reports']"
      ]
     },
     "execution_count": 58,
     "metadata": {},
     "output_type": "execute_result"
    }
   ],
   "source": [
    "os.listdir()[-2:]"
   ]
  },
  {
   "cell_type": "code",
   "execution_count": 70,
   "id": "acd5aa52-2584-4993-b35b-268f12470a50",
   "metadata": {},
   "outputs": [
    {
     "data": {
      "text/plain": [
       "('AI데이터센터 냉각 시장 공략',\n",
       " 'https://stock.pstatic.net/stock-research/company/34/20240923_company_481199000.pdf')"
      ]
     },
     "execution_count": 70,
     "metadata": {},
     "output_type": "execute_result"
    }
   ],
   "source": [
    "# 1. URL\n",
    "title = df.loc[0, 'title']\n",
    "pdf_link = df.loc[0, 'pdf_link']\n",
    "title, pdf_link"
   ]
  },
  {
   "cell_type": "code",
   "execution_count": 78,
   "id": "1745265c-b96f-45c9-a40e-dc62a2b5c95b",
   "metadata": {},
   "outputs": [
    {
     "data": {
      "text/plain": [
       "<Response [200]>"
      ]
     },
     "execution_count": 78,
     "metadata": {},
     "output_type": "execute_result"
    }
   ],
   "source": [
    "# 2. request(pdf_link) > response(pdf)\n",
    "response = requests.get(pdf_link)\n",
    "response"
   ]
  },
  {
   "cell_type": "code",
   "execution_count": 86,
   "id": "c2d8d8b0-4893-4baf-9a87-4cbc0e73dd7d",
   "metadata": {},
   "outputs": [
    {
     "name": "stdout",
     "output_type": "stream",
     "text": [
      "reports/AI데이터센터 냉각 시장 공략.pdf\n"
     ]
    }
   ],
   "source": [
    "# 3. pdf > save(/reports)\n",
    "filename = f'{path}/{title}.pdf'\n",
    "print(filename)\n",
    "with open(filename, 'wb') as file:\n",
    "    file.write(response.content)"
   ]
  },
  {
   "cell_type": "code",
   "execution_count": 88,
   "id": "baff5524-2c82-4581-9953-ab1d5038dada",
   "metadata": {},
   "outputs": [],
   "source": [
    "# pickle: RAM > SSD :  SSD > RAM"
   ]
  },
  {
   "cell_type": "code",
   "execution_count": 90,
   "id": "f0fa0dda-5be2-45b2-9b96-9e4e421b5609",
   "metadata": {},
   "outputs": [
    {
     "data": {
      "text/plain": [
       "['AI데이터센터 냉각 시장 공략.pdf']"
      ]
     },
     "execution_count": 90,
     "metadata": {},
     "output_type": "execute_result"
    }
   ],
   "source": [
    "os.listdir('reports')"
   ]
  },
  {
   "cell_type": "code",
   "execution_count": 100,
   "id": "709c106b-8756-48e5-a04a-87ba752d2e02",
   "metadata": {},
   "outputs": [],
   "source": [
    "os.makedirs(path)"
   ]
  },
  {
   "cell_type": "code",
   "execution_count": 102,
   "id": "188858ff-302a-410d-931d-c9009ca50189",
   "metadata": {},
   "outputs": [],
   "source": [
    "import shutil\n",
    "shutil.rmtree(path)\n",
    "# os.path.exists(path)\n",
    "os.makedirs(path)"
   ]
  },
  {
   "cell_type": "code",
   "execution_count": 104,
   "id": "458706bc-8bc6-4f12-9c24-c52e2f0f0205",
   "metadata": {},
   "outputs": [
    {
     "name": "stdout",
     "output_type": "stream",
     "text": [
      "0 1 2 3 4 5 6 7 8 9 10 11 12 13 14 15 16 17 18 19 20 21 22 23 24 25 26 27 28 29 "
     ]
    }
   ],
   "source": [
    "for idx, row in df.iterrows():\n",
    "    # print(idx, row['title'], row['pdf_link'])\n",
    "    print(idx, end=' ')\n",
    "    title, pdf_link = row['title'], row['pdf_link']\n",
    "    response = requests.get(pdf_link)\n",
    "    filename = f'{path}/{title}.pdf'\n",
    "    with open(filename, 'wb') as file:\n",
    "        file.write(response.content)"
   ]
  },
  {
   "cell_type": "code",
   "execution_count": 106,
   "id": "ed29c2d4-baeb-4e62-8394-88c685c47887",
   "metadata": {},
   "outputs": [
    {
     "data": {
      "text/plain": [
       "['2024년 3분기 부진 터널 통과해야!.pdf',\n",
       " '3Q24 Preview',\n",
       " '3Q24 일시적인 실적 둔화,  분위기 반전이 필...pdf',\n",
       " '3분기는 비수기, 그러나   주주 가치 환원에 ...pdf',\n",
       " 'AI데이터센터 냉각 시장 공략.pdf',\n",
       " 'Metsera, 너는 계획이 다 있구나.pdf',\n",
       " 'Moment of Truth.pdf',\n",
       " 'Re-rating 구간 돌입.pdf',\n",
       " '가치가 높아지는 F박스와 K패션 해외 진출 수...pdf',\n",
       " '경쟁력 있는 CDMO, 여기에도 있다.pdf',\n",
       " '경쟁사 스트리머 이적, 트래픽 유입 기대.pdf',\n",
       " '경증 아토피 치료의 글로벌  시장 판도를 바...pdf',\n",
       " '금리 하락으로 미국에서 훈풍이 불어온다.pdf',\n",
       " '길어지고 있는 기다림.pdf',\n",
       " '높아지는 Peak sales.pdf',\n",
       " '롯데렌탈의 쏘카 지분 추가취득 당분간 중단.pdf',\n",
       " '미국 타워 판가도 인상.pdf',\n",
       " '빅파마들의 RPT 방향, 우리도 간다.pdf',\n",
       " '설계와 시공능력으로 액침냉각 사업 확대.pdf',\n",
       " '속도가 느려도, 방향성은 맞다.pdf',\n",
       " '액침냉각, 기술적 강점을 확보해 나가는 중.pdf',\n",
       " '엔지니어링 플라스틱 소재 개발 및 고도화로 ...pdf',\n",
       " '엘사.pdf',\n",
       " '의대 열풍, 나만 믿어.pdf',\n",
       " '이튼의 견고한 성장 파트너.pdf',\n",
       " '지속가능한 성장.pdf',\n",
       " '코스닥 방사성의약품 기업으로 진입 .pdf',\n",
       " '콥데이 후기',\n",
       " '확대되는 TROP2 ADC 치료제 시장.pdf',\n",
       " '환율 모멘텀 발생 예상. 자사주 추가 매입 가...pdf']"
      ]
     },
     "execution_count": 106,
     "metadata": {},
     "output_type": "execute_result"
    }
   ],
   "source": [
    "os.listdir(path)"
   ]
  },
  {
   "cell_type": "code",
   "execution_count": null,
   "id": "30a3d760-53d4-426c-9ba2-6716b1ca959c",
   "metadata": {},
   "outputs": [],
   "source": [
    "# tick(java): pdf > text"
   ]
  }
 ],
 "metadata": {
  "kernelspec": {
   "display_name": "Python 3 (ipykernel)",
   "language": "python",
   "name": "python3"
  },
  "language_info": {
   "codemirror_mode": {
    "name": "ipython",
    "version": 3
   },
   "file_extension": ".py",
   "mimetype": "text/x-python",
   "name": "python",
   "nbconvert_exporter": "python",
   "pygments_lexer": "ipython3",
   "version": "3.12.4"
  }
 },
 "nbformat": 4,
 "nbformat_minor": 5
}
