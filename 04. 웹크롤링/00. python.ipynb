{
 "cells": [
  {
   "cell_type": "markdown",
   "id": "a2d2de7b-695c-49ff-85c3-e171c17298bd",
   "metadata": {},
   "source": [
    "# Python\n",
    "- 컴퓨터의 CPU, RAM, SSD를 활용하기 위해서 학습\n",
    "1. 변수선언 : RAM 사용 문법 : 식별자(저장공간을 구분하는 문자열 : PEP20, PEP8(autopep8, flake8)\n",
    "2. 데이터 타입 : RAM 효율적 사용 문법 : int, float, bool, str, list, tuple, dict, set\n",
    "3. 연산자 : CPU 사용 문법: 산술, 비교, 논리, 할당, 멤버 .....\n",
    "4. 조건문, 반복문 : if, elif, else : while, for, break, continue, range() ...\n",
    "5. 함수 : 반복 사용되는 코드를 묶어서 코드 작성 실행 : def, return, scope(global), lambda ...\n",
    "6. 클래스 : 변수, 함수를 묶어서 코드 작성 실행 : class, self, special methods(생성자)\n",
    "7. 모듈 : 변수, 함수, 클래스를 파일로 묶어서 코드 작성 실행 : 확장자 .py\n",
    "8. 패키지 : 여러 개의 모듈을 디렉토리로 묶어서 관리 : 버전정보 : import, from, as\n",
    "9. 입출력 : SSD 사용 문법 : RAM(object) > SSD(file), SSD(file) > RAM(object) : pickle"
   ]
  },
  {
   "cell_type": "code",
   "execution_count": 3,
   "id": "524f8f60-f3b0-4e93-81bf-3a645f766154",
   "metadata": {},
   "outputs": [
    {
     "name": "stdout",
     "output_type": "stream",
     "text": [
      "The Zen of Python, by Tim Peters\n",
      "\n",
      "Beautiful is better than ugly.\n",
      "Explicit is better than implicit.\n",
      "Simple is better than complex.\n",
      "Complex is better than complicated.\n",
      "Flat is better than nested.\n",
      "Sparse is better than dense.\n",
      "Readability counts.\n",
      "Special cases aren't special enough to break the rules.\n",
      "Although practicality beats purity.\n",
      "Errors should never pass silently.\n",
      "Unless explicitly silenced.\n",
      "In the face of ambiguity, refuse the temptation to guess.\n",
      "There should be one-- and preferably only one --obvious way to do it.\n",
      "Although that way may not be obvious at first unless you're Dutch.\n",
      "Now is better than never.\n",
      "Although never is often better than *right* now.\n",
      "If the implementation is hard to explain, it's a bad idea.\n",
      "If the implementation is easy to explain, it may be a good idea.\n",
      "Namespaces are one honking great idea -- let's do more of those!\n"
     ]
    }
   ],
   "source": [
    "# import this"
   ]
  },
  {
   "cell_type": "markdown",
   "id": "c85171f5-86a4-4eae-8e75-8fd1695f6fee",
   "metadata": {},
   "source": [
    "# Class\n",
    "- 변수 함수를 묶어서 코드 작성 실행\n",
    "- 객체지향 구현 : 실제세계를 모델링하여 프로그램을 개발하는 개발 방법론 : 협업이 용이함\n",
    "- 함수 사용 : 함수 선언(코드 작성) > 함수 호출(코드 실행)\n",
    "- 클래스 사용 :\n",
    "      - 클래스 선언(코드 작성) > 객체 생성(메모리 사용)) > 메서드 실행(코드 실행)\n",
    "      - 메서드 : 클래스안에 선언되는 함수\n",
    "- class 식별자: UpperCamelCase, PascalCase(0), snake_case(x: 변수, 함수)"
   ]
  },
  {
   "cell_type": "code",
   "execution_count": 11,
   "id": "452b1346-bece-4b83-8de6-f12bc6136807",
   "metadata": {},
   "outputs": [],
   "source": [
    "# 1. 클래스 선언: 코드 작성\n",
    "# 예금 계좌 : Account : balance, deposit(), withdraw()\n",
    "class Account:\n",
    "    balance = 0\n",
    "    \n",
    "    def deposit(self, amount):\n",
    "        self.balance += amount\n",
    "        \n",
    "    def withdraw(self, amount):\n",
    "        self.balance -= amount"
   ]
  },
  {
   "cell_type": "code",
   "execution_count": 13,
   "id": "0f63c55f-038d-4ae6-bb97-ad44d812982c",
   "metadata": {},
   "outputs": [],
   "source": [
    "# 2. 객체 생성: 메모리 사용\n",
    "acc1 = Account()\n",
    "acc2 = Account()"
   ]
  },
  {
   "cell_type": "code",
   "execution_count": 17,
   "id": "1b80a0c6-b172-4dad-8676-9cbaf2c24861",
   "metadata": {},
   "outputs": [
    {
     "data": {
      "text/plain": [
       "(['balance', 'deposit', 'withdraw'], ['balance', 'deposit', 'withdraw'])"
      ]
     },
     "execution_count": 17,
     "metadata": {},
     "output_type": "execute_result"
    }
   ],
   "source": [
    "# dir(): 객체 안에 들어있는 변수, 함수 목록 출력\n",
    "dir(acc1)[-3:], dir(acc2)[-3:],"
   ]
  },
  {
   "cell_type": "code",
   "execution_count": 21,
   "id": "1a505ae5-a293-4ce8-83fa-becc0016d621",
   "metadata": {},
   "outputs": [
    {
     "data": {
      "text/plain": [
       "(0, 0)"
      ]
     },
     "execution_count": 21,
     "metadata": {},
     "output_type": "execute_result"
    }
   ],
   "source": [
    "acc1.balance, acc2.balance"
   ]
  },
  {
   "cell_type": "code",
   "execution_count": 23,
   "id": "2db070ec-c34f-4477-a63c-84f4cd7b7024",
   "metadata": {},
   "outputs": [],
   "source": [
    "acc1.balance = 1000"
   ]
  },
  {
   "cell_type": "code",
   "execution_count": 25,
   "id": "4d901dbc-5a94-43cf-8fa6-f0c413ec71ea",
   "metadata": {},
   "outputs": [
    {
     "data": {
      "text/plain": [
       "(1000, 0)"
      ]
     },
     "execution_count": 25,
     "metadata": {},
     "output_type": "execute_result"
    }
   ],
   "source": [
    "acc1.balance, acc2.balance"
   ]
  },
  {
   "cell_type": "code",
   "execution_count": 27,
   "id": "f72bd007-df17-445d-bd7c-b7e680daf270",
   "metadata": {},
   "outputs": [
    {
     "data": {
      "text/plain": [
       "(1000, 0)"
      ]
     },
     "execution_count": 27,
     "metadata": {},
     "output_type": "execute_result"
    }
   ],
   "source": [
    "# 3. 메서드 실행: 코드 실행\n",
    "acc1.balance, acc2.balance"
   ]
  },
  {
   "cell_type": "code",
   "execution_count": 29,
   "id": "da4a4c72-6772-4e4d-85a4-55a1be6c136b",
   "metadata": {},
   "outputs": [],
   "source": [
    "acc1.withdraw(600)\n",
    "acc2.deposit(3000)"
   ]
  },
  {
   "cell_type": "code",
   "execution_count": 31,
   "id": "2a863487-5279-465c-b8a8-cdef3b0bc77d",
   "metadata": {},
   "outputs": [
    {
     "data": {
      "text/plain": [
       "(400, 3000)"
      ]
     },
     "execution_count": 31,
     "metadata": {},
     "output_type": "execute_result"
    }
   ],
   "source": [
    "acc1.balance, acc2.balance"
   ]
  },
  {
   "cell_type": "code",
   "execution_count": 33,
   "id": "0ab470f4-b2db-4c12-a809-a39cda029383",
   "metadata": {},
   "outputs": [],
   "source": [
    "# pandas DataFrame\n",
    "# 클래스 선언(다른 사람) > 객체 생성(사용 1) > 메서드 호출(사용2)"
   ]
  },
  {
   "cell_type": "code",
   "execution_count": 35,
   "id": "a7b27eea-0513-4bad-bc47-bc06d785df9c",
   "metadata": {},
   "outputs": [],
   "source": [
    "# 1. 클래스 선언: 다른 사람이 만든 클래스 가져옴\n",
    "import pandas as pd"
   ]
  },
  {
   "cell_type": "code",
   "execution_count": 41,
   "id": "903e6007-1e77-4aa1-9264-585ea729ed7c",
   "metadata": {},
   "outputs": [
    {
     "data": {
      "text/html": [
       "<div>\n",
       "<style scoped>\n",
       "    .dataframe tbody tr th:only-of-type {\n",
       "        vertical-align: middle;\n",
       "    }\n",
       "\n",
       "    .dataframe tbody tr th {\n",
       "        vertical-align: top;\n",
       "    }\n",
       "\n",
       "    .dataframe thead th {\n",
       "        text-align: right;\n",
       "    }\n",
       "</style>\n",
       "<table border=\"1\" class=\"dataframe\">\n",
       "  <thead>\n",
       "    <tr style=\"text-align: right;\">\n",
       "      <th></th>\n",
       "      <th>id</th>\n",
       "      <th>name</th>\n",
       "    </tr>\n",
       "  </thead>\n",
       "  <tbody>\n",
       "    <tr>\n",
       "      <th>0</th>\n",
       "      <td>1</td>\n",
       "      <td>A</td>\n",
       "    </tr>\n",
       "    <tr>\n",
       "      <th>1</th>\n",
       "      <td>2</td>\n",
       "      <td>B</td>\n",
       "    </tr>\n",
       "    <tr>\n",
       "      <th>2</th>\n",
       "      <td>3</td>\n",
       "      <td>C</td>\n",
       "    </tr>\n",
       "  </tbody>\n",
       "</table>\n",
       "</div>"
      ],
      "text/plain": [
       "  id name\n",
       "0  1    A\n",
       "1  2    B\n",
       "2  3    C"
      ]
     },
     "execution_count": 41,
     "metadata": {},
     "output_type": "execute_result"
    }
   ],
   "source": [
    "# 2. 객체 생성\n",
    "df = pd.DataFrame({'id': list('123'), 'name': list('ABC')})\n",
    "df"
   ]
  },
  {
   "cell_type": "code",
   "execution_count": 43,
   "id": "d2c4d4f1-41b1-4622-b508-ad59d98720ab",
   "metadata": {},
   "outputs": [
    {
     "data": {
      "text/plain": [
       "['T',\n",
       " '_AXIS_LEN',\n",
       " '_AXIS_ORDERS',\n",
       " '_AXIS_TO_AXIS_NUMBER',\n",
       " '_HANDLED_TYPES',\n",
       " '__abs__',\n",
       " '__add__',\n",
       " '__and__',\n",
       " '__annotations__',\n",
       " '__array__',\n",
       " '__array_priority__',\n",
       " '__array_ufunc__',\n",
       " '__arrow_c_stream__',\n",
       " '__bool__',\n",
       " '__class__',\n",
       " '__contains__',\n",
       " '__copy__',\n",
       " '__dataframe__',\n",
       " '__dataframe_consortium_standard__',\n",
       " '__deepcopy__',\n",
       " '__delattr__',\n",
       " '__delitem__',\n",
       " '__dict__',\n",
       " '__dir__',\n",
       " '__divmod__',\n",
       " '__doc__',\n",
       " '__eq__',\n",
       " '__finalize__',\n",
       " '__floordiv__',\n",
       " '__format__',\n",
       " '__ge__',\n",
       " '__getattr__',\n",
       " '__getattribute__',\n",
       " '__getitem__',\n",
       " '__getstate__',\n",
       " '__gt__',\n",
       " '__hash__',\n",
       " '__iadd__',\n",
       " '__iand__',\n",
       " '__ifloordiv__',\n",
       " '__imod__',\n",
       " '__imul__',\n",
       " '__init__',\n",
       " '__init_subclass__',\n",
       " '__invert__',\n",
       " '__ior__',\n",
       " '__ipow__',\n",
       " '__isub__',\n",
       " '__iter__',\n",
       " '__itruediv__',\n",
       " '__ixor__',\n",
       " '__le__',\n",
       " '__len__',\n",
       " '__lt__',\n",
       " '__matmul__',\n",
       " '__mod__',\n",
       " '__module__',\n",
       " '__mul__',\n",
       " '__ne__',\n",
       " '__neg__',\n",
       " '__new__',\n",
       " '__nonzero__',\n",
       " '__or__',\n",
       " '__pandas_priority__',\n",
       " '__pos__',\n",
       " '__pow__',\n",
       " '__radd__',\n",
       " '__rand__',\n",
       " '__rdivmod__',\n",
       " '__reduce__',\n",
       " '__reduce_ex__',\n",
       " '__repr__',\n",
       " '__rfloordiv__',\n",
       " '__rmatmul__',\n",
       " '__rmod__',\n",
       " '__rmul__',\n",
       " '__ror__',\n",
       " '__round__',\n",
       " '__rpow__',\n",
       " '__rsub__',\n",
       " '__rtruediv__',\n",
       " '__rxor__',\n",
       " '__setattr__',\n",
       " '__setitem__',\n",
       " '__setstate__',\n",
       " '__sizeof__',\n",
       " '__str__',\n",
       " '__sub__',\n",
       " '__subclasshook__',\n",
       " '__truediv__',\n",
       " '__weakref__',\n",
       " '__xor__',\n",
       " '_accessors',\n",
       " '_accum_func',\n",
       " '_agg_examples_doc',\n",
       " '_agg_see_also_doc',\n",
       " '_align_for_op',\n",
       " '_align_frame',\n",
       " '_align_series',\n",
       " '_append',\n",
       " '_arith_method',\n",
       " '_arith_method_with_reindex',\n",
       " '_as_manager',\n",
       " '_attrs',\n",
       " '_box_col_values',\n",
       " '_can_fast_transpose',\n",
       " '_check_inplace_and_allows_duplicate_labels',\n",
       " '_check_is_chained_assignment_possible',\n",
       " '_check_label_or_level_ambiguity',\n",
       " '_check_setitem_copy',\n",
       " '_clear_item_cache',\n",
       " '_clip_with_one_bound',\n",
       " '_clip_with_scalar',\n",
       " '_cmp_method',\n",
       " '_combine_frame',\n",
       " '_consolidate',\n",
       " '_consolidate_inplace',\n",
       " '_construct_axes_dict',\n",
       " '_construct_result',\n",
       " '_constructor',\n",
       " '_constructor_from_mgr',\n",
       " '_constructor_sliced',\n",
       " '_constructor_sliced_from_mgr',\n",
       " '_create_data_for_split_and_tight_to_dict',\n",
       " '_data',\n",
       " '_deprecate_downcast',\n",
       " '_dir_additions',\n",
       " '_dir_deletions',\n",
       " '_dispatch_frame_op',\n",
       " '_drop_axis',\n",
       " '_drop_labels_or_levels',\n",
       " '_ensure_valid_index',\n",
       " '_find_valid_index',\n",
       " '_flags',\n",
       " '_flex_arith_method',\n",
       " '_flex_cmp_method',\n",
       " '_from_arrays',\n",
       " '_from_mgr',\n",
       " '_get_agg_axis',\n",
       " '_get_axis',\n",
       " '_get_axis_name',\n",
       " '_get_axis_number',\n",
       " '_get_axis_resolvers',\n",
       " '_get_block_manager_axis',\n",
       " '_get_bool_data',\n",
       " '_get_cleaned_column_resolvers',\n",
       " '_get_column_array',\n",
       " '_get_index_resolvers',\n",
       " '_get_item_cache',\n",
       " '_get_label_or_level_values',\n",
       " '_get_numeric_data',\n",
       " '_get_value',\n",
       " '_get_values_for_csv',\n",
       " '_getitem_bool_array',\n",
       " '_getitem_multilevel',\n",
       " '_getitem_nocopy',\n",
       " '_getitem_slice',\n",
       " '_gotitem',\n",
       " '_hidden_attrs',\n",
       " '_indexed_same',\n",
       " '_info_axis',\n",
       " '_info_axis_name',\n",
       " '_info_axis_number',\n",
       " '_info_repr',\n",
       " '_init_mgr',\n",
       " '_inplace_method',\n",
       " '_internal_names',\n",
       " '_internal_names_set',\n",
       " '_is_copy',\n",
       " '_is_homogeneous_type',\n",
       " '_is_label_or_level_reference',\n",
       " '_is_label_reference',\n",
       " '_is_level_reference',\n",
       " '_is_mixed_type',\n",
       " '_is_view',\n",
       " '_is_view_after_cow_rules',\n",
       " '_iset_item',\n",
       " '_iset_item_mgr',\n",
       " '_iset_not_inplace',\n",
       " '_item_cache',\n",
       " '_iter_column_arrays',\n",
       " '_ixs',\n",
       " '_logical_func',\n",
       " '_logical_method',\n",
       " '_maybe_align_series_as_frame',\n",
       " '_maybe_cache_changed',\n",
       " '_maybe_update_cacher',\n",
       " '_metadata',\n",
       " '_mgr',\n",
       " '_min_count_stat_function',\n",
       " '_needs_reindex_multi',\n",
       " '_pad_or_backfill',\n",
       " '_protect_consolidate',\n",
       " '_reduce',\n",
       " '_reduce_axis1',\n",
       " '_reindex_axes',\n",
       " '_reindex_multi',\n",
       " '_reindex_with_indexers',\n",
       " '_rename',\n",
       " '_replace_columnwise',\n",
       " '_repr_data_resource_',\n",
       " '_repr_fits_horizontal_',\n",
       " '_repr_fits_vertical_',\n",
       " '_repr_html_',\n",
       " '_repr_latex_',\n",
       " '_reset_cache',\n",
       " '_reset_cacher',\n",
       " '_sanitize_column',\n",
       " '_series',\n",
       " '_set_axis',\n",
       " '_set_axis_name',\n",
       " '_set_axis_nocheck',\n",
       " '_set_is_copy',\n",
       " '_set_item',\n",
       " '_set_item_frame_value',\n",
       " '_set_item_mgr',\n",
       " '_set_value',\n",
       " '_setitem_array',\n",
       " '_setitem_frame',\n",
       " '_setitem_slice',\n",
       " '_shift_with_freq',\n",
       " '_should_reindex_frame_op',\n",
       " '_slice',\n",
       " '_stat_function',\n",
       " '_stat_function_ddof',\n",
       " '_take_with_is_copy',\n",
       " '_to_dict_of_blocks',\n",
       " '_to_latex_via_styler',\n",
       " '_typ',\n",
       " '_update_inplace',\n",
       " '_validate_dtype',\n",
       " '_values',\n",
       " '_where',\n",
       " 'abs',\n",
       " 'add',\n",
       " 'add_prefix',\n",
       " 'add_suffix',\n",
       " 'agg',\n",
       " 'aggregate',\n",
       " 'align',\n",
       " 'all',\n",
       " 'any',\n",
       " 'apply',\n",
       " 'applymap',\n",
       " 'asfreq',\n",
       " 'asof',\n",
       " 'assign',\n",
       " 'astype',\n",
       " 'at',\n",
       " 'at_time',\n",
       " 'attrs',\n",
       " 'axes',\n",
       " 'backfill',\n",
       " 'between_time',\n",
       " 'bfill',\n",
       " 'bool',\n",
       " 'boxplot',\n",
       " 'clip',\n",
       " 'columns',\n",
       " 'combine',\n",
       " 'combine_first',\n",
       " 'compare',\n",
       " 'convert_dtypes',\n",
       " 'copy',\n",
       " 'corr',\n",
       " 'corrwith',\n",
       " 'count',\n",
       " 'cov',\n",
       " 'cummax',\n",
       " 'cummin',\n",
       " 'cumprod',\n",
       " 'cumsum',\n",
       " 'describe',\n",
       " 'diff',\n",
       " 'div',\n",
       " 'divide',\n",
       " 'dot',\n",
       " 'drop',\n",
       " 'drop_duplicates',\n",
       " 'droplevel',\n",
       " 'dropna',\n",
       " 'dtypes',\n",
       " 'duplicated',\n",
       " 'empty',\n",
       " 'eq',\n",
       " 'equals',\n",
       " 'eval',\n",
       " 'ewm',\n",
       " 'expanding',\n",
       " 'explode',\n",
       " 'ffill',\n",
       " 'fillna',\n",
       " 'filter',\n",
       " 'first',\n",
       " 'first_valid_index',\n",
       " 'flags',\n",
       " 'floordiv',\n",
       " 'from_dict',\n",
       " 'from_records',\n",
       " 'ge',\n",
       " 'get',\n",
       " 'groupby',\n",
       " 'gt',\n",
       " 'head',\n",
       " 'hist',\n",
       " 'iat',\n",
       " 'id',\n",
       " 'idxmax',\n",
       " 'idxmin',\n",
       " 'iloc',\n",
       " 'index',\n",
       " 'infer_objects',\n",
       " 'info',\n",
       " 'insert',\n",
       " 'interpolate',\n",
       " 'isetitem',\n",
       " 'isin',\n",
       " 'isna',\n",
       " 'isnull',\n",
       " 'items',\n",
       " 'iterrows',\n",
       " 'itertuples',\n",
       " 'join',\n",
       " 'keys',\n",
       " 'kurt',\n",
       " 'kurtosis',\n",
       " 'last',\n",
       " 'last_valid_index',\n",
       " 'le',\n",
       " 'loc',\n",
       " 'lt',\n",
       " 'map',\n",
       " 'mask',\n",
       " 'max',\n",
       " 'mean',\n",
       " 'median',\n",
       " 'melt',\n",
       " 'memory_usage',\n",
       " 'merge',\n",
       " 'min',\n",
       " 'mod',\n",
       " 'mode',\n",
       " 'mul',\n",
       " 'multiply',\n",
       " 'name',\n",
       " 'ndim',\n",
       " 'ne',\n",
       " 'nlargest',\n",
       " 'notna',\n",
       " 'notnull',\n",
       " 'nsmallest',\n",
       " 'nunique',\n",
       " 'pad',\n",
       " 'pct_change',\n",
       " 'pipe',\n",
       " 'pivot',\n",
       " 'pivot_table',\n",
       " 'plot',\n",
       " 'pop',\n",
       " 'pow',\n",
       " 'prod',\n",
       " 'product',\n",
       " 'quantile',\n",
       " 'query',\n",
       " 'radd',\n",
       " 'rank',\n",
       " 'rdiv',\n",
       " 'reindex',\n",
       " 'reindex_like',\n",
       " 'rename',\n",
       " 'rename_axis',\n",
       " 'reorder_levels',\n",
       " 'replace',\n",
       " 'resample',\n",
       " 'reset_index',\n",
       " 'rfloordiv',\n",
       " 'rmod',\n",
       " 'rmul',\n",
       " 'rolling',\n",
       " 'round',\n",
       " 'rpow',\n",
       " 'rsub',\n",
       " 'rtruediv',\n",
       " 'sample',\n",
       " 'select_dtypes',\n",
       " 'sem',\n",
       " 'set_axis',\n",
       " 'set_flags',\n",
       " 'set_index',\n",
       " 'shape',\n",
       " 'shift',\n",
       " 'size',\n",
       " 'skew',\n",
       " 'sort_index',\n",
       " 'sort_values',\n",
       " 'squeeze',\n",
       " 'stack',\n",
       " 'std',\n",
       " 'style',\n",
       " 'sub',\n",
       " 'subtract',\n",
       " 'sum',\n",
       " 'swapaxes',\n",
       " 'swaplevel',\n",
       " 'tail',\n",
       " 'take',\n",
       " 'to_clipboard',\n",
       " 'to_csv',\n",
       " 'to_dict',\n",
       " 'to_excel',\n",
       " 'to_feather',\n",
       " 'to_gbq',\n",
       " 'to_hdf',\n",
       " 'to_html',\n",
       " 'to_json',\n",
       " 'to_latex',\n",
       " 'to_markdown',\n",
       " 'to_numpy',\n",
       " 'to_orc',\n",
       " 'to_parquet',\n",
       " 'to_period',\n",
       " 'to_pickle',\n",
       " 'to_records',\n",
       " 'to_sql',\n",
       " 'to_stata',\n",
       " 'to_string',\n",
       " 'to_timestamp',\n",
       " 'to_xarray',\n",
       " 'to_xml',\n",
       " 'transform',\n",
       " 'transpose',\n",
       " 'truediv',\n",
       " 'truncate',\n",
       " 'tz_convert',\n",
       " 'tz_localize',\n",
       " 'unstack',\n",
       " 'update',\n",
       " 'value_counts',\n",
       " 'values',\n",
       " 'var',\n",
       " 'where',\n",
       " 'xs']"
      ]
     },
     "execution_count": 43,
     "metadata": {},
     "output_type": "execute_result"
    }
   ],
   "source": [
    "# 3. 메서드 호출\n",
    "dir(df)"
   ]
  },
  {
   "cell_type": "code",
   "execution_count": 45,
   "id": "8ceafaad-6c46-4cc5-bc77-2ca38e0f974d",
   "metadata": {},
   "outputs": [
    {
     "data": {
      "text/plain": [
       "id      123\n",
       "name    ABC\n",
       "dtype: object"
      ]
     },
     "execution_count": 45,
     "metadata": {},
     "output_type": "execute_result"
    }
   ],
   "source": [
    "df.sum()"
   ]
  },
  {
   "cell_type": "code",
   "execution_count": 47,
   "id": "32856df5-f598-4878-a148-f8de7afbc022",
   "metadata": {},
   "outputs": [],
   "source": [
    "# 변수, 함수는 둘 다 객체이다.\n",
    "# 클래스는 사용자정의 데이터타입 입니다. "
   ]
  },
  {
   "cell_type": "code",
   "execution_count": 49,
   "id": "e4f6018a-736b-40f1-9ec7-74425ac3ba96",
   "metadata": {},
   "outputs": [
    {
     "data": {
      "text/plain": [
       "__main__.Account"
      ]
     },
     "execution_count": 49,
     "metadata": {},
     "output_type": "execute_result"
    }
   ],
   "source": [
    "# acc 객체 클래스 : Account\n",
    "# acc 객체 데이터타입 : Account\n",
    "# > 클래스는 데이터타입 입니다.\n",
    "# Account 클래스는 우리가 만듦: 사용자 정의\n",
    "# > 클래스는 사용자 정의 데이터타입 입니다. \n",
    "acc = Account()\n",
    "type(acc)"
   ]
  },
  {
   "cell_type": "code",
   "execution_count": 51,
   "id": "1293c2e7-0d14-4e55-b51e-83b482a49298",
   "metadata": {},
   "outputs": [
    {
     "data": {
      "text/plain": [
       "str"
      ]
     },
     "execution_count": 51,
     "metadata": {},
     "output_type": "execute_result"
    }
   ],
   "source": [
    "# data1 객체 데이터타입: str\n",
    "# data1 객체 클래스: str: upper(), lower(), join() .. \n",
    "data1 = 'python'\n",
    "type(data1)"
   ]
  },
  {
   "cell_type": "code",
   "execution_count": 55,
   "id": "b6b4557e-a7d8-4435-804e-6859931bb258",
   "metadata": {},
   "outputs": [
    {
     "data": {
      "text/plain": [
       "list"
      ]
     },
     "execution_count": 55,
     "metadata": {},
     "output_type": "execute_result"
    }
   ],
   "source": [
    "# data2 객체 데이터타입, 클래스: list\n",
    "data2 = [1, 3, 2]\n",
    "type(data2)"
   ]
  },
  {
   "cell_type": "code",
   "execution_count": 57,
   "id": "37a5e23b-b0d6-4c47-a307-95217e112d47",
   "metadata": {},
   "outputs": [
    {
     "data": {
      "text/plain": [
       "['translate', 'upper', 'zfill']"
      ]
     },
     "execution_count": 57,
     "metadata": {},
     "output_type": "execute_result"
    }
   ],
   "source": [
    "dir(data1)[-3:]"
   ]
  },
  {
   "cell_type": "code",
   "execution_count": null,
   "id": "e6a40aeb-e7ce-4bd8-b3f8-97664397b284",
   "metadata": {},
   "outputs": [],
   "source": [
    "# help(data2.sort)"
   ]
  },
  {
   "cell_type": "code",
   "execution_count": null,
   "id": "e678a969-f2ca-4387-90c7-d697d380e6b8",
   "metadata": {},
   "outputs": [],
   "source": [
    "# > 객체는 어떤 데이터타입(클래스)인지에 따라서 사용가능한 변수, 메서드가 달라집니다."
   ]
  },
  {
   "cell_type": "code",
   "execution_count": 53,
   "id": "92417ade-df9f-4f75-9e35-b4f315085951",
   "metadata": {},
   "outputs": [
    {
     "data": {
      "text/plain": [
       "(numpy.ndarray, array([1, 2, 3]))"
      ]
     },
     "execution_count": 53,
     "metadata": {},
     "output_type": "execute_result"
    }
   ],
   "source": [
    "import numpy as np\n",
    "arr = np.array([1, 2, 3])\n",
    "type(arr), arr"
   ]
  },
  {
   "cell_type": "code",
   "execution_count": 59,
   "id": "0ec09b67-56c8-44e8-b058-4377c123773e",
   "metadata": {},
   "outputs": [],
   "source": [
    "# 변수, 함수는 둘다 객체입니다.\n",
    "data = 1"
   ]
  },
  {
   "cell_type": "code",
   "execution_count": 61,
   "id": "acd36808-f9ca-4941-a515-3084225b9abc",
   "metadata": {},
   "outputs": [],
   "source": [
    "def plus():\n",
    "    return 1 + 2"
   ]
  },
  {
   "cell_type": "code",
   "execution_count": 63,
   "id": "24f0711c-7c71-4a4a-af55-b2a8fc61605e",
   "metadata": {},
   "outputs": [
    {
     "data": {
      "text/plain": [
       "(int, function)"
      ]
     },
     "execution_count": 63,
     "metadata": {},
     "output_type": "execute_result"
    }
   ],
   "source": [
    "type(data), type(plus)"
   ]
  },
  {
   "cell_type": "code",
   "execution_count": 65,
   "id": "8ea85eb9-a192-4e85-9a2a-86a93a3ef9c9",
   "metadata": {},
   "outputs": [
    {
     "name": "stdout",
     "output_type": "stream",
     "text": [
      "Variable               Type         Data/Info\n",
      "---------------------------------------------\n",
      "Account                type         <class '__main__.Account'>\n",
      "acc                    Account      <__main__.Account object at 0x000001F3EE47BEC0>\n",
      "acc1                   Account      <__main__.Account object at 0x000001F3ED6069F0>\n",
      "acc2                   Account      <__main__.Account object at 0x000001F3ED825BB0>\n",
      "arr                    ndarray      3: 3 elems, type `int32`, 12 bytes\n",
      "data                   int          1\n",
      "data1                  str          python\n",
      "data2                  list         n=3\n",
      "dataframe_columns      function     <function dataframe_colum<...>ns at 0x000001F3EE487420>\n",
      "dataframe_hash         function     <function dataframe_hash at 0x000001F3EE4874C0>\n",
      "df                     DataFrame      id name\\n0  1    A\\n1  2    B\\n2  3    C\n",
      "dtypes_str             function     <function dtypes_str at 0x000001F3EE4876A0>\n",
      "get_dataframes         function     <function get_dataframes at 0x000001F3F3651C60>\n",
      "getpass                module       <module 'getpass' from 'C<...>conda3\\\\Lib\\\\getpass.py'>\n",
      "hashlib                module       <module 'hashlib' from 'C<...>conda3\\\\Lib\\\\hashlib.py'>\n",
      "import_pandas_safely   function     <function import_pandas_s<...>ly at 0x000001F3F3653F60>\n",
      "is_data_frame          function     <function is_data_frame at 0x000001F3ECD4B9C0>\n",
      "json                   module       <module 'json' from 'C:\\\\<...>\\Lib\\\\json\\\\__init__.py'>\n",
      "np                     module       <module 'numpy' from 'C:\\<...>ges\\\\numpy\\\\__init__.py'>\n",
      "pd                     module       <module 'pandas' from 'C:<...>es\\\\pandas\\\\__init__.py'>\n",
      "plus                   function     <function plus at 0x000001F3F36511C0>\n",
      "this                   module       <module 'this' from 'C:\\\\<...>anaconda3\\\\Lib\\\\this.py'>\n"
     ]
    }
   ],
   "source": [
    "# 현재 선언된 객체 목록 출력\n",
    "%whos"
   ]
  },
  {
   "cell_type": "code",
   "execution_count": 67,
   "id": "1eefa414-7801-43c9-a273-17459a2a17a7",
   "metadata": {},
   "outputs": [],
   "source": [
    "# special methods\n",
    "# - 특별한 기능을 하는 메서드\n",
    "# - 앞뒤로 __가 붙은 메서드\n",
    "# - 대표적으로 생성자 메서드"
   ]
  },
  {
   "cell_type": "code",
   "execution_count": null,
   "id": "eb1699c5-1179-4fab-837a-285bc981ed91",
   "metadata": {},
   "outputs": [],
   "source": [
    "# 생성자 메서드: __init__(self)\n",
    "# - 특별한 기능: 객체 생성시 실행되는 메서드"
   ]
  },
  {
   "cell_type": "code",
   "execution_count": 77,
   "id": "670f4ed2-9753-4be6-9a93-fc349b57dafb",
   "metadata": {},
   "outputs": [],
   "source": [
    "# 클래스 선언\n",
    "class Account:\n",
    "    # 생성자 메서드: 메서드에서 사용되는 변수의 초기값 설정하는 용도 사용\n",
    "    def __init__(self, balance):\n",
    "        self.balance = balance\n",
    "    \n",
    "    def deposit(self, amount):\n",
    "        self.balance += amount\n",
    "        \n",
    "    def withdraw(self, amount):\n",
    "        self.balance -= amount"
   ]
  },
  {
   "cell_type": "code",
   "execution_count": 85,
   "id": "54e5e7ef-768e-4c4e-8caf-8480e4dcc2a6",
   "metadata": {},
   "outputs": [],
   "source": [
    "# 객체 생성: 메모리 사용: 원자재사용\n",
    "acc = Account(1000)"
   ]
  },
  {
   "cell_type": "code",
   "execution_count": 83,
   "id": "64b87654-2b1a-4fb9-af22-4fc208e6c934",
   "metadata": {},
   "outputs": [],
   "source": [
    "# 메서드 호출: 불량품 생산\n",
    "acc.deposit(1000)"
   ]
  },
  {
   "cell_type": "code",
   "execution_count": 75,
   "id": "8472556e-1954-40ea-9cad-339f91cdf60b",
   "metadata": {},
   "outputs": [
    {
     "data": {
      "text/plain": [
       "1000"
      ]
     },
     "execution_count": 75,
     "metadata": {},
     "output_type": "execute_result"
    }
   ],
   "source": [
    "acc.balance"
   ]
  },
  {
   "cell_type": "code",
   "execution_count": 87,
   "id": "1d47528f-abab-42ce-ba42-6e6f78a57dda",
   "metadata": {},
   "outputs": [],
   "source": [
    "# mangling(private variable), getter, setter 내용을 같이"
   ]
  },
  {
   "cell_type": "code",
   "execution_count": 89,
   "id": "ae0912a4-7bfb-4df5-b20d-1e3b07c21142",
   "metadata": {},
   "outputs": [],
   "source": [
    "d1, d2 = 1, 2\n",
    "d3, d4 = '3', '4'"
   ]
  },
  {
   "cell_type": "code",
   "execution_count": 91,
   "id": "2ec44dcc-bc1a-4ac0-b77f-fd117e90311e",
   "metadata": {},
   "outputs": [
    {
     "data": {
      "text/plain": [
       "(int, int, str, str)"
      ]
     },
     "execution_count": 91,
     "metadata": {},
     "output_type": "execute_result"
    }
   ],
   "source": [
    "type(d1), type(d2), type(d3), type(d4)"
   ]
  },
  {
   "cell_type": "code",
   "execution_count": 93,
   "id": "6a65bcef-6d18-4c8d-b4d6-529b77e39fcd",
   "metadata": {},
   "outputs": [
    {
     "data": {
      "text/plain": [
       "(3, '34')"
      ]
     },
     "execution_count": 93,
     "metadata": {},
     "output_type": "execute_result"
    }
   ],
   "source": [
    "# 데이터 타입이 다르면 같은 연산자라도 다르게 연산 수행 됩니다.\n",
    "d1 + d2, d3 + d4"
   ]
  },
  {
   "cell_type": "code",
   "execution_count": 97,
   "id": "2e026ede-7476-4d7a-b127-60267e45c450",
   "metadata": {},
   "outputs": [
    {
     "data": {
      "text/plain": [
       "3"
      ]
     },
     "execution_count": 97,
     "metadata": {},
     "output_type": "execute_result"
    }
   ],
   "source": [
    "# __add__: + 연산자에 대한 코드 정의\n",
    "d1.__add__(d2) # int 클래스의 __add__() 메서드 호출"
   ]
  },
  {
   "cell_type": "code",
   "execution_count": 101,
   "id": "5e9d7a11-da2e-43b6-8592-b24150415a62",
   "metadata": {},
   "outputs": [
    {
     "data": {
      "text/plain": [
       "'34'"
      ]
     },
     "execution_count": 101,
     "metadata": {},
     "output_type": "execute_result"
    }
   ],
   "source": [
    "# dir(d3)\n",
    "d3.__add__(d4) # str 클래스의 __add__() 메서드 호출"
   ]
  },
  {
   "cell_type": "code",
   "execution_count": 111,
   "id": "4723a4bf-c9b4-4bf2-b047-f16878f23f74",
   "metadata": {},
   "outputs": [],
   "source": [
    "class Number:\n",
    "    def __init__(self, data):\n",
    "        self.data = data\n",
    "    def __add__(self, obj):\n",
    "        self.data -= obj.data\n",
    "        return self.data"
   ]
  },
  {
   "cell_type": "code",
   "execution_count": 113,
   "id": "d001af05-91e9-4da6-a387-79d7bcd0e6b9",
   "metadata": {},
   "outputs": [],
   "source": [
    "num1 = Number(3)\n",
    "num2 = Number(2)"
   ]
  },
  {
   "cell_type": "code",
   "execution_count": 115,
   "id": "1fec73f8-45d2-4775-aa08-820189e722b2",
   "metadata": {},
   "outputs": [
    {
     "data": {
      "text/plain": [
       "1"
      ]
     },
     "execution_count": 115,
     "metadata": {},
     "output_type": "execute_result"
    }
   ],
   "source": [
    "num1 + num2"
   ]
  },
  {
   "cell_type": "code",
   "execution_count": null,
   "id": "752c4051-5065-48bf-a355-8a73b5fa4d78",
   "metadata": {},
   "outputs": [],
   "source": [
    "class Number:\n",
    "    def __init__(self, data):\n",
    "        self.data = data\n",
    "    def __add__(self, obj):\n",
    "        self.data -= obj.data\n",
    "        return self.data"
   ]
  }
 ],
 "metadata": {
  "kernelspec": {
   "display_name": "Python 3 (ipykernel)",
   "language": "python",
   "name": "python3"
  },
  "language_info": {
   "codemirror_mode": {
    "name": "ipython",
    "version": 3
   },
   "file_extension": ".py",
   "mimetype": "text/x-python",
   "name": "python",
   "nbconvert_exporter": "python",
   "pygments_lexer": "ipython3",
   "version": "3.12.4"
  }
 },
 "nbformat": 4,
 "nbformat_minor": 5
}
