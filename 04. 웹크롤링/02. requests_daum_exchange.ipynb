{
 "cells": [
  {
   "cell_type": "markdown",
   "id": "ce44dd79",
   "metadata": {},
   "source": [
    "### Daum Exchange\n",
    "- `https://finance.daum.net`\n",
    "- status code: 4xx\n",
    "- setting headers"
   ]
  },
  {
   "cell_type": "code",
   "execution_count": 2,
   "id": "bcf5c3fb",
   "metadata": {},
   "outputs": [],
   "source": [
    "import requests\n",
    "import pandas as pd"
   ]
  },
  {
   "cell_type": "code",
   "execution_count": 10,
   "id": "9aa2adc8-dd4b-49a6-9e65-36748ccbf381",
   "metadata": {},
   "outputs": [],
   "source": [
    "# URL \n",
    "url = 'https://finance.daum.net/api/exchanges/summaries'"
   ]
  },
  {
   "cell_type": "code",
   "execution_count": 22,
   "id": "935ab38c-aa99-4381-9a08-6537d4281118",
   "metadata": {},
   "outputs": [
    {
     "data": {
      "text/plain": [
       "<Response [200]>"
      ]
     },
     "execution_count": 22,
     "metadata": {},
     "output_type": "execute_result"
    }
   ],
   "source": [
    "# request(url) > response(json)\n",
    "headers = {'user-agent': 'Mozilla/5.0 (Windows NT 10.0; Win64; x64) AppleWebKit/537.36 (KHTML, like Gecko) Chrome/129.0.0.0 Safari/537.36',\n",
    "          'referer': 'https://finance.daum.net/exchanges'}\n",
    "response = requests.get(url, headers=headers)\n",
    "response"
   ]
  },
  {
   "cell_type": "code",
   "execution_count": 26,
   "id": "35316aef-1ab2-4533-8285-81eafaab5c3d",
   "metadata": {},
   "outputs": [
    {
     "data": {
      "text/plain": [
       "'{\"data\":[{\"symbolCode\":\"FRX.KRWUSD\",\"date\":\"2024-09-20 11:56:00\",\"currencyCode\":\"USD\",\"currencyName\":\"달러\",\"currencyUnit\":1,\"country\":\"미국\",\"region\":{\"korName\":\"아메리카\",\"engName\":\"America\"},\"name\":\"미국 (USD/KRW)\",\"recurrenceCount\":267,\"basePrice\":1331.200,\"change\":\"RISE\",\"changePrice\":1.200,\"changeRate\":9.022556E-4,\"ttBuyingPrice\":1318.200,\"ttSellingPrice\":1344.200,\"cashBuyingPrice\":1354.490,\"cashSellingPrice\":1307.910,\"tcBuyingPrice\":null,\"fcSellingPrice\":null,\"exchangeCommission\":6.7699100000,\"usDo'"
      ]
     },
     "execution_count": 26,
     "metadata": {},
     "output_type": "execute_result"
    }
   ],
   "source": [
    "response.text[:500]"
   ]
  },
  {
   "cell_type": "code",
   "execution_count": 36,
   "id": "4f4060ab-b678-49bb-8ec2-2c58ab1b065d",
   "metadata": {},
   "outputs": [
    {
     "data": {
      "text/html": [
       "<div>\n",
       "<style scoped>\n",
       "    .dataframe tbody tr th:only-of-type {\n",
       "        vertical-align: middle;\n",
       "    }\n",
       "\n",
       "    .dataframe tbody tr th {\n",
       "        vertical-align: top;\n",
       "    }\n",
       "\n",
       "    .dataframe thead th {\n",
       "        text-align: right;\n",
       "    }\n",
       "</style>\n",
       "<table border=\"1\" class=\"dataframe\">\n",
       "  <thead>\n",
       "    <tr style=\"text-align: right;\">\n",
       "      <th></th>\n",
       "      <th>currencyCode</th>\n",
       "      <th>currencyName</th>\n",
       "      <th>country</th>\n",
       "      <th>basePrice</th>\n",
       "    </tr>\n",
       "  </thead>\n",
       "  <tbody>\n",
       "    <tr>\n",
       "      <th>39</th>\n",
       "      <td>KZT</td>\n",
       "      <td>텡게</td>\n",
       "      <td>카자흐스탄</td>\n",
       "      <td>2.78</td>\n",
       "    </tr>\n",
       "    <tr>\n",
       "      <th>40</th>\n",
       "      <td>QAR</td>\n",
       "      <td>리얄</td>\n",
       "      <td>카타르</td>\n",
       "      <td>365.14</td>\n",
       "    </tr>\n",
       "    <tr>\n",
       "      <th>41</th>\n",
       "      <td>TRY</td>\n",
       "      <td>리라</td>\n",
       "      <td>튀르키예</td>\n",
       "      <td>39.05</td>\n",
       "    </tr>\n",
       "  </tbody>\n",
       "</table>\n",
       "</div>"
      ],
      "text/plain": [
       "   currencyCode currencyName country  basePrice\n",
       "39          KZT           텡게   카자흐스탄       2.78\n",
       "40          QAR           리얄     카타르     365.14\n",
       "41          TRY           리라    튀르키예      39.05"
      ]
     },
     "execution_count": 36,
     "metadata": {},
     "output_type": "execute_result"
    }
   ],
   "source": [
    "# json > list, dict > DataFrame\n",
    "data = response.json()['data']\n",
    "df = pd.DataFrame(data)[['currencyCode', 'currencyName', 'country', 'basePrice']]\n",
    "df.tail(3)"
   ]
  },
  {
   "cell_type": "code",
   "execution_count": null,
   "id": "8ea3f0e7-f9f4-44be-b13f-485ed19d4803",
   "metadata": {},
   "outputs": [],
   "source": []
  }
 ],
 "metadata": {
  "kernelspec": {
   "display_name": "Python 3 (ipykernel)",
   "language": "python",
   "name": "python3"
  },
  "language_info": {
   "codemirror_mode": {
    "name": "ipython",
    "version": 3
   },
   "file_extension": ".py",
   "mimetype": "text/x-python",
   "name": "python",
   "nbconvert_exporter": "python",
   "pygments_lexer": "ipython3",
   "version": "3.12.4"
  }
 },
 "nbformat": 4,
 "nbformat_minor": 5
}
