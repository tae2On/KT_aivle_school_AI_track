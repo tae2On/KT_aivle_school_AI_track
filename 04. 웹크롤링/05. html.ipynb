{
 "cells": [
  {
   "cell_type": "markdown",
   "metadata": {
    "id": "UPdXpsp_8oBb"
   },
   "source": [
    "# HTML"
   ]
  },
  {
   "cell_type": "markdown",
   "metadata": {
    "id": "fgFuE8W98oBd"
   },
   "source": [
    "## 1. HTML 이란?\n",
    "\n",
    "- HTML은 Hyper Text Markup Language의 약자로 웹 문서를 작성하는 마크업 언어 입니다."
   ]
  },
  {
   "cell_type": "markdown",
   "metadata": {
    "id": "L9hbBQnl8oBe"
   },
   "source": [
    "## 2. HTML 구성 요소\n",
    "- Document : 한페이지를 나타내는 단위\n",
    "- Element : 하나의 레이아웃을 나타내는 단위 : 시작태그, 끝태그, 텍스트로 구성\n",
    "- Tag : 엘리먼트의 종류를 정의 : 시작태그(속성값), 끝태그\n",
    "- Attribute : 시작태그에서 태그의 특정 기능을 하는 값\n",
    "    - id : 웹 페이지에서 유일한 값\n",
    "    - class : 동일한 여러개의 값 사용 가능 : element를 그룹핑 할때 사용\n",
    "    - attr : id와 class를 제외한 나머지 속성들s\n",
    "- Text : 시작태그와 끝태그 사이에 있는 문자열\n",
    "- 엘리먼트는 서로 계층적 구조를 가질수 있습니다."
   ]
  },
  {
   "cell_type": "code",
   "execution_count": null,
   "metadata": {
    "id": "bQsOxTKp8oBe",
    "outputId": "c8c57305-4103-4a87-b748-779fcc555bad"
   },
   "outputs": [
    {
     "data": {
      "text/html": [
       "<!-- 사용 예 -->\n",
       "<div class=\"wrapper\">\n",
       "    <button class=\"btn no1\" type=\"button\" value=\"1\">HTML 1</button>\n",
       "    <button class=\"btn no2\" type=\"button\" value=\"2\">HTML 2</button>\n",
       "</div>\n"
      ],
      "text/plain": [
       "<IPython.core.display.HTML object>"
      ]
     },
     "metadata": {},
     "output_type": "display_data"
    }
   ],
   "source": [
    "%%html\n",
    "<!-- 사용 예 -->\n",
    "<div class=\"wrapper\">\n",
    "    <button class=\"btn no1\" type=\"button\" value=\"1\">HTML 1</button>\n",
    "    <button class=\"btn no2\" type=\"button\" value=\"2\">HTML 2</button>\n",
    "</div>"
   ]
  },
  {
   "cell_type": "markdown",
   "metadata": {
    "id": "dgS-071O8oBf"
   },
   "source": [
    "## 3. HTML 구조\n",
    "\n",
    "- DOCTYPE\n",
    "  - 문서의 종류를 선언하는 태그 입니다.\n",
    "- html\n",
    "  - head\n",
    "    - meta\n",
    "      - 웹페이지에 대한 정보를 넣습니다.\n",
    "    - title\n",
    "      - 웹페이지의 제목 정보를 넣습니다.\n",
    "  - body\n",
    "    - 화면을 구성하는 엘리먼트가 옵니다."
   ]
  },
  {
   "cell_type": "markdown",
   "metadata": {
    "id": "teCPLC3Y8oBf"
   },
   "source": [
    "```\n",
    "<!-- HTML 웹문서의 기본적인 구조 -->\n",
    "<!DOCTYPE html>\n",
    "<html lang=\"en\">\n",
    "<head>\n",
    "    <meta charset=\"utf-8\">\n",
    "    <title></title>\n",
    "</head>\n",
    "<body>\n",
    "\n",
    "</body>\n",
    "</html>\n",
    "```"
   ]
  },
  {
   "cell_type": "markdown",
   "metadata": {
    "id": "kp6GsOMF8oBg"
   },
   "source": [
    "### 4. HTML  태그\n",
    "\n",
    "- html에서 문자를 나타내는 태그들"
   ]
  },
  {
   "cell_type": "markdown",
   "metadata": {
    "id": "dJlwEsI88oBg"
   },
   "source": [
    "### 4.1 head\n",
    "\n",
    "- title을 나타낼때 사용\n",
    "- Head는 총 6가지 종류의 태그가 있습니다.(h1~h6)\n",
    "- 숫자가 커질수록 문자의 크기가 줄어듭니다."
   ]
  },
  {
   "cell_type": "code",
   "execution_count": null,
   "metadata": {
    "id": "k8VN4j3t8oBg",
    "outputId": "b071db83-3a8d-45da-a686-1a29415a9b21"
   },
   "outputs": [
    {
     "data": {
      "text/html": [
       "<h1>Heading</h1>\n",
       "<h2>Heading</h2>\n",
       "<h3>Heading</h3>\n",
       "<h4>Heading</h4>\n",
       "<h5>Heading</h5>\n",
       "<h6>Heading</h6>\n"
      ],
      "text/plain": [
       "<IPython.core.display.HTML object>"
      ]
     },
     "metadata": {},
     "output_type": "display_data"
    }
   ],
   "source": [
    "%%html\n",
    "<h1>Heading</h1>\n",
    "<h2>Heading</h2>\n",
    "<h3>Heading</h3>\n",
    "<h4>Heading</h4>\n",
    "<h5>Heading</h5>\n",
    "<h6>Heading</h6>"
   ]
  },
  {
   "cell_type": "markdown",
   "metadata": {
    "id": "TeYqDH7U8oBh"
   },
   "source": [
    "### 4.2 p\n",
    "\n",
    "- 한줄의 문자열을 출력하기 위한 태그"
   ]
  },
  {
   "cell_type": "code",
   "execution_count": null,
   "metadata": {
    "id": "ohoQBgYp8oBh",
    "outputId": "5b16bac3-ace0-484b-d074-5c2935abab8c"
   },
   "outputs": [
    {
     "data": {
      "text/html": [
       "<p>HTML은 마크업 언어 입니다.</p>\n",
       "<p>p 태그는 한줄로 문자열을 출력합니다.</p>\n"
      ],
      "text/plain": [
       "<IPython.core.display.HTML object>"
      ]
     },
     "metadata": {},
     "output_type": "display_data"
    }
   ],
   "source": [
    "%%html\n",
    "<p>HTML은 마크업 언어 입니다.</p>\n",
    "<p>p 태그는 한줄로 문자열을 출력합니다.</p>"
   ]
  },
  {
   "cell_type": "markdown",
   "metadata": {
    "id": "PPt8bcKn8oBh"
   },
   "source": [
    "### 4.3 span\n",
    "\n",
    "- 한블럭의 문자열을 표현하기 위한 태그"
   ]
  },
  {
   "cell_type": "code",
   "execution_count": null,
   "metadata": {
    "id": "2kq-KSLR8oBh",
    "outputId": "d0f3cc7c-47c8-402d-969f-6f7238200bb7"
   },
   "outputs": [
    {
     "data": {
      "text/html": [
       "<span class=\"s1\">span-tag-0</span>\n",
       "<span class=\"s2\">span-tag-1</span>\n",
       "<span class=\"s3\">span-tag-2</span>\n"
      ],
      "text/plain": [
       "<IPython.core.display.HTML object>"
      ]
     },
     "metadata": {},
     "output_type": "display_data"
    }
   ],
   "source": [
    "%%html\n",
    "<span class=\"s1\">span-tag-0</span>\n",
    "<span class=\"s2\">span-tag-1</span>\n",
    "<span class=\"s3\">span-tag-2</span>"
   ]
  },
  {
   "cell_type": "markdown",
   "metadata": {
    "id": "l_AE89xw8oBi"
   },
   "source": [
    "### 4.4 pre\n",
    "\n",
    "- 줄바꿈이나 띄어쓰기가 적용되는 태그"
   ]
  },
  {
   "cell_type": "code",
   "execution_count": null,
   "metadata": {
    "id": "g5tU7ONq8oBi",
    "outputId": "e9b086b2-3437-4610-e62a-448bc3ab65cb"
   },
   "outputs": [
    {
     "data": {
      "text/html": [
       "<p>\n",
       "    python\n",
       "    datascience\n",
       "</p>\n",
       "<pre>\n",
       "    python\n",
       "    datascience\n",
       "</pre>\n"
      ],
      "text/plain": [
       "<IPython.core.display.HTML object>"
      ]
     },
     "metadata": {},
     "output_type": "display_data"
    }
   ],
   "source": [
    "%%html\n",
    "<p>\n",
    "    python\n",
    "    datascience\n",
    "</p>\n",
    "<pre>\n",
    "    python\n",
    "    datascience\n",
    "</pre>"
   ]
  },
  {
   "cell_type": "markdown",
   "metadata": {
    "id": "F3aA6cuG8oBi"
   },
   "source": [
    "### 4.5 code\n",
    "\n",
    "- 코드를 작성하는 태그\n",
    "- 들여쓰기나 두칸 이상의 공백은 적용이 안됩니다."
   ]
  },
  {
   "cell_type": "code",
   "execution_count": null,
   "metadata": {
    "id": "kad07Np_8oBi",
    "outputId": "65b450a9-12bf-4d33-d9cd-b873c729bf4d"
   },
   "outputs": [
    {
     "data": {
      "text/html": [
       "<code>\n",
       "    var a = 10;\n",
       "    var b = 20;\n",
       "    print(\"{} + {} = {}\".format(a, b, a + b));\n",
       "</code>\n"
      ],
      "text/plain": [
       "<IPython.core.display.HTML object>"
      ]
     },
     "metadata": {},
     "output_type": "display_data"
    }
   ],
   "source": [
    "%%html\n",
    "<code>\n",
    "    var a = 10;\n",
    "    var b = 20;\n",
    "    print(\"{} + {} = {}\".format(a, b, a + b));\n",
    "</code>"
   ]
  },
  {
   "cell_type": "markdown",
   "metadata": {
    "id": "Nk3suR6F8oBi"
   },
   "source": [
    "## 5. 문자 이외의 HTML 태그"
   ]
  },
  {
   "cell_type": "markdown",
   "metadata": {
    "id": "jUK9o5vR8oBi"
   },
   "source": [
    "### 5.1 div\n",
    "\n",
    "- 레이아웃을 나타내는 태그"
   ]
  },
  {
   "cell_type": "code",
   "execution_count": null,
   "metadata": {
    "id": "RC1C7jRe8oBi",
    "outputId": "2f8aac53-b18f-4003-f1f4-fc50c325446c"
   },
   "outputs": [
    {
     "data": {
      "text/html": [
       "<div>\n",
       "    <p>div1</p>\n",
       "    <p>div1</p>\n",
       "    <p>div1</p>\n",
       "</div>\n",
       "<div>div2</div>\n",
       "<div>div3</div>\n"
      ],
      "text/plain": [
       "<IPython.core.display.HTML object>"
      ]
     },
     "metadata": {},
     "output_type": "display_data"
    }
   ],
   "source": [
    "%%html\n",
    "<div>\n",
    "    <p>div1</p>\n",
    "    <p>div1</p>\n",
    "    <p>div1</p>\n",
    "</div>\n",
    "<div>div2</div>\n",
    "<div>div3</div>"
   ]
  },
  {
   "cell_type": "markdown",
   "metadata": {
    "id": "GVCX5Y0Z8oBi"
   },
   "source": [
    "### 5.2 table\n",
    "\n",
    "- 로우와 컬럼이 있는 테이블 모양을 나타낼때 사용하는 태그"
   ]
  },
  {
   "cell_type": "code",
   "execution_count": null,
   "metadata": {
    "id": "_tQBNixN8oBj",
    "outputId": "6a28fbd1-00f2-44f3-9abd-ec00692ecc04"
   },
   "outputs": [
    {
     "data": {
      "text/html": [
       "<table>\n",
       "    <caption>테이블</caption>\n",
       "    <thead>\n",
       "        <tr>\n",
       "            <th>html_1</th>\n",
       "            <th>html_2</th>\n",
       "        </tr>\n",
       "    </thead>\n",
       "    <tbody>\n",
       "        <tr>\n",
       "            <th>html_3</th>\n",
       "            <th>html_4</th>\n",
       "        </tr>\n",
       "    </tbody>\n",
       "</table>\n"
      ],
      "text/plain": [
       "<IPython.core.display.HTML object>"
      ]
     },
     "metadata": {},
     "output_type": "display_data"
    }
   ],
   "source": [
    "%%html\n",
    "<table>\n",
    "    <caption>테이블</caption>\n",
    "    <thead>\n",
    "        <tr>\n",
    "            <th>html_1</th>\n",
    "            <th>html_2</th>\n",
    "        </tr>\n",
    "    </thead>\n",
    "    <tbody>\n",
    "        <tr>\n",
    "            <th>html_3</th>\n",
    "            <th>html_4</th>\n",
    "        </tr>\n",
    "    </tbody>\n",
    "</table>"
   ]
  },
  {
   "cell_type": "markdown",
   "metadata": {
    "id": "oBMxUkQw8oBj"
   },
   "source": [
    "### 5.3 ul, li\n",
    "\n",
    "- 리스트를 나타내는 태그"
   ]
  },
  {
   "cell_type": "code",
   "execution_count": null,
   "metadata": {
    "id": "UvZuUTQU8oBj",
    "outputId": "3b5d3b1d-9910-4630-ff6f-165cd2ef9050"
   },
   "outputs": [
    {
     "data": {
      "text/html": [
       "<ul>\n",
       "    <li>ul_li_1</li>\n",
       "    <li>ul_li_2</li>\n",
       "    <li>ul_li_3</li>\n",
       "</ul>\n"
      ],
      "text/plain": [
       "<IPython.core.display.HTML object>"
      ]
     },
     "metadata": {},
     "output_type": "display_data"
    }
   ],
   "source": [
    "%%html\n",
    "<ul>\n",
    "    <li>ul_li_1</li>\n",
    "    <li>ul_li_2</li>\n",
    "    <li>ul_li_3</li>\n",
    "</ul>"
   ]
  },
  {
   "cell_type": "markdown",
   "metadata": {
    "id": "oGCQHlqR8oBj"
   },
   "source": [
    "### 5.4 a\n",
    "\n",
    "- 링크를 나타내는 태그\n",
    "- href 속성에 url을 넣습니다.\n",
    "  - url과 상대경로를 모두 사용 가능\n",
    "  - `target=\"_blank\"`는 링크를 열때 새탭에서 열도록 하는 기능이 있습니다."
   ]
  },
  {
   "cell_type": "code",
   "execution_count": null,
   "metadata": {
    "id": "uH1nCRBc8oBj",
    "outputId": "813fdf36-9802-4c16-f356-32e6f84e7ac1"
   },
   "outputs": [
    {
     "data": {
      "text/html": [
       "<a href=\"http://google.com\" target=\"_blank\">Google</a>\n",
       "<a href=\"01_html_1.md\">html basic</a>\n"
      ],
      "text/plain": [
       "<IPython.core.display.HTML object>"
      ]
     },
     "metadata": {},
     "output_type": "display_data"
    }
   ],
   "source": [
    "%%html\n",
    "<a href=\"http://google.com\" target=\"_blank\">Google</a>\n",
    "<a href=\"01_html_1.md\">html basic</a>"
   ]
  },
  {
   "cell_type": "markdown",
   "metadata": {
    "id": "41Ll2z8D8oBj"
   },
   "source": [
    "### 5.5 image\n",
    "\n",
    "- 이미지를 나타내는 태그"
   ]
  },
  {
   "cell_type": "code",
   "execution_count": null,
   "metadata": {
    "id": "c0HAHDC68oBj",
    "outputId": "bc6921cf-0575-4ffd-ef0e-57f9c95f847d"
   },
   "outputs": [
    {
     "data": {
      "text/html": [
       "<img src=\"https://cfm.kt.com/images/v2/layout/gnb-ktlogo.png\" alt=\"kt logo\">\n"
      ],
      "text/plain": [
       "<IPython.core.display.HTML object>"
      ]
     },
     "metadata": {},
     "output_type": "display_data"
    }
   ],
   "source": [
    "%%html\n",
    "<img src=\"https://cfm.kt.com/images/v2/layout/gnb-ktlogo.png\" alt=\"kt logo\">"
   ]
  },
  {
   "cell_type": "markdown",
   "metadata": {
    "id": "W0XwsQ2H8oBk"
   },
   "source": [
    "### 5.4 iframe\n",
    "\n",
    "- 외부 url 링크 페이지를 보여주기 위한 엘리먼트\n",
    "- 모든 웹 페이지를 보여줄수있는건 아니고 iframe으로만 출력이 되던가 안되거나 하는등의 설정을 할수 있습니다."
   ]
  },
  {
   "cell_type": "code",
   "execution_count": 1,
   "metadata": {
    "colab": {
     "base_uri": "https://localhost:8080/",
     "height": 444
    },
    "executionInfo": {
     "elapsed": 4,
     "status": "ok",
     "timestamp": 1692929850802,
     "user": {
      "displayName": "Doojin Park",
      "userId": "13081019711214908217"
     },
     "user_tz": -540
    },
    "id": "m1PK9YQi8oBk",
    "outputId": "d36343b4-d278-48e2-b03b-f1e98a10a089"
   },
   "outputs": [
    {
     "data": {
      "text/html": [
       "<iframe src=\"https://www.kt.com/\" width=\"100%\" height=\"400\"></iframe>\n"
      ],
      "text/plain": [
       "<IPython.core.display.HTML object>"
      ]
     },
     "metadata": {},
     "output_type": "display_data"
    }
   ],
   "source": [
    "%%html\n",
    "<iframe src=\"https://www.kt.com/\" width=\"100%\" height=\"400\"></iframe>"
   ]
  },
  {
   "cell_type": "markdown",
   "metadata": {
    "id": "aBNpKZqV8oBk"
   },
   "source": [
    "### 5.5 input\n",
    "\n",
    "#### 5.5.1 text\n",
    "\n",
    "- 문자열을 입력받을때 사용하는 input 타입"
   ]
  },
  {
   "cell_type": "code",
   "execution_count": null,
   "metadata": {
    "id": "fXAs_ZSl8oBk",
    "outputId": "1b677ef1-3067-48ef-f863-3bba9b15f77b"
   },
   "outputs": [
    {
     "data": {
      "text/html": [
       "<input type=\"text\" name=\"\" value=\"\" placeholder=\"이메일\">\n"
      ],
      "text/plain": [
       "<IPython.core.display.HTML object>"
      ]
     },
     "metadata": {},
     "output_type": "display_data"
    }
   ],
   "source": [
    "%%html\n",
    "<input type=\"text\" name=\"\" value=\"\" placeholder=\"이메일\">"
   ]
  },
  {
   "cell_type": "markdown",
   "metadata": {
    "id": "yTlH7J168oBk"
   },
   "source": [
    "#### 5.5.2 password\n",
    "\n",
    "- 비밀번호를 입력받을때 사용하는 input 타입"
   ]
  },
  {
   "cell_type": "code",
   "execution_count": null,
   "metadata": {
    "id": "h4R5s_FF8oBk",
    "outputId": "c5ea26b4-f012-4318-bb9a-ba25ee3a1f06"
   },
   "outputs": [
    {
     "data": {
      "text/html": [
       "<input type=\"password\" name=\"\" value=\"\" placeholder=\"패스워드\">\n"
      ],
      "text/plain": [
       "<IPython.core.display.HTML object>"
      ]
     },
     "metadata": {},
     "output_type": "display_data"
    }
   ],
   "source": [
    "%%html\n",
    "<input type=\"password\" name=\"\" value=\"\" placeholder=\"패스워드\">"
   ]
  },
  {
   "cell_type": "markdown",
   "metadata": {
    "id": "Ss7uhPhD8oBl"
   },
   "source": [
    "#### 5.5.3 radio\n",
    "\n",
    "- 여러개의 버튼중에서 한개의 버튼만 체크되는 버튼\n",
    "- radio 버튼은 name 속성값으로 그룹핑을 합니다."
   ]
  },
  {
   "cell_type": "code",
   "execution_count": null,
   "metadata": {
    "id": "IKposcde8oBl",
    "outputId": "8901362b-be8f-4d54-c1c0-8559f52ef01e"
   },
   "outputs": [
    {
     "data": {
      "text/html": [
       "<input type=\"radio\" name=\"radio1\" value=\"1\">라디오1</input>\n",
       "<input type=\"radio\" name=\"radio1\" value=\"2\">라디오1</input><br>\n",
       "<input type=\"radio\" name=\"radio2\" value=\"3\">라디오2</input>\n",
       "<input type=\"radio\" name=\"radio2\" value=\"4\">라디오2</input>\n",
       "<input type=\"radio\" name=\"radio2\" value=\"5\">라디오2</input><br>\n"
      ],
      "text/plain": [
       "<IPython.core.display.HTML object>"
      ]
     },
     "metadata": {},
     "output_type": "display_data"
    }
   ],
   "source": [
    "%%html\n",
    "<input type=\"radio\" name=\"radio1\" value=\"1\">라디오1</input>\n",
    "<input type=\"radio\" name=\"radio1\" value=\"2\">라디오1</input><br>\n",
    "<input type=\"radio\" name=\"radio2\" value=\"3\">라디오2</input>\n",
    "<input type=\"radio\" name=\"radio2\" value=\"4\">라디오2</input>\n",
    "<input type=\"radio\" name=\"radio2\" value=\"5\">라디오2</input><br>"
   ]
  },
  {
   "cell_type": "markdown",
   "metadata": {
    "id": "CsvGf4I78oBl"
   },
   "source": [
    "#### 5.5.4 checkbox\n",
    "\n",
    "- 여러개의 버튼이 체크되는 버튼"
   ]
  },
  {
   "cell_type": "code",
   "execution_count": null,
   "metadata": {
    "id": "GW_4zFoc8oBl",
    "outputId": "fd5a3126-06d2-41c6-e4f8-296ba8e431f7"
   },
   "outputs": [
    {
     "data": {
      "text/html": [
       "<input type=\"checkbox\" name=\"checkbox1\" value=\"1\">체크박스1</input>\n",
       "<input type=\"checkbox\" name=\"checkbox1\" value=\"2\">체크박스2</input>\n"
      ],
      "text/plain": [
       "<IPython.core.display.HTML object>"
      ]
     },
     "metadata": {},
     "output_type": "display_data"
    }
   ],
   "source": [
    "%%html\n",
    "<input type=\"checkbox\" name=\"checkbox1\" value=\"1\">체크박스1</input>\n",
    "<input type=\"checkbox\" name=\"checkbox1\" value=\"2\">체크박스2</input>"
   ]
  },
  {
   "cell_type": "markdown",
   "metadata": {
    "id": "8o1d66438oBm"
   },
   "source": [
    "#### 5.5.5 select, option\n",
    "\n",
    "- 옵션선택을 할수 있는 드랍다운 태그"
   ]
  },
  {
   "cell_type": "code",
   "execution_count": null,
   "metadata": {
    "id": "NIfAadJs8oBm",
    "outputId": "dd9dbac8-381b-475c-feac-0b210a45b949"
   },
   "outputs": [
    {
     "data": {
      "text/html": [
       "<select>\n",
       "    <option value=\"1\">option 1</option>\n",
       "    <option value=\"2\">option 2</option>\n",
       "    <option value=\"3\">option 3</option>\n",
       "</select>\n"
      ],
      "text/plain": [
       "<IPython.core.display.HTML object>"
      ]
     },
     "metadata": {},
     "output_type": "display_data"
    }
   ],
   "source": [
    "%%html\n",
    "<select>\n",
    "    <option value=\"1\">option 1</option>\n",
    "    <option value=\"2\">option 2</option>\n",
    "    <option value=\"3\">option 3</option>\n",
    "</select>"
   ]
  },
  {
   "cell_type": "markdown",
   "metadata": {
    "id": "khQMCdps8oBm"
   },
   "source": [
    "### 5.6 textarea\n",
    "\n",
    "- 여러줄을 입력이 가능한 태그"
   ]
  },
  {
   "cell_type": "code",
   "execution_count": null,
   "metadata": {
    "id": "jeW4L75h8oBm",
    "outputId": "d525a799-a695-4656-f1a5-10712bb3868e"
   },
   "outputs": [
    {
     "data": {
      "text/html": [
       "<textarea name=\"name\" rows=\"4\" cols=\"30\" ></textarea>\n"
      ],
      "text/plain": [
       "<IPython.core.display.HTML object>"
      ]
     },
     "metadata": {},
     "output_type": "display_data"
    }
   ],
   "source": [
    "%%html\n",
    "<textarea name=\"name\" rows=\"4\" cols=\"30\" ></textarea>"
   ]
  },
  {
   "cell_type": "markdown",
   "metadata": {
    "id": "yox_8TYV8oBm"
   },
   "source": [
    "### 5.7 button\n",
    "\n",
    "- 마우스 클릭을 입력받는 버튼 태그"
   ]
  },
  {
   "cell_type": "code",
   "execution_count": null,
   "metadata": {
    "id": "oL5WDPzE8oBn",
    "outputId": "2d7702e0-b6a5-423f-f174-b271ba5f7bcd"
   },
   "outputs": [
    {
     "data": {
      "text/html": [
       "<button type=\"button\">Click</button>\n"
      ],
      "text/plain": [
       "<IPython.core.display.HTML object>"
      ]
     },
     "metadata": {},
     "output_type": "display_data"
    }
   ],
   "source": [
    "%%html\n",
    "<button type=\"button\">Click</button>"
   ]
  }
 ],
 "metadata": {
  "colab": {
   "provenance": []
  },
  "kernelspec": {
   "display_name": "Python 3 (ipykernel)",
   "language": "python",
   "name": "python3"
  },
  "language_info": {
   "codemirror_mode": {
    "name": "ipython",
    "version": 3
   },
   "file_extension": ".py",
   "mimetype": "text/x-python",
   "name": "python",
   "nbconvert_exporter": "python",
   "pygments_lexer": "ipython3",
   "version": "3.11.3"
  },
  "toc": {
   "base_numbering": 1,
   "nav_menu": {},
   "number_sections": false,
   "sideBar": true,
   "skip_h1_title": false,
   "title_cell": "Table of Contents",
   "title_sidebar": "Contents",
   "toc_cell": false,
   "toc_position": {},
   "toc_section_display": true,
   "toc_window_display": false
  },
  "varInspector": {
   "cols": {
    "lenName": 16,
    "lenType": 16,
    "lenVar": 40
   },
   "kernels_config": {
    "python": {
     "delete_cmd_postfix": "",
     "delete_cmd_prefix": "del ",
     "library": "var_list.py",
     "varRefreshCmd": "print(var_dic_list())"
    },
    "r": {
     "delete_cmd_postfix": ") ",
     "delete_cmd_prefix": "rm(",
     "library": "var_list.r",
     "varRefreshCmd": "cat(var_dic_list()) "
    }
   },
   "types_to_exclude": [
    "module",
    "function",
    "builtin_function_or_method",
    "instance",
    "_Feature"
   ],
   "window_display": false
  }
 },
 "nbformat": 4,
 "nbformat_minor": 4
}
