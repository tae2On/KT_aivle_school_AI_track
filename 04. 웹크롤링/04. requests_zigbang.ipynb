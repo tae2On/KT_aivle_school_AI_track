{
 "cells": [
  {
   "cell_type": "markdown",
   "id": "democratic-utility",
   "metadata": {},
   "source": [
    "### Zigbang 원룸 매물 데이터 수집"
   ]
  },
  {
   "cell_type": "code",
   "execution_count": 1,
   "id": "9affefe3",
   "metadata": {},
   "outputs": [],
   "source": [
    "import requests\n",
    "import pandas as pd"
   ]
  },
  {
   "cell_type": "markdown",
   "id": "whole-answer",
   "metadata": {},
   "source": [
    "#### Process\n",
    "    - 동이름으로 위도 경도 구하기\n",
    "    - 위도 경도로 geohash 알아내기\n",
    "    - geohash로 매물 아이디 가져오기\n",
    "    - 매물 아이디로 매물 정보 가져오기"
   ]
  },
  {
   "cell_type": "markdown",
   "id": "b98f0c6c",
   "metadata": {},
   "source": [
    "#### 1. 동이름으로 위도 경도 구하기"
   ]
  },
  {
   "cell_type": "code",
   "execution_count": 19,
   "id": "4e8d14a3",
   "metadata": {},
   "outputs": [
    {
     "data": {
      "text/plain": [
       "(37.556785583496094, 126.9013442993164)"
      ]
     },
     "execution_count": 19,
     "metadata": {},
     "output_type": "execute_result"
    }
   ],
   "source": [
    "addr = '망원동'\n",
    "url = f'https://apis.zigbang.com/v2/search?leaseYn=N&q={addr}&serviceType=원룸'\n",
    "response = requests.get(url)\n",
    "\n",
    "data = response.json()['items'][0]\n",
    "lat, lng = data['lat'], data['lng']\n",
    "lat, lng"
   ]
  },
  {
   "cell_type": "markdown",
   "id": "8dfada31",
   "metadata": {},
   "source": [
    "#### 2. 위도 경도로 geohash 알아내기"
   ]
  },
  {
   "cell_type": "code",
   "execution_count": 24,
   "id": "1d270ab4",
   "metadata": {},
   "outputs": [
    {
     "name": "stdout",
     "output_type": "stream",
     "text": [
      "Collecting geohash2\n",
      "  Downloading geohash2-1.1.tar.gz (15 kB)\n",
      "  Preparing metadata (setup.py): started\n",
      "  Preparing metadata (setup.py): finished with status 'done'\n",
      "Requirement already satisfied: docutils>=0.3 in c:\\users\\user\\anaconda3\\lib\\site-packages (from geohash2) (0.18.1)\n",
      "Building wheels for collected packages: geohash2\n",
      "  Building wheel for geohash2 (setup.py): started\n",
      "  Building wheel for geohash2 (setup.py): finished with status 'done'\n",
      "  Created wheel for geohash2: filename=geohash2-1.1-py3-none-any.whl size=15556 sha256=aedc37f67e866c2b009b5987438ab5c24081bd8ef54f3ef5fa027afb8f2bba64\n",
      "  Stored in directory: c:\\users\\user\\appdata\\local\\pip\\cache\\wheels\\00\\d5\\b6\\3fbe4088f7912982f596eaddfd593d16096468a2f13e470ae7\n",
      "Successfully built geohash2\n",
      "Installing collected packages: geohash2\n",
      "Successfully installed geohash2-1.1\n"
     ]
    }
   ],
   "source": [
    "!pip install geohash2"
   ]
  },
  {
   "cell_type": "code",
   "execution_count": 26,
   "id": "c37aa42f-9ab9-4346-8316-dab3f987f4d2",
   "metadata": {},
   "outputs": [
    {
     "data": {
      "text/plain": [
       "'wydjx'"
      ]
     },
     "execution_count": 26,
     "metadata": {},
     "output_type": "execute_result"
    }
   ],
   "source": [
    "import geohash2\n",
    "\n",
    "geohash = geohash2.encode(lat, lng, precision=5)\n",
    "geohash"
   ]
  },
  {
   "cell_type": "markdown",
   "id": "13e8b3f9",
   "metadata": {},
   "source": [
    "#### 3. geohash로 매물 아이디 가져오기"
   ]
  },
  {
   "cell_type": "code",
   "execution_count": 34,
   "id": "2ceb8ea4",
   "metadata": {},
   "outputs": [
    {
     "data": {
      "text/plain": [
       "<Response [200]>"
      ]
     },
     "execution_count": 34,
     "metadata": {},
     "output_type": "execute_result"
    }
   ],
   "source": [
    "url = f'https://apis.zigbang.com/v2/items/oneroom?geohash={geohash}&depositMin=0&rentMin=0&salesTypes[0]=전세&salesTypes[1]=월세&domain=zigbang&checkAnyItemWithoutFilter=true'\n",
    "response = requests.get(url)\n",
    "response"
   ]
  },
  {
   "cell_type": "code",
   "execution_count": 42,
   "id": "5e269fc5-0a57-4bd5-9893-24313b9022bd",
   "metadata": {},
   "outputs": [
    {
     "data": {
      "text/plain": [
       "(381, [42196796, 42078100, 42149571, 42184803, 42204685])"
      ]
     },
     "execution_count": 42,
     "metadata": {},
     "output_type": "execute_result"
    }
   ],
   "source": [
    "item_ids = []\n",
    "for data in response.json()['items']:\n",
    "    item_ids.append(data['itemId'])\n",
    "len(item_ids), item_ids[:5]"
   ]
  },
  {
   "cell_type": "code",
   "execution_count": 40,
   "id": "5d353885-4b78-4f19-8827-e3206831ba18",
   "metadata": {},
   "outputs": [
    {
     "data": {
      "text/plain": [
       "(381, [42196796, 42078100, 42149571, 42184803, 42204685])"
      ]
     },
     "execution_count": 40,
     "metadata": {},
     "output_type": "execute_result"
    }
   ],
   "source": [
    "item_ids = [data['itemId'] for data in response.json()['items']]\n",
    "len(item_ids), item_ids[:5]"
   ]
  },
  {
   "cell_type": "markdown",
   "id": "85225aae",
   "metadata": {},
   "source": [
    "#### 4. 매물 아이디로 매물 정보 가져오기"
   ]
  },
  {
   "cell_type": "code",
   "execution_count": 50,
   "id": "0212d892",
   "metadata": {},
   "outputs": [
    {
     "data": {
      "text/plain": [
       "<Response [200]>"
      ]
     },
     "execution_count": 50,
     "metadata": {},
     "output_type": "execute_result"
    }
   ],
   "source": [
    "url = 'https://apis.zigbang.com/v2/items/list'\n",
    "params = {\n",
    "    'domain': 'zigbang',\n",
    "    'item_ids': item_ids\n",
    "}\n",
    "response = requests.post(url, params)\n",
    "response"
   ]
  },
  {
   "cell_type": "code",
   "execution_count": 70,
   "id": "3433f006-c2bf-4931-8107-b7b855589749",
   "metadata": {},
   "outputs": [
    {
     "data": {
      "text/html": [
       "<div>\n",
       "<style scoped>\n",
       "    .dataframe tbody tr th:only-of-type {\n",
       "        vertical-align: middle;\n",
       "    }\n",
       "\n",
       "    .dataframe tbody tr th {\n",
       "        vertical-align: top;\n",
       "    }\n",
       "\n",
       "    .dataframe thead th {\n",
       "        text-align: right;\n",
       "    }\n",
       "</style>\n",
       "<table border=\"1\" class=\"dataframe\">\n",
       "  <thead>\n",
       "    <tr style=\"text-align: right;\">\n",
       "      <th></th>\n",
       "      <th>item_id</th>\n",
       "      <th>sales_title</th>\n",
       "      <th>deposit</th>\n",
       "      <th>rent</th>\n",
       "      <th>size_m2</th>\n",
       "      <th>floor</th>\n",
       "      <th>building_floor</th>\n",
       "      <th>title</th>\n",
       "      <th>manage_cost</th>\n",
       "      <th>address1</th>\n",
       "    </tr>\n",
       "  </thead>\n",
       "  <tbody>\n",
       "    <tr>\n",
       "      <th>18</th>\n",
       "      <td>42159695</td>\n",
       "      <td>월세</td>\n",
       "      <td>2000</td>\n",
       "      <td>75</td>\n",
       "      <td>16.10</td>\n",
       "      <td>2</td>\n",
       "      <td>4</td>\n",
       "      <td>신축 . 5천 . 65만원까지 조절 가능</td>\n",
       "      <td>7</td>\n",
       "      <td>서울시 마포구 망원동</td>\n",
       "    </tr>\n",
       "    <tr>\n",
       "      <th>19</th>\n",
       "      <td>42039500</td>\n",
       "      <td>월세</td>\n",
       "      <td>30000</td>\n",
       "      <td>20</td>\n",
       "      <td>29.07</td>\n",
       "      <td>2</td>\n",
       "      <td>6</td>\n",
       "      <td>청년버팀목대출 보증보험가입 가능 투룸 반전세</td>\n",
       "      <td>5</td>\n",
       "      <td>서울시 마포구 망원동</td>\n",
       "    </tr>\n",
       "    <tr>\n",
       "      <th>20</th>\n",
       "      <td>42232358</td>\n",
       "      <td>월세</td>\n",
       "      <td>300</td>\n",
       "      <td>73</td>\n",
       "      <td>17.00</td>\n",
       "      <td>3</td>\n",
       "      <td>3</td>\n",
       "      <td>v망원한강코앞,화이트톤방,깔끔한 화장실,채광,조용한주택가</td>\n",
       "      <td>8</td>\n",
       "      <td>서울시 마포구 망원동</td>\n",
       "    </tr>\n",
       "  </tbody>\n",
       "</table>\n",
       "</div>"
      ],
      "text/plain": [
       "     item_id sales_title  deposit  rent  size_m2 floor building_floor  \\\n",
       "18  42159695          월세     2000    75    16.10     2              4   \n",
       "19  42039500          월세    30000    20    29.07     2              6   \n",
       "20  42232358          월세      300    73    17.00     3              3   \n",
       "\n",
       "                              title manage_cost     address1  \n",
       "18           신축 . 5천 . 65만원까지 조절 가능           7  서울시 마포구 망원동  \n",
       "19         청년버팀목대출 보증보험가입 가능 투룸 반전세           5  서울시 마포구 망원동  \n",
       "20  v망원한강코앞,화이트톤방,깔끔한 화장실,채광,조용한주택가           8  서울시 마포구 망원동  "
      ]
     },
     "execution_count": 70,
     "metadata": {},
     "output_type": "execute_result"
    }
   ],
   "source": [
    "data = response.json()['items']\n",
    "df = pd.DataFrame(data)\n",
    "df = df[df['address1'].str.contains(addr)].reset_index(drop=True)\n",
    "df = df[['item_id', 'sales_title', 'deposit', 'rent', 'size_m2', 'floor', 'building_floor', 'title', 'manage_cost', 'address1']]\n",
    "df.tail(3)"
   ]
  },
  {
   "cell_type": "code",
   "execution_count": 72,
   "id": "69f10641-e892-4128-a64f-d46060bd0c05",
   "metadata": {},
   "outputs": [],
   "source": [
    "pd.options.display.max_columns=40"
   ]
  },
  {
   "cell_type": "code",
   "execution_count": 74,
   "id": "35fef820-f7c0-4b3c-8348-5c9f1fc9c54d",
   "metadata": {},
   "outputs": [
    {
     "data": {
      "text/plain": [
       "Index(['item_id', 'sales_title', 'deposit', 'rent', 'size_m2', 'floor',\n",
       "       'building_floor', 'title', 'manage_cost', 'address1'],\n",
       "      dtype='object')"
      ]
     },
     "execution_count": 74,
     "metadata": {},
     "output_type": "execute_result"
    }
   ],
   "source": [
    "df.columns"
   ]
  },
  {
   "cell_type": "code",
   "execution_count": 83,
   "id": "2630d2e5-82c4-4beb-a11f-7bf966591601",
   "metadata": {},
   "outputs": [],
   "source": [
    "# function\n",
    "def oneroom(addr):\n",
    "    url = f'https://apis.zigbang.com/v2/search?leaseYn=N&q={addr}&serviceType=원룸'\n",
    "    response = requests.get(url)\n",
    "    data = response.json()['items'][0]\n",
    "    lat, lng = data['lat'], data['lng']\n",
    "    \n",
    "    geohash = geohash2.encode(lat, lng, precision=5)\n",
    "    \n",
    "    url = f'https://apis.zigbang.com/v2/items/oneroom?geohash={geohash}&depositMin=0&rentMin=0&salesTypes[0]=전세&salesTypes[1]=월세&domain=zigbang&checkAnyItemWithoutFilter=true'\n",
    "    response = requests.get(url)\n",
    "    item_ids = [data['itemId'] for data in response.json()['items']]\n",
    "    \n",
    "    url = 'https://apis.zigbang.com/v2/items/list'\n",
    "    params = {'domain': \"zigbang\", 'item_ids': item_ids[:900]}\n",
    "    response = requests.post(url, params)\n",
    "    data = response.json()['items']\n",
    "    df = pd.DataFrame(data)\n",
    "    df = df[df['address1'].str.contains(addr)].reset_index(drop=True)\n",
    "    return df[['item_id', 'sales_title', 'deposit', 'rent', 'size_m2', 'floor', 'building_floor', 'title',\n",
    "    'manage_cost', 'address1']]"
   ]
  },
  {
   "cell_type": "code",
   "execution_count": 85,
   "id": "daf4a0c5-c449-48e0-b65f-e5b7c67b9c9a",
   "metadata": {},
   "outputs": [
    {
     "data": {
      "text/html": [
       "<div>\n",
       "<style scoped>\n",
       "    .dataframe tbody tr th:only-of-type {\n",
       "        vertical-align: middle;\n",
       "    }\n",
       "\n",
       "    .dataframe tbody tr th {\n",
       "        vertical-align: top;\n",
       "    }\n",
       "\n",
       "    .dataframe thead th {\n",
       "        text-align: right;\n",
       "    }\n",
       "</style>\n",
       "<table border=\"1\" class=\"dataframe\">\n",
       "  <thead>\n",
       "    <tr style=\"text-align: right;\">\n",
       "      <th></th>\n",
       "      <th>item_id</th>\n",
       "      <th>sales_title</th>\n",
       "      <th>deposit</th>\n",
       "      <th>rent</th>\n",
       "      <th>size_m2</th>\n",
       "      <th>floor</th>\n",
       "      <th>building_floor</th>\n",
       "      <th>title</th>\n",
       "      <th>manage_cost</th>\n",
       "      <th>address1</th>\n",
       "    </tr>\n",
       "  </thead>\n",
       "  <tbody>\n",
       "    <tr>\n",
       "      <th>51</th>\n",
       "      <td>41718888</td>\n",
       "      <td>전세</td>\n",
       "      <td>33000</td>\n",
       "      <td>0</td>\n",
       "      <td>37.79</td>\n",
       "      <td>3</td>\n",
       "      <td>4</td>\n",
       "      <td>깔끔하고 심플한 투룸, 주차 가능, 풀옵션 완비</td>\n",
       "      <td>20</td>\n",
       "      <td>서울시 강남구 개포동</td>\n",
       "    </tr>\n",
       "    <tr>\n",
       "      <th>52</th>\n",
       "      <td>40818078</td>\n",
       "      <td>전세</td>\n",
       "      <td>38000</td>\n",
       "      <td>0</td>\n",
       "      <td>71.64</td>\n",
       "      <td>3</td>\n",
       "      <td>3</td>\n",
       "      <td>깨끗하고 넓은 공간 쓰리룸, 즉시 입주 가능, 주차 가능</td>\n",
       "      <td>0</td>\n",
       "      <td>서울시 강남구 개포동</td>\n",
       "    </tr>\n",
       "  </tbody>\n",
       "</table>\n",
       "</div>"
      ],
      "text/plain": [
       "     item_id sales_title  deposit  rent  size_m2 floor building_floor  \\\n",
       "51  41718888          전세    33000     0    37.79     3              4   \n",
       "52  40818078          전세    38000     0    71.64     3              3   \n",
       "\n",
       "                              title manage_cost     address1  \n",
       "51       깔끔하고 심플한 투룸, 주차 가능, 풀옵션 완비          20  서울시 강남구 개포동  \n",
       "52  깨끗하고 넓은 공간 쓰리룸, 즉시 입주 가능, 주차 가능           0  서울시 강남구 개포동  "
      ]
     },
     "execution_count": 85,
     "metadata": {},
     "output_type": "execute_result"
    }
   ],
   "source": [
    "df = oneroom('개포동')\n",
    "df.tail(2)"
   ]
  },
  {
   "cell_type": "code",
   "execution_count": null,
   "id": "d769cd46-2959-48ae-bf8a-02a6c32e6605",
   "metadata": {},
   "outputs": [],
   "source": [
    "df = pd.DataFrame({'id': list('456')})"
   ]
  },
  {
   "cell_type": "code",
   "execution_count": null,
   "id": "8476b4ac-a698-4848-93d8-c0385dc52c03",
   "metadata": {},
   "outputs": [],
   "source": []
  }
 ],
 "metadata": {
  "kernelspec": {
   "display_name": "Python 3 (ipykernel)",
   "language": "python",
   "name": "python3"
  },
  "language_info": {
   "codemirror_mode": {
    "name": "ipython",
    "version": 3
   },
   "file_extension": ".py",
   "mimetype": "text/x-python",
   "name": "python",
   "nbconvert_exporter": "python",
   "pygments_lexer": "ipython3",
   "version": "3.12.4"
  },
  "toc": {
   "base_numbering": 1,
   "nav_menu": {},
   "number_sections": false,
   "sideBar": true,
   "skip_h1_title": false,
   "title_cell": "Table of Contents",
   "title_sidebar": "Contents",
   "toc_cell": false,
   "toc_position": {},
   "toc_section_display": true,
   "toc_window_display": false
  }
 },
 "nbformat": 4,
 "nbformat_minor": 5
}
