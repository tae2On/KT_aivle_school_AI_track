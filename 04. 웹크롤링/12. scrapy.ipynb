{
 "cells": [
  {
   "cell_type": "markdown",
   "id": "b12537ef",
   "metadata": {
    "id": "b12537ef"
   },
   "source": [
    "# Scrapy\n",
    "- 웹사이트에서 데이터 수집을 위한 오픈소스 파이썬 프레임워크\n",
    "- 멀티스레딩으로 데이터 수집\n",
    "- gmarket 상품데이터 수집"
   ]
  },
  {
   "cell_type": "code",
   "execution_count": 1,
   "id": "c8df8471",
   "metadata": {
    "id": "c8df8471",
    "tags": []
   },
   "outputs": [],
   "source": [
    "# install scrapy\n",
    "#!pip install scrapy"
   ]
  },
  {
   "cell_type": "markdown",
   "id": "c0332cd8-37a0-4f19-9a84-e64a565827d6",
   "metadata": {
    "id": "e90ab90f"
   },
   "source": [
    "## 1. make project"
   ]
  },
  {
   "cell_type": "code",
   "execution_count": 2,
   "id": "f1e2621a",
   "metadata": {
    "id": "f1e2621a",
    "outputId": "3ed7654f-3e69-4b59-ac69-f61bdf7997e3",
    "tags": []
   },
   "outputs": [
    {
     "name": "stdout",
     "output_type": "stream",
     "text": [
      "Error: scrapy.cfg already exists in /Users/rada/Desktop/20240919_KT_Aivle/2024_0924_AI_WebCrawling_day3/notebooks_full/news\n"
     ]
    }
   ],
   "source": [
    "!scrapy startproject news"
   ]
  },
  {
   "cell_type": "code",
   "execution_count": 3,
   "id": "a5c11b2c",
   "metadata": {
    "id": "a5c11b2c",
    "outputId": "c5497c44-8306-4f49-8540-88d9c11af06e",
    "tags": []
   },
   "outputs": [
    {
     "name": "stdout",
     "output_type": "stream",
     "text": [
      "\u001b[1;36mnews\u001b[0m\n",
      "├── \u001b[1;36mnews\u001b[0m\n",
      "│   ├── __init__.py\n",
      "│   ├── \u001b[1;36m__pycache__\u001b[0m\n",
      "│   │   ├── __init__.cpython-311.pyc\n",
      "│   │   ├── items.cpython-311.pyc\n",
      "│   │   └── settings.cpython-311.pyc\n",
      "│   ├── items.py\n",
      "│   ├── middlewares.py\n",
      "│   ├── pipelines.py\n",
      "│   ├── settings.py\n",
      "│   └── \u001b[1;36mspiders\u001b[0m\n",
      "│       ├── __init__.py\n",
      "│       ├── \u001b[1;36m__pycache__\u001b[0m\n",
      "│       │   ├── __init__.cpython-311.pyc\n",
      "│       │   └── spider.cpython-311.pyc\n",
      "│       └── spider.py\n",
      "├── news.csv\n",
      "└── scrapy.cfg\n",
      "\n",
      "5 directories, 14 files\n"
     ]
    }
   ],
   "source": [
    "!tree news"
   ]
  },
  {
   "cell_type": "markdown",
   "id": "3ab608ad-302a-44bf-8f41-75fe6ff61be7",
   "metadata": {
    "id": "cac6776b",
    "tags": []
   },
   "source": [
    "- scrapy structure\n",
    "    - items : 데이터의 모양 정의\n",
    "    - middewares : 수집할때 header 정보와 같은 내용을 설정\n",
    "    - pipelines : 데이터를 수집한 후에 코드를 실행\n",
    "    - settings : robots.txt 규칙, 크롤링 시간 텀등을 설정\n",
    "    - spiders : 크롤링 절차를 정의"
   ]
  },
  {
   "cell_type": "markdown",
   "id": "e65b7fd4-f019-43d9-970a-0c096124a99e",
   "metadata": {
    "id": "5f97e6dc",
    "tags": []
   },
   "source": [
    "## 2. xpath\n",
    "- link, contents"
   ]
  },
  {
   "cell_type": "code",
   "execution_count": 4,
   "id": "3aac82cb",
   "metadata": {
    "id": "3aac82cb",
    "tags": []
   },
   "outputs": [],
   "source": [
    "import scrapy, requests\n",
    "from scrapy.http import TextResponse"
   ]
  },
  {
   "cell_type": "code",
   "execution_count": 5,
   "id": "38ce6ad8",
   "metadata": {
    "id": "38ce6ad8",
    "tags": []
   },
   "outputs": [],
   "source": [
    "# 링크 데이터"
   ]
  },
  {
   "cell_type": "code",
   "execution_count": 6,
   "id": "9a139ad8-28d2-4f3d-89fb-4e27b6de7740",
   "metadata": {
    "tags": []
   },
   "outputs": [
    {
     "data": {
      "text/plain": [
       "<200 https://news.daum.net/>"
      ]
     },
     "execution_count": 6,
     "metadata": {},
     "output_type": "execute_result"
    }
   ],
   "source": [
    "request = requests.get('https://news.daum.net')\n",
    "response = TextResponse(request.url, body=request.text, encoding='utf-8')\n",
    "response"
   ]
  },
  {
   "cell_type": "code",
   "execution_count": 7,
   "id": "e6097f03-4732-4411-b076-9c8000782488",
   "metadata": {
    "tags": []
   },
   "outputs": [
    {
     "data": {
      "text/plain": [
       "(20,\n",
       " ['https://v.daum.net/v/20240912195017442',\n",
       "  'https://v.daum.net/v/20240912190722611'])"
      ]
     },
     "execution_count": 7,
     "metadata": {},
     "output_type": "execute_result"
    }
   ],
   "source": [
    "selector = '/html/body/div[2]/main/section/div/div[1]/div[1]/ul/li'\n",
    "selector += '/div/div/strong/a/@href'\n",
    "links = response.xpath(selector).extract()\n",
    "len(links), links[:2]"
   ]
  },
  {
   "cell_type": "code",
   "execution_count": 8,
   "id": "0068bc4a-dccf-4d45-8c33-75bf1376d29f",
   "metadata": {
    "tags": []
   },
   "outputs": [],
   "source": [
    "# 상세 데이터"
   ]
  },
  {
   "cell_type": "code",
   "execution_count": 9,
   "id": "372e280c-b7cc-4933-9e9a-29a958ac870a",
   "metadata": {
    "tags": []
   },
   "outputs": [
    {
     "data": {
      "text/plain": [
       "<200 https://v.daum.net/v/20240912170721505>"
      ]
     },
     "execution_count": 9,
     "metadata": {},
     "output_type": "execute_result"
    }
   ],
   "source": [
    "link = links[19]\n",
    "request = requests.get(link)\n",
    "response = TextResponse(request.url, body=request.text, encoding='utf-8')\n",
    "response"
   ]
  },
  {
   "cell_type": "code",
   "execution_count": 10,
   "id": "4f2778f8-97ad-4927-adac-0b9a612f13d9",
   "metadata": {
    "tags": []
   },
   "outputs": [
    {
     "data": {
      "text/plain": [
       "('[단독] 고교평준화 폐지→학교다양화로 둔갑? 국교위 ‘짬짜미’ 의혹 덮고 ‘사학 퍼주기’ 밀어붙이나',\n",
       " '이 글자크기로 변경됩니다. (예시) 가장 빠른 뉴스가 있고 다양한 정보, 쌍방향 소통이 숨쉬는 다음뉴스를 만나보세요. 다음뉴스는 국내외 주요이슈와 실시간 속보, 문화생활 및 다양한')"
      ]
     },
     "execution_count": 10,
     "metadata": {},
     "output_type": "execute_result"
    }
   ],
   "source": [
    "title = response.xpath('//*[@id=\"mArticle\"]/div[1]/h3/text()')[0].extract()\n",
    "content = response.xpath('//section//p/text()').extract()\n",
    "content = ' '.join(content).replace('\\xa0', ' ').replace(\"\\'\", ' ')\n",
    "title, content[:100]"
   ]
  },
  {
   "cell_type": "markdown",
   "id": "016733b5-ba95-4dff-a1d1-b629192d8913",
   "metadata": {},
   "source": [
    "## 3. items.py\n",
    "- Data Model"
   ]
  },
  {
   "cell_type": "code",
   "execution_count": 11,
   "id": "8bbe5105",
   "metadata": {
    "id": "8bbe5105",
    "outputId": "4b90390a-093a-466b-8ea0-28ab6097ae0a",
    "tags": []
   },
   "outputs": [
    {
     "name": "stdout",
     "output_type": "stream",
     "text": [
      "Overwriting news/news/items.py\n"
     ]
    }
   ],
   "source": [
    "%%writefile news/news/items.py\n",
    "import scrapy\n",
    "\n",
    "class NewsContents(scrapy.Item):\n",
    "    title = scrapy.Field()\n",
    "    content = scrapy.Field()\n",
    "    link = scrapy.Field()"
   ]
  },
  {
   "cell_type": "markdown",
   "id": "64291383-231b-409c-b792-084d7560549f",
   "metadata": {
    "id": "4d0aa7e1",
    "tags": []
   },
   "source": [
    "## 4. spider.py\n",
    "- wirte crawling process"
   ]
  },
  {
   "cell_type": "code",
   "execution_count": 12,
   "id": "49c306b6-6621-48d0-a991-db77d02d0037",
   "metadata": {
    "tags": []
   },
   "outputs": [
    {
     "name": "stdout",
     "output_type": "stream",
     "text": [
      "Overwriting news/news/spiders/spider.py\n"
     ]
    }
   ],
   "source": [
    "%%writefile news/news/spiders/spider.py\n",
    "import scrapy\n",
    "from news.items import NewsContents\n",
    "\n",
    "\n",
    "class NewsSpider(scrapy.Spider):\n",
    "    name = 'news'\n",
    "    allow_domain = ['daum.net']\n",
    "    start_urls = ['https://news.daum.net']\n",
    "    \n",
    "    def parse(self, response):\n",
    "        selector = '/html/body/div[2]/main/section/div/div[1]/div[1]/ul/li'\n",
    "        selector += '/div/div/strong/a/@href'\n",
    "        links = response.xpath(selector).extract()\n",
    "        for link in links:\n",
    "            yield scrapy.Request(link, callback=self.parse_content)\n",
    "            \n",
    "    def parse_content(self, response):\n",
    "        item = NewsContents()\n",
    "        item['title'] = response.xpath(\n",
    "            '//*[@id=\"mArticle\"]/div[1]/h3/text()')[0].extract()\n",
    "        item['link'] = response.url\n",
    "        content = response.xpath('//section//p/text()').extract()\n",
    "        content = ' '.join(content).replace('\\xa0', ' ').replace(\"\\'\", ' ')\n",
    "        item['content'] = content\n",
    "        yield item"
   ]
  },
  {
   "cell_type": "markdown",
   "id": "87720c87-b601-414c-b6c1-2f2133ffe111",
   "metadata": {
    "id": "bd2e1c16",
    "tags": []
   },
   "source": [
    "## 5. run scrapy\n",
    "- news 디렉토리에서 아래의 커멘드 실행\n",
    "- scrapy crawl news -o news.csv"
   ]
  },
  {
   "cell_type": "code",
   "execution_count": 13,
   "id": "340cc375",
   "metadata": {
    "id": "340cc375",
    "tags": []
   },
   "outputs": [
    {
     "data": {
      "text/html": [
       "<div>\n",
       "<style scoped>\n",
       "    .dataframe tbody tr th:only-of-type {\n",
       "        vertical-align: middle;\n",
       "    }\n",
       "\n",
       "    .dataframe tbody tr th {\n",
       "        vertical-align: top;\n",
       "    }\n",
       "\n",
       "    .dataframe thead th {\n",
       "        text-align: right;\n",
       "    }\n",
       "</style>\n",
       "<table border=\"1\" class=\"dataframe\">\n",
       "  <thead>\n",
       "    <tr style=\"text-align: right;\">\n",
       "      <th></th>\n",
       "      <th>title</th>\n",
       "      <th>link</th>\n",
       "      <th>content</th>\n",
       "    </tr>\n",
       "  </thead>\n",
       "  <tbody>\n",
       "    <tr>\n",
       "      <th>18</th>\n",
       "      <td>박주민 \"한 총리, 응급실 뺑뺑이 사망이 가짜뉴스?‥어느 나라 살고있나\"</td>\n",
       "      <td>https://v.daum.net/v/20240912194014270</td>\n",
       "      <td>더불어민주당 의료대란 대책특위 위원장인 박주민 의원이 한덕수 국무총리를 향해 \"의료...</td>\n",
       "    </tr>\n",
       "    <tr>\n",
       "      <th>19</th>\n",
       "      <td>中 외교부 “손준호, 죄 인정했다…법정서 참회”</td>\n",
       "      <td>https://v.daum.net/v/20240912180151665</td>\n",
       "      <td>중국축구협회가 손준호에 대한 영구 제명 조치를 내린 것과 관련해 손준호측이 적극 반...</td>\n",
       "    </tr>\n",
       "  </tbody>\n",
       "</table>\n",
       "</div>"
      ],
      "text/plain": [
       "                                       title  \\\n",
       "18  박주민 \"한 총리, 응급실 뺑뺑이 사망이 가짜뉴스?‥어느 나라 살고있나\"   \n",
       "19                中 외교부 “손준호, 죄 인정했다…법정서 참회”   \n",
       "\n",
       "                                      link  \\\n",
       "18  https://v.daum.net/v/20240912194014270   \n",
       "19  https://v.daum.net/v/20240912180151665   \n",
       "\n",
       "                                              content  \n",
       "18  더불어민주당 의료대란 대책특위 위원장인 박주민 의원이 한덕수 국무총리를 향해 \"의료...  \n",
       "19  중국축구협회가 손준호에 대한 영구 제명 조치를 내린 것과 관련해 손준호측이 적극 반...  "
      ]
     },
     "execution_count": 13,
     "metadata": {},
     "output_type": "execute_result"
    }
   ],
   "source": [
    "import pandas as pd\n",
    "pd.read_csv(\"news/news.csv\")[['title', 'link', 'content']].tail(2)"
   ]
  }
 ],
 "metadata": {
  "colab": {
   "name": "04_scrapy.ipynb",
   "provenance": []
  },
  "kernelspec": {
   "display_name": "Python 3 (ipykernel)",
   "language": "python",
   "name": "python3"
  },
  "language_info": {
   "codemirror_mode": {
    "name": "ipython",
    "version": 3
   },
   "file_extension": ".py",
   "mimetype": "text/x-python",
   "name": "python",
   "nbconvert_exporter": "python",
   "pygments_lexer": "ipython3",
   "version": "3.11.3"
  },
  "toc": {
   "base_numbering": 1,
   "nav_menu": {},
   "number_sections": false,
   "sideBar": true,
   "skip_h1_title": false,
   "title_cell": "Table of Contents",
   "title_sidebar": "Contents",
   "toc_cell": false,
   "toc_position": {},
   "toc_section_display": true,
   "toc_window_display": false
  }
 },
 "nbformat": 4,
 "nbformat_minor": 5
}
