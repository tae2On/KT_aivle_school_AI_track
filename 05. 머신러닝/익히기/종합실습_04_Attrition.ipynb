{
 "cells": [
  {
   "cell_type": "markdown",
   "metadata": {
    "id": "y1J78TFSRrSA"
   },
   "source": [
    "<center><img src='https://raw.githubusercontent.com/Jangrae/img/master/ml_python.png' width=600/></center>"
   ]
  },
  {
   "cell_type": "markdown",
   "metadata": {
    "id": "NY9FtARpPcY3"
   },
   "source": [
    "<img src = \"https://github.com/Jangrae/img/blob/master/attrition.png?raw=true\" width=800 align=\"left\"/>"
   ]
  },
  {
   "cell_type": "markdown",
   "metadata": {
    "id": "elUlK1gCJHGh"
   },
   "source": [
    "# 실습 내용\n",
    "\n",
    "- 다양한 알고리즘으로 성능이 최적화된 모델을 만듭니다.\n",
    "- 성능이 좋을 것으로 예상되는 모델을 선정해 평가를 진행합니다."
   ]
  },
  {
   "cell_type": "markdown",
   "metadata": {
    "id": "IciCQGJy5PO-"
   },
   "source": [
    "# 1.환경 준비\n",
    "\n",
    "- 기본 라이브러리와 대상 데이터를 가져와 이후 과정을 준비합니다."
   ]
  },
  {
   "cell_type": "code",
   "execution_count": 1,
   "metadata": {
    "id": "jB0l6oqDsG8B"
   },
   "outputs": [],
   "source": [
    "# 라이브러리 불러오기\n",
    "import numpy as np\n",
    "import pandas as pd\n",
    "import matplotlib.pyplot as plt\n",
    "import seaborn as sns\n",
    "import joblib\n",
    "import warnings\n",
    "\n",
    "warnings.filterwarnings(action='ignore')\n",
    "%config InlineBackend.figure_format = 'retina'"
   ]
  },
  {
   "cell_type": "code",
   "execution_count": 2,
   "metadata": {
    "id": "PXqyu_0LsG8C"
   },
   "outputs": [],
   "source": [
    "# 데이터 불러오기\n",
    "path = 'https://raw.githubusercontent.com/jangrae/csv/master/Attrition_simple2.csv'\n",
    "data = pd.read_csv(path)"
   ]
  },
  {
   "cell_type": "markdown",
   "metadata": {
    "id": "hDHOQrUbNGSK"
   },
   "source": [
    "# 2.데이터 이해\n",
    "\n",
    "- 분석할 데이터를 충분히 이해할 수 있도록 다양한 탐색 과정을 수행합니다."
   ]
  },
  {
   "cell_type": "markdown",
   "metadata": {
    "id": "xpVE5kFzPVSz"
   },
   "source": [
    "**데이터 설명**\n",
    "\n",
    "- **Attrition: 이직 여부 (1: 이직, 0: 잔류)**\n",
    "- Age: 나이\n",
    "- DistanceFromHome: 집-직장 거리 (단위: 마일)\n",
    "- EmployeeNumber: 사번\n",
    "- Gender: 성별 (Male, Female)\n",
    "- JobSatisfaction: 직무 만족도(1: Low, 2: Medium, 3: High, 4: Very High)\n",
    "- MaritalStatus: 결혼 상태 (Single, Married, Divorced)\n",
    "- MonthlyIncome: 월급 (단위: 달러)\n",
    "- OverTime: 야근 여부 (Yes, No)\n",
    "- PercentSalaryHike: 전년 대비 급여 인상율(단위: %)\n",
    "- TotalWorkingYears: 총 경력 연수"
   ]
  },
  {
   "cell_type": "code",
   "execution_count": 3,
   "metadata": {
    "id": "Z1ahypi3irLz"
   },
   "outputs": [
    {
     "data": {
      "text/html": [
       "<div>\n",
       "<style scoped>\n",
       "    .dataframe tbody tr th:only-of-type {\n",
       "        vertical-align: middle;\n",
       "    }\n",
       "\n",
       "    .dataframe tbody tr th {\n",
       "        vertical-align: top;\n",
       "    }\n",
       "\n",
       "    .dataframe thead th {\n",
       "        text-align: right;\n",
       "    }\n",
       "</style>\n",
       "<table border=\"1\" class=\"dataframe\">\n",
       "  <thead>\n",
       "    <tr style=\"text-align: right;\">\n",
       "      <th></th>\n",
       "      <th>Attrition</th>\n",
       "      <th>Age</th>\n",
       "      <th>DistanceFromHome</th>\n",
       "      <th>EmployeeNumber</th>\n",
       "      <th>Gender</th>\n",
       "      <th>JobSatisfaction</th>\n",
       "      <th>MaritalStatus</th>\n",
       "      <th>MonthlyIncome</th>\n",
       "      <th>OverTime</th>\n",
       "      <th>PercentSalaryHike</th>\n",
       "      <th>TotalWorkingYears</th>\n",
       "    </tr>\n",
       "  </thead>\n",
       "  <tbody>\n",
       "    <tr>\n",
       "      <th>0</th>\n",
       "      <td>0</td>\n",
       "      <td>33</td>\n",
       "      <td>7</td>\n",
       "      <td>817</td>\n",
       "      <td>Male</td>\n",
       "      <td>3</td>\n",
       "      <td>Married</td>\n",
       "      <td>11691</td>\n",
       "      <td>No</td>\n",
       "      <td>11</td>\n",
       "      <td>14</td>\n",
       "    </tr>\n",
       "    <tr>\n",
       "      <th>1</th>\n",
       "      <td>0</td>\n",
       "      <td>35</td>\n",
       "      <td>18</td>\n",
       "      <td>1412</td>\n",
       "      <td>Male</td>\n",
       "      <td>4</td>\n",
       "      <td>Single</td>\n",
       "      <td>9362</td>\n",
       "      <td>No</td>\n",
       "      <td>11</td>\n",
       "      <td>10</td>\n",
       "    </tr>\n",
       "    <tr>\n",
       "      <th>2</th>\n",
       "      <td>0</td>\n",
       "      <td>42</td>\n",
       "      <td>6</td>\n",
       "      <td>1911</td>\n",
       "      <td>Male</td>\n",
       "      <td>1</td>\n",
       "      <td>Married</td>\n",
       "      <td>13348</td>\n",
       "      <td>No</td>\n",
       "      <td>13</td>\n",
       "      <td>18</td>\n",
       "    </tr>\n",
       "    <tr>\n",
       "      <th>3</th>\n",
       "      <td>0</td>\n",
       "      <td>46</td>\n",
       "      <td>2</td>\n",
       "      <td>1204</td>\n",
       "      <td>Female</td>\n",
       "      <td>1</td>\n",
       "      <td>Married</td>\n",
       "      <td>17048</td>\n",
       "      <td>No</td>\n",
       "      <td>23</td>\n",
       "      <td>28</td>\n",
       "    </tr>\n",
       "    <tr>\n",
       "      <th>4</th>\n",
       "      <td>1</td>\n",
       "      <td>22</td>\n",
       "      <td>4</td>\n",
       "      <td>593</td>\n",
       "      <td>Male</td>\n",
       "      <td>3</td>\n",
       "      <td>Single</td>\n",
       "      <td>3894</td>\n",
       "      <td>No</td>\n",
       "      <td>16</td>\n",
       "      <td>4</td>\n",
       "    </tr>\n",
       "  </tbody>\n",
       "</table>\n",
       "</div>"
      ],
      "text/plain": [
       "   Attrition  Age  DistanceFromHome  EmployeeNumber  Gender  JobSatisfaction  \\\n",
       "0          0   33                 7             817    Male                3   \n",
       "1          0   35                18            1412    Male                4   \n",
       "2          0   42                 6            1911    Male                1   \n",
       "3          0   46                 2            1204  Female                1   \n",
       "4          1   22                 4             593    Male                3   \n",
       "\n",
       "  MaritalStatus  MonthlyIncome OverTime  PercentSalaryHike  TotalWorkingYears  \n",
       "0       Married          11691       No                 11                 14  \n",
       "1        Single           9362       No                 11                 10  \n",
       "2       Married          13348       No                 13                 18  \n",
       "3       Married          17048       No                 23                 28  \n",
       "4        Single           3894       No                 16                  4  "
      ]
     },
     "execution_count": 3,
     "metadata": {},
     "output_type": "execute_result"
    }
   ],
   "source": [
    "# 데이터 살펴보기\n",
    "data.head()"
   ]
  },
  {
   "cell_type": "code",
   "execution_count": 4,
   "metadata": {
    "id": "HGHlgWSwtSYh"
   },
   "outputs": [
    {
     "data": {
      "text/html": [
       "<div>\n",
       "<style scoped>\n",
       "    .dataframe tbody tr th:only-of-type {\n",
       "        vertical-align: middle;\n",
       "    }\n",
       "\n",
       "    .dataframe tbody tr th {\n",
       "        vertical-align: top;\n",
       "    }\n",
       "\n",
       "    .dataframe thead th {\n",
       "        text-align: right;\n",
       "    }\n",
       "</style>\n",
       "<table border=\"1\" class=\"dataframe\">\n",
       "  <thead>\n",
       "    <tr style=\"text-align: right;\">\n",
       "      <th></th>\n",
       "      <th>Attrition</th>\n",
       "      <th>Age</th>\n",
       "      <th>DistanceFromHome</th>\n",
       "      <th>EmployeeNumber</th>\n",
       "      <th>JobSatisfaction</th>\n",
       "      <th>MonthlyIncome</th>\n",
       "      <th>PercentSalaryHike</th>\n",
       "      <th>TotalWorkingYears</th>\n",
       "    </tr>\n",
       "  </thead>\n",
       "  <tbody>\n",
       "    <tr>\n",
       "      <th>count</th>\n",
       "      <td>1196.000000</td>\n",
       "      <td>1196.00000</td>\n",
       "      <td>1196.000000</td>\n",
       "      <td>1196.000000</td>\n",
       "      <td>1196.000000</td>\n",
       "      <td>1196.000000</td>\n",
       "      <td>1196.000000</td>\n",
       "      <td>1196.000000</td>\n",
       "    </tr>\n",
       "    <tr>\n",
       "      <th>mean</th>\n",
       "      <td>0.163043</td>\n",
       "      <td>36.94398</td>\n",
       "      <td>9.258361</td>\n",
       "      <td>1035.629599</td>\n",
       "      <td>2.716555</td>\n",
       "      <td>6520.104515</td>\n",
       "      <td>15.251672</td>\n",
       "      <td>11.330268</td>\n",
       "    </tr>\n",
       "    <tr>\n",
       "      <th>std</th>\n",
       "      <td>0.369560</td>\n",
       "      <td>9.09270</td>\n",
       "      <td>8.166016</td>\n",
       "      <td>604.340130</td>\n",
       "      <td>1.110962</td>\n",
       "      <td>4665.902253</td>\n",
       "      <td>3.625946</td>\n",
       "      <td>7.823821</td>\n",
       "    </tr>\n",
       "    <tr>\n",
       "      <th>min</th>\n",
       "      <td>0.000000</td>\n",
       "      <td>18.00000</td>\n",
       "      <td>1.000000</td>\n",
       "      <td>1.000000</td>\n",
       "      <td>1.000000</td>\n",
       "      <td>1009.000000</td>\n",
       "      <td>11.000000</td>\n",
       "      <td>0.000000</td>\n",
       "    </tr>\n",
       "    <tr>\n",
       "      <th>25%</th>\n",
       "      <td>0.000000</td>\n",
       "      <td>30.00000</td>\n",
       "      <td>2.000000</td>\n",
       "      <td>507.750000</td>\n",
       "      <td>2.000000</td>\n",
       "      <td>2928.250000</td>\n",
       "      <td>12.000000</td>\n",
       "      <td>6.000000</td>\n",
       "    </tr>\n",
       "    <tr>\n",
       "      <th>50%</th>\n",
       "      <td>0.000000</td>\n",
       "      <td>36.00000</td>\n",
       "      <td>7.000000</td>\n",
       "      <td>1028.000000</td>\n",
       "      <td>3.000000</td>\n",
       "      <td>4973.500000</td>\n",
       "      <td>14.000000</td>\n",
       "      <td>10.000000</td>\n",
       "    </tr>\n",
       "    <tr>\n",
       "      <th>75%</th>\n",
       "      <td>0.000000</td>\n",
       "      <td>43.00000</td>\n",
       "      <td>14.000000</td>\n",
       "      <td>1581.250000</td>\n",
       "      <td>4.000000</td>\n",
       "      <td>8420.500000</td>\n",
       "      <td>18.000000</td>\n",
       "      <td>15.000000</td>\n",
       "    </tr>\n",
       "    <tr>\n",
       "      <th>max</th>\n",
       "      <td>1.000000</td>\n",
       "      <td>60.00000</td>\n",
       "      <td>29.000000</td>\n",
       "      <td>2068.000000</td>\n",
       "      <td>4.000000</td>\n",
       "      <td>19999.000000</td>\n",
       "      <td>25.000000</td>\n",
       "      <td>40.000000</td>\n",
       "    </tr>\n",
       "  </tbody>\n",
       "</table>\n",
       "</div>"
      ],
      "text/plain": [
       "         Attrition         Age  DistanceFromHome  EmployeeNumber  \\\n",
       "count  1196.000000  1196.00000       1196.000000     1196.000000   \n",
       "mean      0.163043    36.94398          9.258361     1035.629599   \n",
       "std       0.369560     9.09270          8.166016      604.340130   \n",
       "min       0.000000    18.00000          1.000000        1.000000   \n",
       "25%       0.000000    30.00000          2.000000      507.750000   \n",
       "50%       0.000000    36.00000          7.000000     1028.000000   \n",
       "75%       0.000000    43.00000         14.000000     1581.250000   \n",
       "max       1.000000    60.00000         29.000000     2068.000000   \n",
       "\n",
       "       JobSatisfaction  MonthlyIncome  PercentSalaryHike  TotalWorkingYears  \n",
       "count      1196.000000    1196.000000        1196.000000        1196.000000  \n",
       "mean          2.716555    6520.104515          15.251672          11.330268  \n",
       "std           1.110962    4665.902253           3.625946           7.823821  \n",
       "min           1.000000    1009.000000          11.000000           0.000000  \n",
       "25%           2.000000    2928.250000          12.000000           6.000000  \n",
       "50%           3.000000    4973.500000          14.000000          10.000000  \n",
       "75%           4.000000    8420.500000          18.000000          15.000000  \n",
       "max           4.000000   19999.000000          25.000000          40.000000  "
      ]
     },
     "execution_count": 4,
     "metadata": {},
     "output_type": "execute_result"
    }
   ],
   "source": [
    "# 기술통계 확인\n",
    "data.describe()"
   ]
  },
  {
   "cell_type": "code",
   "execution_count": 5,
   "metadata": {
    "id": "HGHlgWSwtSYh"
   },
   "outputs": [
    {
     "name": "stdout",
     "output_type": "stream",
     "text": [
      "<class 'pandas.core.frame.DataFrame'>\n",
      "RangeIndex: 1196 entries, 0 to 1195\n",
      "Data columns (total 11 columns):\n",
      " #   Column             Non-Null Count  Dtype \n",
      "---  ------             --------------  ----- \n",
      " 0   Attrition          1196 non-null   int64 \n",
      " 1   Age                1196 non-null   int64 \n",
      " 2   DistanceFromHome   1196 non-null   int64 \n",
      " 3   EmployeeNumber     1196 non-null   int64 \n",
      " 4   Gender             1196 non-null   object\n",
      " 5   JobSatisfaction    1196 non-null   int64 \n",
      " 6   MaritalStatus      1196 non-null   object\n",
      " 7   MonthlyIncome      1196 non-null   int64 \n",
      " 8   OverTime           1196 non-null   object\n",
      " 9   PercentSalaryHike  1196 non-null   int64 \n",
      " 10  TotalWorkingYears  1196 non-null   int64 \n",
      "dtypes: int64(8), object(3)\n",
      "memory usage: 102.9+ KB\n"
     ]
    }
   ],
   "source": [
    "# 변수 관련 정보 확인\n",
    "data.info()"
   ]
  },
  {
   "cell_type": "code",
   "execution_count": 6,
   "metadata": {
    "id": "aXz7jDPIunQT"
   },
   "outputs": [
    {
     "data": {
      "text/html": [
       "<style type=\"text/css\">\n",
       "#T_fd20b_row0_col0, #T_fd20b_row1_col1, #T_fd20b_row2_col2, #T_fd20b_row3_col3, #T_fd20b_row4_col4, #T_fd20b_row5_col5, #T_fd20b_row6_col6, #T_fd20b_row7_col7 {\n",
       "  background-color: #023858;\n",
       "  color: #f1f1f1;\n",
       "}\n",
       "#T_fd20b_row0_col1, #T_fd20b_row0_col4, #T_fd20b_row0_col5, #T_fd20b_row0_col7, #T_fd20b_row1_col3, #T_fd20b_row4_col2, #T_fd20b_row4_col3, #T_fd20b_row5_col6, #T_fd20b_row7_col0, #T_fd20b_row7_col6 {\n",
       "  background-color: #fff7fb;\n",
       "  color: #000000;\n",
       "}\n",
       "#T_fd20b_row0_col2, #T_fd20b_row6_col4 {\n",
       "  background-color: #f0eaf4;\n",
       "  color: #000000;\n",
       "}\n",
       "#T_fd20b_row0_col3, #T_fd20b_row1_col0, #T_fd20b_row1_col6, #T_fd20b_row3_col6, #T_fd20b_row5_col0, #T_fd20b_row6_col3 {\n",
       "  background-color: #fdf5fa;\n",
       "  color: #000000;\n",
       "}\n",
       "#T_fd20b_row0_col6 {\n",
       "  background-color: #fcf4fa;\n",
       "  color: #000000;\n",
       "}\n",
       "#T_fd20b_row1_col2, #T_fd20b_row5_col2, #T_fd20b_row5_col3 {\n",
       "  background-color: #fef6fa;\n",
       "  color: #000000;\n",
       "}\n",
       "#T_fd20b_row1_col4 {\n",
       "  background-color: #f6eff7;\n",
       "  color: #000000;\n",
       "}\n",
       "#T_fd20b_row1_col5 {\n",
       "  background-color: #569dc8;\n",
       "  color: #f1f1f1;\n",
       "}\n",
       "#T_fd20b_row1_col7 {\n",
       "  background-color: #0f76b3;\n",
       "  color: #f1f1f1;\n",
       "}\n",
       "#T_fd20b_row2_col0 {\n",
       "  background-color: #d6d6e9;\n",
       "  color: #000000;\n",
       "}\n",
       "#T_fd20b_row2_col1, #T_fd20b_row4_col1, #T_fd20b_row6_col1, #T_fd20b_row6_col7 {\n",
       "  background-color: #eae6f1;\n",
       "  color: #000000;\n",
       "}\n",
       "#T_fd20b_row2_col3, #T_fd20b_row3_col2 {\n",
       "  background-color: #f4edf6;\n",
       "  color: #000000;\n",
       "}\n",
       "#T_fd20b_row2_col4, #T_fd20b_row3_col4, #T_fd20b_row4_col6 {\n",
       "  background-color: #f7f0f7;\n",
       "  color: #000000;\n",
       "}\n",
       "#T_fd20b_row2_col5 {\n",
       "  background-color: #ebe6f2;\n",
       "  color: #000000;\n",
       "}\n",
       "#T_fd20b_row2_col6, #T_fd20b_row6_col2 {\n",
       "  background-color: #f4eef6;\n",
       "  color: #000000;\n",
       "}\n",
       "#T_fd20b_row2_col7 {\n",
       "  background-color: #e5e1ef;\n",
       "  color: #000000;\n",
       "}\n",
       "#T_fd20b_row3_col0 {\n",
       "  background-color: #e7e3f0;\n",
       "  color: #000000;\n",
       "}\n",
       "#T_fd20b_row3_col1, #T_fd20b_row6_col5 {\n",
       "  background-color: #ede7f2;\n",
       "  color: #000000;\n",
       "}\n",
       "#T_fd20b_row3_col5 {\n",
       "  background-color: #ece7f2;\n",
       "  color: #000000;\n",
       "}\n",
       "#T_fd20b_row3_col7 {\n",
       "  background-color: #e9e5f1;\n",
       "  color: #000000;\n",
       "}\n",
       "#T_fd20b_row4_col0 {\n",
       "  background-color: #f2ecf5;\n",
       "  color: #000000;\n",
       "}\n",
       "#T_fd20b_row4_col5, #T_fd20b_row4_col7 {\n",
       "  background-color: #ede8f3;\n",
       "  color: #000000;\n",
       "}\n",
       "#T_fd20b_row5_col1 {\n",
       "  background-color: #549cc7;\n",
       "  color: #f1f1f1;\n",
       "}\n",
       "#T_fd20b_row5_col4 {\n",
       "  background-color: #f8f1f8;\n",
       "  color: #000000;\n",
       "}\n",
       "#T_fd20b_row5_col7, #T_fd20b_row7_col5 {\n",
       "  background-color: #0567a1;\n",
       "  color: #f1f1f1;\n",
       "}\n",
       "#T_fd20b_row6_col0 {\n",
       "  background-color: #e6e2ef;\n",
       "  color: #000000;\n",
       "}\n",
       "#T_fd20b_row7_col1 {\n",
       "  background-color: #1077b4;\n",
       "  color: #f1f1f1;\n",
       "}\n",
       "#T_fd20b_row7_col2 {\n",
       "  background-color: #fbf4f9;\n",
       "  color: #000000;\n",
       "}\n",
       "#T_fd20b_row7_col3 {\n",
       "  background-color: #fef6fb;\n",
       "  color: #000000;\n",
       "}\n",
       "#T_fd20b_row7_col4 {\n",
       "  background-color: #faf2f8;\n",
       "  color: #000000;\n",
       "}\n",
       "</style>\n",
       "<table id=\"T_fd20b\">\n",
       "  <thead>\n",
       "    <tr>\n",
       "      <th class=\"blank level0\" >&nbsp;</th>\n",
       "      <th id=\"T_fd20b_level0_col0\" class=\"col_heading level0 col0\" >Attrition</th>\n",
       "      <th id=\"T_fd20b_level0_col1\" class=\"col_heading level0 col1\" >Age</th>\n",
       "      <th id=\"T_fd20b_level0_col2\" class=\"col_heading level0 col2\" >DistanceFromHome</th>\n",
       "      <th id=\"T_fd20b_level0_col3\" class=\"col_heading level0 col3\" >EmployeeNumber</th>\n",
       "      <th id=\"T_fd20b_level0_col4\" class=\"col_heading level0 col4\" >JobSatisfaction</th>\n",
       "      <th id=\"T_fd20b_level0_col5\" class=\"col_heading level0 col5\" >MonthlyIncome</th>\n",
       "      <th id=\"T_fd20b_level0_col6\" class=\"col_heading level0 col6\" >PercentSalaryHike</th>\n",
       "      <th id=\"T_fd20b_level0_col7\" class=\"col_heading level0 col7\" >TotalWorkingYears</th>\n",
       "    </tr>\n",
       "  </thead>\n",
       "  <tbody>\n",
       "    <tr>\n",
       "      <th id=\"T_fd20b_level0_row0\" class=\"row_heading level0 row0\" >Attrition</th>\n",
       "      <td id=\"T_fd20b_row0_col0\" class=\"data row0 col0\" >1.000000</td>\n",
       "      <td id=\"T_fd20b_row0_col1\" class=\"data row0 col1\" >-0.167866</td>\n",
       "      <td id=\"T_fd20b_row0_col2\" class=\"data row0 col2\" >0.081973</td>\n",
       "      <td id=\"T_fd20b_row0_col3\" class=\"data row0 col3\" >-0.008707</td>\n",
       "      <td id=\"T_fd20b_row0_col4\" class=\"data row0 col4\" >-0.078936</td>\n",
       "      <td id=\"T_fd20b_row0_col5\" class=\"data row0 col5\" >-0.163572</td>\n",
       "      <td id=\"T_fd20b_row0_col6\" class=\"data row0 col6\" >-0.000048</td>\n",
       "      <td id=\"T_fd20b_row0_col7\" class=\"data row0 col7\" >-0.182162</td>\n",
       "    </tr>\n",
       "    <tr>\n",
       "      <th id=\"T_fd20b_level0_row1\" class=\"row_heading level0 row1\" >Age</th>\n",
       "      <td id=\"T_fd20b_row1_col0\" class=\"data row1 col0\" >-0.167866</td>\n",
       "      <td id=\"T_fd20b_row1_col1\" class=\"data row1 col1\" >1.000000</td>\n",
       "      <td id=\"T_fd20b_row1_col2\" class=\"data row1 col2\" >-0.010917</td>\n",
       "      <td id=\"T_fd20b_row1_col3\" class=\"data row1 col3\" >-0.023786</td>\n",
       "      <td id=\"T_fd20b_row1_col4\" class=\"data row1 col4\" >-0.012425</td>\n",
       "      <td id=\"T_fd20b_row1_col5\" class=\"data row1 col5\" >0.490107</td>\n",
       "      <td id=\"T_fd20b_row1_col6\" class=\"data row1 col6\" >-0.008303</td>\n",
       "      <td id=\"T_fd20b_row1_col7\" class=\"data row1 col7\" >0.674331</td>\n",
       "    </tr>\n",
       "    <tr>\n",
       "      <th id=\"T_fd20b_level0_row2\" class=\"row_heading level0 row2\" >DistanceFromHome</th>\n",
       "      <td id=\"T_fd20b_row2_col0\" class=\"data row2 col0\" >0.081973</td>\n",
       "      <td id=\"T_fd20b_row2_col1\" class=\"data row2 col1\" >-0.010917</td>\n",
       "      <td id=\"T_fd20b_row2_col2\" class=\"data row2 col2\" >1.000000</td>\n",
       "      <td id=\"T_fd20b_row2_col3\" class=\"data row2 col3\" >0.054948</td>\n",
       "      <td id=\"T_fd20b_row2_col4\" class=\"data row2 col4\" >-0.021623</td>\n",
       "      <td id=\"T_fd20b_row2_col5\" class=\"data row2 col5\" >-0.012803</td>\n",
       "      <td id=\"T_fd20b_row2_col6\" class=\"data row2 col6\" >0.052348</td>\n",
       "      <td id=\"T_fd20b_row2_col7\" class=\"data row2 col7\" >0.002606</td>\n",
       "    </tr>\n",
       "    <tr>\n",
       "      <th id=\"T_fd20b_level0_row3\" class=\"row_heading level0 row3\" >EmployeeNumber</th>\n",
       "      <td id=\"T_fd20b_row3_col0\" class=\"data row3 col0\" >-0.008707</td>\n",
       "      <td id=\"T_fd20b_row3_col1\" class=\"data row3 col1\" >-0.023786</td>\n",
       "      <td id=\"T_fd20b_row3_col2\" class=\"data row3 col2\" >0.054948</td>\n",
       "      <td id=\"T_fd20b_row3_col3\" class=\"data row3 col3\" >1.000000</td>\n",
       "      <td id=\"T_fd20b_row3_col4\" class=\"data row3 col4\" >-0.022863</td>\n",
       "      <td id=\"T_fd20b_row3_col5\" class=\"data row3 col5\" >-0.014032</td>\n",
       "      <td id=\"T_fd20b_row3_col6\" class=\"data row3 col6\" >-0.009514</td>\n",
       "      <td id=\"T_fd20b_row3_col7\" class=\"data row3 col7\" >-0.016317</td>\n",
       "    </tr>\n",
       "    <tr>\n",
       "      <th id=\"T_fd20b_level0_row4\" class=\"row_heading level0 row4\" >JobSatisfaction</th>\n",
       "      <td id=\"T_fd20b_row4_col0\" class=\"data row4 col0\" >-0.078936</td>\n",
       "      <td id=\"T_fd20b_row4_col1\" class=\"data row4 col1\" >-0.012425</td>\n",
       "      <td id=\"T_fd20b_row4_col2\" class=\"data row4 col2\" >-0.021623</td>\n",
       "      <td id=\"T_fd20b_row4_col3\" class=\"data row4 col3\" >-0.022863</td>\n",
       "      <td id=\"T_fd20b_row4_col4\" class=\"data row4 col4\" >1.000000</td>\n",
       "      <td id=\"T_fd20b_row4_col5\" class=\"data row4 col5\" >-0.025082</td>\n",
       "      <td id=\"T_fd20b_row4_col6\" class=\"data row4 col6\" >0.030811</td>\n",
       "      <td id=\"T_fd20b_row4_col7\" class=\"data row4 col7\" >-0.039380</td>\n",
       "    </tr>\n",
       "    <tr>\n",
       "      <th id=\"T_fd20b_level0_row5\" class=\"row_heading level0 row5\" >MonthlyIncome</th>\n",
       "      <td id=\"T_fd20b_row5_col0\" class=\"data row5 col0\" >-0.163572</td>\n",
       "      <td id=\"T_fd20b_row5_col1\" class=\"data row5 col1\" >0.490107</td>\n",
       "      <td id=\"T_fd20b_row5_col2\" class=\"data row5 col2\" >-0.012803</td>\n",
       "      <td id=\"T_fd20b_row5_col3\" class=\"data row5 col3\" >-0.014032</td>\n",
       "      <td id=\"T_fd20b_row5_col4\" class=\"data row5 col4\" >-0.025082</td>\n",
       "      <td id=\"T_fd20b_row5_col5\" class=\"data row5 col5\" >1.000000</td>\n",
       "      <td id=\"T_fd20b_row5_col6\" class=\"data row5 col6\" >-0.021334</td>\n",
       "      <td id=\"T_fd20b_row5_col7\" class=\"data row5 col7\" >0.768437</td>\n",
       "    </tr>\n",
       "    <tr>\n",
       "      <th id=\"T_fd20b_level0_row6\" class=\"row_heading level0 row6\" >PercentSalaryHike</th>\n",
       "      <td id=\"T_fd20b_row6_col0\" class=\"data row6 col0\" >-0.000048</td>\n",
       "      <td id=\"T_fd20b_row6_col1\" class=\"data row6 col1\" >-0.008303</td>\n",
       "      <td id=\"T_fd20b_row6_col2\" class=\"data row6 col2\" >0.052348</td>\n",
       "      <td id=\"T_fd20b_row6_col3\" class=\"data row6 col3\" >-0.009514</td>\n",
       "      <td id=\"T_fd20b_row6_col4\" class=\"data row6 col4\" >0.030811</td>\n",
       "      <td id=\"T_fd20b_row6_col5\" class=\"data row6 col5\" >-0.021334</td>\n",
       "      <td id=\"T_fd20b_row6_col6\" class=\"data row6 col6\" >1.000000</td>\n",
       "      <td id=\"T_fd20b_row6_col7\" class=\"data row6 col7\" >-0.021988</td>\n",
       "    </tr>\n",
       "    <tr>\n",
       "      <th id=\"T_fd20b_level0_row7\" class=\"row_heading level0 row7\" >TotalWorkingYears</th>\n",
       "      <td id=\"T_fd20b_row7_col0\" class=\"data row7 col0\" >-0.182162</td>\n",
       "      <td id=\"T_fd20b_row7_col1\" class=\"data row7 col1\" >0.674331</td>\n",
       "      <td id=\"T_fd20b_row7_col2\" class=\"data row7 col2\" >0.002606</td>\n",
       "      <td id=\"T_fd20b_row7_col3\" class=\"data row7 col3\" >-0.016317</td>\n",
       "      <td id=\"T_fd20b_row7_col4\" class=\"data row7 col4\" >-0.039380</td>\n",
       "      <td id=\"T_fd20b_row7_col5\" class=\"data row7 col5\" >0.768437</td>\n",
       "      <td id=\"T_fd20b_row7_col6\" class=\"data row7 col6\" >-0.021988</td>\n",
       "      <td id=\"T_fd20b_row7_col7\" class=\"data row7 col7\" >1.000000</td>\n",
       "    </tr>\n",
       "  </tbody>\n",
       "</table>\n"
      ],
      "text/plain": [
       "<pandas.io.formats.style.Styler at 0x23e7312bda0>"
      ]
     },
     "execution_count": 6,
     "metadata": {},
     "output_type": "execute_result"
    }
   ],
   "source": [
    "# 상관관계 \n",
    "data.corr(numeric_only=True).style.background_gradient()"
   ]
  },
  {
   "cell_type": "code",
   "execution_count": 7,
   "metadata": {
    "id": "IpMpZZPbvPYR"
   },
   "outputs": [
    {
     "data": {
      "image/png": "[encoded data removed]",
      "text/plain": [
       "<Figure size 800x300 with 1 Axes>"
      ]
     },
     "metadata": {
      "image/png": {
       "height": 294,
       "width": 704
      }
     },
     "output_type": "display_data"
    }
   ],
   "source": [
    "# Target 비율\n",
    "plt.figure(figsize=(8, 3))\n",
    "sns.countplot(x=data['Attrition'])\n",
    "plt.show()"
   ]
  },
  {
   "cell_type": "markdown",
   "metadata": {
    "id": "xyfvv8VLTvgu",
    "tags": []
   },
   "source": [
    "# 3.데이터 준비\n",
    "\n",
    "- 전처리 과정을 통해 머신러닝 알고리즘에 사용할 수 있는 형태의 데이터를 준비합니다."
   ]
  },
  {
   "cell_type": "markdown",
   "metadata": {
    "id": "zeC2p9m8PcY5"
   },
   "source": [
    "**1) 변수 제거**"
   ]
  },
  {
   "cell_type": "code",
   "execution_count": 8,
   "metadata": {
    "id": "vxBUmntePcY5"
   },
   "outputs": [
    {
     "data": {
      "text/html": [
       "<div>\n",
       "<style scoped>\n",
       "    .dataframe tbody tr th:only-of-type {\n",
       "        vertical-align: middle;\n",
       "    }\n",
       "\n",
       "    .dataframe tbody tr th {\n",
       "        vertical-align: top;\n",
       "    }\n",
       "\n",
       "    .dataframe thead th {\n",
       "        text-align: right;\n",
       "    }\n",
       "</style>\n",
       "<table border=\"1\" class=\"dataframe\">\n",
       "  <thead>\n",
       "    <tr style=\"text-align: right;\">\n",
       "      <th></th>\n",
       "      <th>Attrition</th>\n",
       "      <th>Age</th>\n",
       "      <th>DistanceFromHome</th>\n",
       "      <th>Gender</th>\n",
       "      <th>JobSatisfaction</th>\n",
       "      <th>MaritalStatus</th>\n",
       "      <th>MonthlyIncome</th>\n",
       "      <th>OverTime</th>\n",
       "      <th>PercentSalaryHike</th>\n",
       "      <th>TotalWorkingYears</th>\n",
       "    </tr>\n",
       "  </thead>\n",
       "  <tbody>\n",
       "    <tr>\n",
       "      <th>0</th>\n",
       "      <td>0</td>\n",
       "      <td>33</td>\n",
       "      <td>7</td>\n",
       "      <td>Male</td>\n",
       "      <td>3</td>\n",
       "      <td>Married</td>\n",
       "      <td>11691</td>\n",
       "      <td>No</td>\n",
       "      <td>11</td>\n",
       "      <td>14</td>\n",
       "    </tr>\n",
       "    <tr>\n",
       "      <th>1</th>\n",
       "      <td>0</td>\n",
       "      <td>35</td>\n",
       "      <td>18</td>\n",
       "      <td>Male</td>\n",
       "      <td>4</td>\n",
       "      <td>Single</td>\n",
       "      <td>9362</td>\n",
       "      <td>No</td>\n",
       "      <td>11</td>\n",
       "      <td>10</td>\n",
       "    </tr>\n",
       "    <tr>\n",
       "      <th>2</th>\n",
       "      <td>0</td>\n",
       "      <td>42</td>\n",
       "      <td>6</td>\n",
       "      <td>Male</td>\n",
       "      <td>1</td>\n",
       "      <td>Married</td>\n",
       "      <td>13348</td>\n",
       "      <td>No</td>\n",
       "      <td>13</td>\n",
       "      <td>18</td>\n",
       "    </tr>\n",
       "    <tr>\n",
       "      <th>3</th>\n",
       "      <td>0</td>\n",
       "      <td>46</td>\n",
       "      <td>2</td>\n",
       "      <td>Female</td>\n",
       "      <td>1</td>\n",
       "      <td>Married</td>\n",
       "      <td>17048</td>\n",
       "      <td>No</td>\n",
       "      <td>23</td>\n",
       "      <td>28</td>\n",
       "    </tr>\n",
       "    <tr>\n",
       "      <th>4</th>\n",
       "      <td>1</td>\n",
       "      <td>22</td>\n",
       "      <td>4</td>\n",
       "      <td>Male</td>\n",
       "      <td>3</td>\n",
       "      <td>Single</td>\n",
       "      <td>3894</td>\n",
       "      <td>No</td>\n",
       "      <td>16</td>\n",
       "      <td>4</td>\n",
       "    </tr>\n",
       "  </tbody>\n",
       "</table>\n",
       "</div>"
      ],
      "text/plain": [
       "   Attrition  Age  DistanceFromHome  Gender  JobSatisfaction MaritalStatus  \\\n",
       "0          0   33                 7    Male                3       Married   \n",
       "1          0   35                18    Male                4        Single   \n",
       "2          0   42                 6    Male                1       Married   \n",
       "3          0   46                 2  Female                1       Married   \n",
       "4          1   22                 4    Male                3        Single   \n",
       "\n",
       "   MonthlyIncome OverTime  PercentSalaryHike  TotalWorkingYears  \n",
       "0          11691       No                 11                 14  \n",
       "1           9362       No                 11                 10  \n",
       "2          13348       No                 13                 18  \n",
       "3          17048       No                 23                 28  \n",
       "4           3894       No                 16                  4  "
      ]
     },
     "execution_count": 8,
     "metadata": {},
     "output_type": "execute_result"
    }
   ],
   "source": [
    "# 변수제거: EmployeeNumber\n",
    "drop_cols = ['EmployeeNumber']\n",
    "data.drop(columns=drop_cols, inplace=True)\n",
    "\n",
    "# 확인\n",
    "data.head()"
   ]
  },
  {
   "cell_type": "markdown",
   "metadata": {
    "id": "BE_0rwxPdErC"
   },
   "source": [
    "**2) x, y 분리**"
   ]
  },
  {
   "cell_type": "code",
   "execution_count": 9,
   "metadata": {
    "id": "Ops0CDL2dEDe"
   },
   "outputs": [],
   "source": [
    "# x, y 분리\n",
    "target = 'Attrition'\n",
    "x = data.drop(columns=target)\n",
    "y = data.loc[:, target]"
   ]
  },
  {
   "cell_type": "markdown",
   "metadata": {
    "id": "FmptGbWLBHn5"
   },
   "source": [
    "**2) 가변수화**"
   ]
  },
  {
   "cell_type": "code",
   "execution_count": 10,
   "metadata": {
    "id": "CDnjJtWVfGyx"
   },
   "outputs": [
    {
     "data": {
      "text/html": [
       "<div>\n",
       "<style scoped>\n",
       "    .dataframe tbody tr th:only-of-type {\n",
       "        vertical-align: middle;\n",
       "    }\n",
       "\n",
       "    .dataframe tbody tr th {\n",
       "        vertical-align: top;\n",
       "    }\n",
       "\n",
       "    .dataframe thead th {\n",
       "        text-align: right;\n",
       "    }\n",
       "</style>\n",
       "<table border=\"1\" class=\"dataframe\">\n",
       "  <thead>\n",
       "    <tr style=\"text-align: right;\">\n",
       "      <th></th>\n",
       "      <th>Age</th>\n",
       "      <th>DistanceFromHome</th>\n",
       "      <th>MonthlyIncome</th>\n",
       "      <th>PercentSalaryHike</th>\n",
       "      <th>TotalWorkingYears</th>\n",
       "      <th>Gender_Male</th>\n",
       "      <th>JobSatisfaction_2</th>\n",
       "      <th>JobSatisfaction_3</th>\n",
       "      <th>JobSatisfaction_4</th>\n",
       "      <th>MaritalStatus_Married</th>\n",
       "      <th>MaritalStatus_Single</th>\n",
       "      <th>OverTime_Yes</th>\n",
       "    </tr>\n",
       "  </thead>\n",
       "  <tbody>\n",
       "    <tr>\n",
       "      <th>0</th>\n",
       "      <td>33</td>\n",
       "      <td>7</td>\n",
       "      <td>11691</td>\n",
       "      <td>11</td>\n",
       "      <td>14</td>\n",
       "      <td>1</td>\n",
       "      <td>0</td>\n",
       "      <td>1</td>\n",
       "      <td>0</td>\n",
       "      <td>1</td>\n",
       "      <td>0</td>\n",
       "      <td>0</td>\n",
       "    </tr>\n",
       "    <tr>\n",
       "      <th>1</th>\n",
       "      <td>35</td>\n",
       "      <td>18</td>\n",
       "      <td>9362</td>\n",
       "      <td>11</td>\n",
       "      <td>10</td>\n",
       "      <td>1</td>\n",
       "      <td>0</td>\n",
       "      <td>0</td>\n",
       "      <td>1</td>\n",
       "      <td>0</td>\n",
       "      <td>1</td>\n",
       "      <td>0</td>\n",
       "    </tr>\n",
       "    <tr>\n",
       "      <th>2</th>\n",
       "      <td>42</td>\n",
       "      <td>6</td>\n",
       "      <td>13348</td>\n",
       "      <td>13</td>\n",
       "      <td>18</td>\n",
       "      <td>1</td>\n",
       "      <td>0</td>\n",
       "      <td>0</td>\n",
       "      <td>0</td>\n",
       "      <td>1</td>\n",
       "      <td>0</td>\n",
       "      <td>0</td>\n",
       "    </tr>\n",
       "    <tr>\n",
       "      <th>3</th>\n",
       "      <td>46</td>\n",
       "      <td>2</td>\n",
       "      <td>17048</td>\n",
       "      <td>23</td>\n",
       "      <td>28</td>\n",
       "      <td>0</td>\n",
       "      <td>0</td>\n",
       "      <td>0</td>\n",
       "      <td>0</td>\n",
       "      <td>1</td>\n",
       "      <td>0</td>\n",
       "      <td>0</td>\n",
       "    </tr>\n",
       "    <tr>\n",
       "      <th>4</th>\n",
       "      <td>22</td>\n",
       "      <td>4</td>\n",
       "      <td>3894</td>\n",
       "      <td>16</td>\n",
       "      <td>4</td>\n",
       "      <td>1</td>\n",
       "      <td>0</td>\n",
       "      <td>1</td>\n",
       "      <td>0</td>\n",
       "      <td>0</td>\n",
       "      <td>1</td>\n",
       "      <td>0</td>\n",
       "    </tr>\n",
       "  </tbody>\n",
       "</table>\n",
       "</div>"
      ],
      "text/plain": [
       "   Age  DistanceFromHome  MonthlyIncome  PercentSalaryHike  TotalWorkingYears  \\\n",
       "0   33                 7          11691                 11                 14   \n",
       "1   35                18           9362                 11                 10   \n",
       "2   42                 6          13348                 13                 18   \n",
       "3   46                 2          17048                 23                 28   \n",
       "4   22                 4           3894                 16                  4   \n",
       "\n",
       "   Gender_Male  JobSatisfaction_2  JobSatisfaction_3  JobSatisfaction_4  \\\n",
       "0            1                  0                  1                  0   \n",
       "1            1                  0                  0                  1   \n",
       "2            1                  0                  0                  0   \n",
       "3            0                  0                  0                  0   \n",
       "4            1                  0                  1                  0   \n",
       "\n",
       "   MaritalStatus_Married  MaritalStatus_Single  OverTime_Yes  \n",
       "0                      1                     0             0  \n",
       "1                      0                     1             0  \n",
       "2                      1                     0             0  \n",
       "3                      1                     0             0  \n",
       "4                      0                     1             0  "
      ]
     },
     "execution_count": 10,
     "metadata": {},
     "output_type": "execute_result"
    }
   ],
   "source": [
    "# 가변수화\n",
    "dumm_cols = ['Gender', 'JobSatisfaction', 'MaritalStatus', 'OverTime']\n",
    "x = pd.get_dummies(x, columns=dumm_cols, drop_first=True, dtype=int)\n",
    "\n",
    "# 확인\n",
    "x.head()"
   ]
  },
  {
   "cell_type": "markdown",
   "metadata": {
    "id": "CIZn6GJhTPQy"
   },
   "source": [
    "**3) 학습용, 평가용 데이터 분리**"
   ]
  },
  {
   "cell_type": "code",
   "execution_count": 11,
   "metadata": {
    "id": "PktSAf43CpOB"
   },
   "outputs": [],
   "source": [
    "# 학습용, 평가용 데이터 분리\n",
    "from sklearn.model_selection import train_test_split\n",
    "x_train, x_test, y_train, y_test = train_test_split(x, y, test_size=0.3, random_state=1)"
   ]
  },
  {
   "cell_type": "markdown",
   "metadata": {
    "id": "3flw-FxfTMAs"
   },
   "source": [
    "**4) 정규화**"
   ]
  },
  {
   "cell_type": "code",
   "execution_count": 12,
   "metadata": {
    "id": "yr7ohkRzCpr4"
   },
   "outputs": [],
   "source": [
    "# 모듈 불러오기\n",
    "from sklearn.preprocessing import MinMaxScaler\n",
    "\n",
    "# 정규화\n",
    "scaler = MinMaxScaler()\n",
    "scaler.fit(x_train)\n",
    "x_train_s = scaler.transform(x_train)\n",
    "x_test_s = scaler.transform(x_test)"
   ]
  },
  {
   "cell_type": "markdown",
   "metadata": {
    "id": "BYr1vtpd8uw4",
    "tags": []
   },
   "source": [
    "# 4.모델링\n",
    "\n",
    "- 하이퍼파라미터 최적화 과정을 통해 최선의 성능을 갖는 모델을 만들고 성능을 검증합니다.\n",
    "- 각 모델을 joblib.dump() 함수를 사용해 저장합니다."
   ]
  },
  {
   "cell_type": "code",
   "execution_count": 13,
   "metadata": {
    "id": "0FiGni9hPVS2"
   },
   "outputs": [],
   "source": [
    "# xgboost 설치\n",
    "# !pip install xgboost"
   ]
  },
  {
   "cell_type": "code",
   "execution_count": 14,
   "metadata": {
    "id": "q_pVLAbrPVS2"
   },
   "outputs": [],
   "source": [
    "# lightgbm 설치\n",
    "# !pip install lightgbm"
   ]
  },
  {
   "cell_type": "markdown",
   "metadata": {
    "id": "1ma3TDsHPVS2"
   },
   "source": [
    "- 이후 사용할 함수를 모두 불러옵니다."
   ]
  },
  {
   "cell_type": "code",
   "execution_count": 15,
   "metadata": {
    "id": "0VmIPSbCPVS3"
   },
   "outputs": [],
   "source": [
    "# 불러오기\n",
    "from sklearn.neighbors import KNeighborsClassifier\n",
    "from sklearn.tree import DecisionTreeClassifier\n",
    "from sklearn.ensemble import RandomForestClassifier\n",
    "from lightgbm import LGBMClassifier\n",
    "\n",
    "from sklearn.model_selection import GridSearchCV\n",
    "from sklearn.metrics import confusion_matrix, classification_report"
   ]
  },
  {
   "cell_type": "markdown",
   "metadata": {
    "id": "9pqwajKFyK4F"
   },
   "source": [
    "**1) KNN**\n",
    "\n",
    "- 최적으로 파라미터로 학습된 KNN 모델을 만들고, 최고의 파라미터와 성능을 확인합니다.\n",
    "- 모델 이름은 model_dst로 지정합니다."
   ]
  },
  {
   "cell_type": "code",
   "execution_count": 16,
   "metadata": {
    "id": "ziotuce6yK4G"
   },
   "outputs": [
    {
     "name": "stdout",
     "output_type": "stream",
     "text": [
      "* 파라미터: {'n_neighbors': 9}\n",
      "* 예측성능: 0.8506415739948674\n"
     ]
    }
   ],
   "source": [
    "# 파라미터 선언\n",
    "param = {'n_neighbors': range(2, 11)}\n",
    "\n",
    "# 선언하기\n",
    "model_knn = GridSearchCV(KNeighborsClassifier(),\n",
    "                         param,\n",
    "                         cv=5)\n",
    "\n",
    "# 학습하기\n",
    "model_knn.fit(x_train_s, y_train)\n",
    "\n",
    "# 결과확인\n",
    "print('* 파라미터:', model_knn.best_params_)\n",
    "print('* 예측성능:', model_knn.best_score_)"
   ]
  },
  {
   "cell_type": "markdown",
   "metadata": {
    "id": "IRaFjf90PVS4"
   },
   "source": [
    "**2) Decision Tree**\n",
    "\n",
    "- 최적으로 파라미터로 학습된 Decision Tree 모델을 만들고, 최고의 파라미터와 성능을 확인합니다.\n",
    "- 모델 이름은 model_dst로 지정합니다."
   ]
  },
  {
   "cell_type": "code",
   "execution_count": 17,
   "metadata": {},
   "outputs": [
    {
     "name": "stdout",
     "output_type": "stream",
     "text": [
      "* 파라미터: {'max_depth': 2}\n",
      "* 예측성능: 0.8446963216424294\n"
     ]
    }
   ],
   "source": [
    "# 파라미터 선언\n",
    "param = {'max_depth': range(1, 21)}\n",
    "\n",
    "# 선언하기\n",
    "model_dst = GridSearchCV(DecisionTreeClassifier(), param, cv=5)\n",
    "\n",
    "# 학습하기\n",
    "model_dst.fit(x_train, y_train)\n",
    "\n",
    "# 결과확인\n",
    "print('* 파라미터:', model_dst.best_params_)\n",
    "print('* 예측성능:', model_dst.best_score_)"
   ]
  },
  {
   "cell_type": "markdown",
   "metadata": {
    "id": "b0crO5W_ygXk"
   },
   "source": [
    "**3) Random Forest**\n",
    "\n",
    "- 최적으로 파라미터로 학습된 Random Forest 모델을 만들고, 최고의 파라미터와 성능을 확인합니다.\n",
    "- 모델 이름은 model_rdf로 지정합니다."
   ]
  },
  {
   "cell_type": "code",
   "execution_count": 18,
   "metadata": {
    "id": "cUPJ1rMoPVS4"
   },
   "outputs": [
    {
     "name": "stdout",
     "output_type": "stream",
     "text": [
      "* 파라미터: {'max_depth': 16}\n",
      "* 예측성능: 0.8566295979469633\n"
     ]
    }
   ],
   "source": [
    "# 파라미터 선언\n",
    "param = {'max_depth': range(1, 21)}\n",
    "\n",
    "# 선언하기\n",
    "model_rdf = GridSearchCV(RandomForestClassifier(), param, cv=5)\n",
    "\n",
    "# 학습하기\n",
    "model_rdf.fit(x_train, y_train)\n",
    "\n",
    "# 결과확인\n",
    "print('* 파라미터:', model_rdf.best_params_)\n",
    "print('* 예측성능:', model_rdf.best_score_)"
   ]
  },
  {
   "cell_type": "markdown",
   "metadata": {
    "id": "JFC-IE49PVS6"
   },
   "source": [
    "**4) LightGBM**\n",
    "\n",
    "- 최적으로 파라미터로 학습된 LightGBM 모델을 만들고, 최고의 파라미터와 성능을 확인합니다.\n",
    "- 모델 이름은 model_lgb로 지정합니다."
   ]
  },
  {
   "cell_type": "code",
   "execution_count": 19,
   "metadata": {
    "id": "hyqi1_VePVS4"
   },
   "outputs": [
    {
     "name": "stdout",
     "output_type": "stream",
     "text": [
      "* 파라미터: {'max_depth': 1}\n",
      "* 예측성능: 0.8590248075278015\n"
     ]
    }
   ],
   "source": [
    "# 파라미터 선언\n",
    "param = {'max_depth': range(1, 21)}\n",
    "\n",
    "# 선언하기\n",
    "model_rgb = GridSearchCV(LGBMClassifier(verbose=-1), param, cv=5)\n",
    "\n",
    "# 학습하기\n",
    "model_rgb.fit(x_train, y_train)\n",
    "\n",
    "# 결과확인\n",
    "print('* 파라미터:', model_rgb.best_params_)\n",
    "print('* 예측성능:', model_rgb.best_score_)"
   ]
  },
  {
   "cell_type": "markdown",
   "metadata": {},
   "source": [
    "# 5.성능평가\n",
    "\n",
    "- 가장 좋은 성능을 보일 것으로 예상되는 모델로 평가를 진행합니다."
   ]
  },
  {
   "cell_type": "code",
   "execution_count": 20,
   "metadata": {},
   "outputs": [
    {
     "name": "stdout",
     "output_type": "stream",
     "text": [
      "[[293   7]\n",
      " [ 49  10]]\n",
      "              precision    recall  f1-score   support\n",
      "\n",
      "           0       0.86      0.98      0.91       300\n",
      "           1       0.59      0.17      0.26        59\n",
      "\n",
      "    accuracy                           0.84       359\n",
      "   macro avg       0.72      0.57      0.59       359\n",
      "weighted avg       0.81      0.84      0.81       359\n",
      "\n"
     ]
    }
   ],
   "source": [
    "# 예측하기\n",
    "y_pred = model_rgb.predict(x_test)\n",
    "\n",
    "# 평가하기\n",
    "print(confusion_matrix(y_test, y_pred))\n",
    "print(classification_report(y_test, y_pred))"
   ]
  },
  {
   "cell_type": "code",
   "execution_count": null,
   "metadata": {},
   "outputs": [],
   "source": []
  }
 ],
 "metadata": {
  "colab": {
   "provenance": []
  },
  "kernelspec": {
   "display_name": "base",
   "language": "python",
   "name": "python3"
  },
  "language_info": {
   "codemirror_mode": {
    "name": "ipython",
    "version": 3
   },
   "file_extension": ".py",
   "mimetype": "text/x-python",
   "name": "python",
   "nbconvert_exporter": "python",
   "pygments_lexer": "ipython3",
   "version": "3.12.4"
  }
 },
 "nbformat": 4,
 "nbformat_minor": 4
}
