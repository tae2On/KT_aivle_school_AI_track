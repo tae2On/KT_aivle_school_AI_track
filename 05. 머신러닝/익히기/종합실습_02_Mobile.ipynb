{
 "cells": [
  {
   "cell_type": "markdown",
   "metadata": {
    "id": "y1J78TFSRrSA"
   },
   "source": [
    "<center><img src='https://raw.githubusercontent.com/Jangrae/img/master/ml_python.png' width=600/></center>"
   ]
  },
  {
   "cell_type": "markdown",
   "metadata": {
    "id": "EsSvfM_vOrLo"
   },
   "source": [
    "<img src = \"https://github.com/Jangrae/img/blob/master/mobile2.png?raw=true\" width=800 align=\"left\"/>"
   ]
  },
  {
   "cell_type": "markdown",
   "metadata": {
    "id": "elUlK1gCJHGh"
   },
   "source": [
    "# 실습 내용\n",
    "\n",
    "- 여러 알고리즘으로 만든 모델의 성능을 교차 검증을 통해 예측해 봅니다.\n",
    "- 성능이 좋을 것으로 예상되는 알고리즘으로 최적화된 성능의 모델을 만듭니다.\n",
    "- 튜닝된 모델의 성능을 평가합니다."
   ]
  },
  {
   "cell_type": "markdown",
   "metadata": {
    "id": "IciCQGJy5PO-"
   },
   "source": [
    "# 1.환경 준비\n",
    "\n",
    "- 기본 라이브러리와 대상 데이터를 가져와 이후 과정을 준비합니다."
   ]
  },
  {
   "cell_type": "code",
   "execution_count": 1,
   "metadata": {
    "executionInfo": {
     "elapsed": 2231,
     "status": "ok",
     "timestamp": 1710481680146,
     "user": {
      "displayName": "Jangrae Lee",
      "userId": "08475661575434032088"
     },
     "user_tz": -540
    },
    "id": "jB0l6oqDsG8B"
   },
   "outputs": [],
   "source": [
    "# 라이브러리 불러오기\n",
    "import numpy as np\n",
    "import pandas as pd\n",
    "import matplotlib.pyplot as plt\n",
    "import seaborn as sns\n",
    "import warnings\n",
    "\n",
    "warnings.filterwarnings(action='ignore')\n",
    "%config InlineBackend.figure_format = 'retina'"
   ]
  },
  {
   "cell_type": "code",
   "execution_count": 2,
   "metadata": {
    "executionInfo": {
     "elapsed": 4,
     "status": "ok",
     "timestamp": 1710481680146,
     "user": {
      "displayName": "Jangrae Lee",
      "userId": "08475661575434032088"
     },
     "user_tz": -540
    },
    "id": "PXqyu_0LsG8C"
   },
   "outputs": [],
   "source": [
    "# 데이터 불러오기\n",
    "path = 'https://raw.githubusercontent.com/jangrae/csv/master/mobile_cust_churn.csv'\n",
    "data = pd.read_csv(path)\n",
    "data['CHURN'] = data['CHURN'].map({'STAY':0, 'LEAVE': 1})"
   ]
  },
  {
   "cell_type": "markdown",
   "metadata": {
    "id": "hDHOQrUbNGSK"
   },
   "source": [
    "# 2.데이터 이해\n",
    "\n",
    "- 분석할 데이터를 충분히 이해할 수 있도록 다양한 탐색 과정을 수행합니다."
   ]
  },
  {
   "cell_type": "markdown",
   "metadata": {
    "id": "O7_oXbtAOrLs"
   },
   "source": [
    "**데이터 설명**\n",
    "\n",
    "- COLLEGE: 대학 졸업여부\n",
    "- INCOME: 연수입\n",
    "- OVERAGE: 월평균 초과사용 시간(분)\n",
    "- LEFTOVER: 월평균 잔여시간비율(%)\n",
    "- HOUSE: 집값\n",
    "- HANDSET_PRICE: 스마트폰 가격\n",
    "- OVER_15MINS_CALLS_PER_MONTH: 월평균 장기통화(15분이상) 횟수\n",
    "- AVERAGE_CALL_DURATION: 평균 통화 시간\n",
    "- REPORTED_SATISFACTION: 만족도 설문조사 결과\n",
    "- REPORTED_USAGE_LEVEL: 사용도 자가진단 결과\n",
    "- CONSIDERING_CHANGE_OF_PLAN: 향후 변경계획 설문조사 결과\n",
    "- **CHURN: 이탈(번호이동) 여부**"
   ]
  },
  {
   "cell_type": "code",
   "execution_count": 3,
   "metadata": {
    "colab": {
     "base_uri": "https://localhost:8080/",
     "height": 226
    },
    "executionInfo": {
     "elapsed": 855,
     "status": "ok",
     "timestamp": 1710481680997,
     "user": {
      "displayName": "Jangrae Lee",
      "userId": "08475661575434032088"
     },
     "user_tz": -540
    },
    "id": "Z1ahypi3irLz",
    "outputId": "30c3eb8c-c52c-4821-9797-cac02f42a038"
   },
   "outputs": [
    {
     "data": {
      "text/html": [
       "<div>\n",
       "<style scoped>\n",
       "    .dataframe tbody tr th:only-of-type {\n",
       "        vertical-align: middle;\n",
       "    }\n",
       "\n",
       "    .dataframe tbody tr th {\n",
       "        vertical-align: top;\n",
       "    }\n",
       "\n",
       "    .dataframe thead th {\n",
       "        text-align: right;\n",
       "    }\n",
       "</style>\n",
       "<table border=\"1\" class=\"dataframe\">\n",
       "  <thead>\n",
       "    <tr style=\"text-align: right;\">\n",
       "      <th></th>\n",
       "      <th>id</th>\n",
       "      <th>COLLEGE</th>\n",
       "      <th>INCOME</th>\n",
       "      <th>OVERAGE</th>\n",
       "      <th>LEFTOVER</th>\n",
       "      <th>HOUSE</th>\n",
       "      <th>HANDSET_PRICE</th>\n",
       "      <th>OVER_15MINS_CALLS_PER_MONTH</th>\n",
       "      <th>AVERAGE_CALL_DURATION</th>\n",
       "      <th>REPORTED_SATISFACTION</th>\n",
       "      <th>REPORTED_USAGE_LEVEL</th>\n",
       "      <th>CONSIDERING_CHANGE_OF_PLAN</th>\n",
       "      <th>CHURN</th>\n",
       "    </tr>\n",
       "  </thead>\n",
       "  <tbody>\n",
       "    <tr>\n",
       "      <th>0</th>\n",
       "      <td>1</td>\n",
       "      <td>0</td>\n",
       "      <td>31953</td>\n",
       "      <td>0</td>\n",
       "      <td>6</td>\n",
       "      <td>313378</td>\n",
       "      <td>161</td>\n",
       "      <td>0</td>\n",
       "      <td>4</td>\n",
       "      <td>unsat</td>\n",
       "      <td>little</td>\n",
       "      <td>no</td>\n",
       "      <td>0</td>\n",
       "    </tr>\n",
       "    <tr>\n",
       "      <th>1</th>\n",
       "      <td>2</td>\n",
       "      <td>1</td>\n",
       "      <td>36147</td>\n",
       "      <td>0</td>\n",
       "      <td>13</td>\n",
       "      <td>800586</td>\n",
       "      <td>244</td>\n",
       "      <td>0</td>\n",
       "      <td>6</td>\n",
       "      <td>unsat</td>\n",
       "      <td>little</td>\n",
       "      <td>considering</td>\n",
       "      <td>0</td>\n",
       "    </tr>\n",
       "    <tr>\n",
       "      <th>2</th>\n",
       "      <td>3</td>\n",
       "      <td>1</td>\n",
       "      <td>27273</td>\n",
       "      <td>230</td>\n",
       "      <td>0</td>\n",
       "      <td>305049</td>\n",
       "      <td>201</td>\n",
       "      <td>16</td>\n",
       "      <td>15</td>\n",
       "      <td>unsat</td>\n",
       "      <td>very_little</td>\n",
       "      <td>perhaps</td>\n",
       "      <td>0</td>\n",
       "    </tr>\n",
       "    <tr>\n",
       "      <th>3</th>\n",
       "      <td>4</td>\n",
       "      <td>0</td>\n",
       "      <td>120070</td>\n",
       "      <td>38</td>\n",
       "      <td>33</td>\n",
       "      <td>788235</td>\n",
       "      <td>780</td>\n",
       "      <td>3</td>\n",
       "      <td>2</td>\n",
       "      <td>unsat</td>\n",
       "      <td>very_high</td>\n",
       "      <td>considering</td>\n",
       "      <td>1</td>\n",
       "    </tr>\n",
       "    <tr>\n",
       "      <th>4</th>\n",
       "      <td>5</td>\n",
       "      <td>1</td>\n",
       "      <td>29215</td>\n",
       "      <td>208</td>\n",
       "      <td>85</td>\n",
       "      <td>224784</td>\n",
       "      <td>241</td>\n",
       "      <td>21</td>\n",
       "      <td>1</td>\n",
       "      <td>very_unsat</td>\n",
       "      <td>little</td>\n",
       "      <td>never_thought</td>\n",
       "      <td>0</td>\n",
       "    </tr>\n",
       "  </tbody>\n",
       "</table>\n",
       "</div>"
      ],
      "text/plain": [
       "   id  COLLEGE  INCOME  OVERAGE  LEFTOVER   HOUSE  HANDSET_PRICE  \\\n",
       "0   1        0   31953        0         6  313378            161   \n",
       "1   2        1   36147        0        13  800586            244   \n",
       "2   3        1   27273      230         0  305049            201   \n",
       "3   4        0  120070       38        33  788235            780   \n",
       "4   5        1   29215      208        85  224784            241   \n",
       "\n",
       "   OVER_15MINS_CALLS_PER_MONTH  AVERAGE_CALL_DURATION REPORTED_SATISFACTION  \\\n",
       "0                            0                      4                 unsat   \n",
       "1                            0                      6                 unsat   \n",
       "2                           16                     15                 unsat   \n",
       "3                            3                      2                 unsat   \n",
       "4                           21                      1            very_unsat   \n",
       "\n",
       "  REPORTED_USAGE_LEVEL CONSIDERING_CHANGE_OF_PLAN  CHURN  \n",
       "0               little                         no      0  \n",
       "1               little                considering      0  \n",
       "2          very_little                    perhaps      0  \n",
       "3            very_high                considering      1  \n",
       "4               little              never_thought      0  "
      ]
     },
     "execution_count": 3,
     "metadata": {},
     "output_type": "execute_result"
    }
   ],
   "source": [
    "# 데이터 살펴보기\n",
    "data.head()"
   ]
  },
  {
   "cell_type": "code",
   "execution_count": 4,
   "metadata": {
    "colab": {
     "base_uri": "https://localhost:8080/",
     "height": 320
    },
    "executionInfo": {
     "elapsed": 8,
     "status": "ok",
     "timestamp": 1710481680997,
     "user": {
      "displayName": "Jangrae Lee",
      "userId": "08475661575434032088"
     },
     "user_tz": -540
    },
    "id": "HGHlgWSwtSYh",
    "outputId": "197c4077-a07c-4e92-a45d-01d06058cfcf"
   },
   "outputs": [
    {
     "data": {
      "text/html": [
       "<div>\n",
       "<style scoped>\n",
       "    .dataframe tbody tr th:only-of-type {\n",
       "        vertical-align: middle;\n",
       "    }\n",
       "\n",
       "    .dataframe tbody tr th {\n",
       "        vertical-align: top;\n",
       "    }\n",
       "\n",
       "    .dataframe thead th {\n",
       "        text-align: right;\n",
       "    }\n",
       "</style>\n",
       "<table border=\"1\" class=\"dataframe\">\n",
       "  <thead>\n",
       "    <tr style=\"text-align: right;\">\n",
       "      <th></th>\n",
       "      <th>id</th>\n",
       "      <th>COLLEGE</th>\n",
       "      <th>INCOME</th>\n",
       "      <th>OVERAGE</th>\n",
       "      <th>LEFTOVER</th>\n",
       "      <th>HOUSE</th>\n",
       "      <th>HANDSET_PRICE</th>\n",
       "      <th>OVER_15MINS_CALLS_PER_MONTH</th>\n",
       "      <th>AVERAGE_CALL_DURATION</th>\n",
       "      <th>CHURN</th>\n",
       "    </tr>\n",
       "  </thead>\n",
       "  <tbody>\n",
       "    <tr>\n",
       "      <th>count</th>\n",
       "      <td>20000.000000</td>\n",
       "      <td>20000.000000</td>\n",
       "      <td>20000.000000</td>\n",
       "      <td>20000.000000</td>\n",
       "      <td>20000.000000</td>\n",
       "      <td>20000.000000</td>\n",
       "      <td>20000.000000</td>\n",
       "      <td>20000.000000</td>\n",
       "      <td>20000.000000</td>\n",
       "      <td>20000.000000</td>\n",
       "    </tr>\n",
       "    <tr>\n",
       "      <th>mean</th>\n",
       "      <td>10000.500000</td>\n",
       "      <td>0.502400</td>\n",
       "      <td>80281.447750</td>\n",
       "      <td>85.979550</td>\n",
       "      <td>23.898650</td>\n",
       "      <td>493155.264250</td>\n",
       "      <td>389.615100</td>\n",
       "      <td>8.000700</td>\n",
       "      <td>6.002250</td>\n",
       "      <td>0.492600</td>\n",
       "    </tr>\n",
       "    <tr>\n",
       "      <th>std</th>\n",
       "      <td>5773.647028</td>\n",
       "      <td>0.500007</td>\n",
       "      <td>41680.586319</td>\n",
       "      <td>85.992324</td>\n",
       "      <td>26.816645</td>\n",
       "      <td>252407.884692</td>\n",
       "      <td>213.820682</td>\n",
       "      <td>8.925418</td>\n",
       "      <td>4.402558</td>\n",
       "      <td>0.499958</td>\n",
       "    </tr>\n",
       "    <tr>\n",
       "      <th>min</th>\n",
       "      <td>1.000000</td>\n",
       "      <td>0.000000</td>\n",
       "      <td>20007.000000</td>\n",
       "      <td>-2.000000</td>\n",
       "      <td>0.000000</td>\n",
       "      <td>150002.000000</td>\n",
       "      <td>130.000000</td>\n",
       "      <td>0.000000</td>\n",
       "      <td>1.000000</td>\n",
       "      <td>0.000000</td>\n",
       "    </tr>\n",
       "    <tr>\n",
       "      <th>25%</th>\n",
       "      <td>5000.750000</td>\n",
       "      <td>0.000000</td>\n",
       "      <td>42217.000000</td>\n",
       "      <td>0.000000</td>\n",
       "      <td>0.000000</td>\n",
       "      <td>263714.250000</td>\n",
       "      <td>219.000000</td>\n",
       "      <td>1.000000</td>\n",
       "      <td>2.000000</td>\n",
       "      <td>0.000000</td>\n",
       "    </tr>\n",
       "    <tr>\n",
       "      <th>50%</th>\n",
       "      <td>10000.500000</td>\n",
       "      <td>1.000000</td>\n",
       "      <td>75366.500000</td>\n",
       "      <td>59.000000</td>\n",
       "      <td>14.000000</td>\n",
       "      <td>452259.500000</td>\n",
       "      <td>326.000000</td>\n",
       "      <td>4.000000</td>\n",
       "      <td>5.000000</td>\n",
       "      <td>0.000000</td>\n",
       "    </tr>\n",
       "    <tr>\n",
       "      <th>75%</th>\n",
       "      <td>15000.250000</td>\n",
       "      <td>1.000000</td>\n",
       "      <td>115881.750000</td>\n",
       "      <td>179.000000</td>\n",
       "      <td>41.000000</td>\n",
       "      <td>702378.000000</td>\n",
       "      <td>533.250000</td>\n",
       "      <td>15.000000</td>\n",
       "      <td>10.000000</td>\n",
       "      <td>1.000000</td>\n",
       "    </tr>\n",
       "    <tr>\n",
       "      <th>max</th>\n",
       "      <td>20000.000000</td>\n",
       "      <td>1.000000</td>\n",
       "      <td>159983.000000</td>\n",
       "      <td>335.000000</td>\n",
       "      <td>89.000000</td>\n",
       "      <td>999996.000000</td>\n",
       "      <td>899.000000</td>\n",
       "      <td>29.000000</td>\n",
       "      <td>15.000000</td>\n",
       "      <td>1.000000</td>\n",
       "    </tr>\n",
       "  </tbody>\n",
       "</table>\n",
       "</div>"
      ],
      "text/plain": [
       "                 id       COLLEGE         INCOME       OVERAGE      LEFTOVER  \\\n",
       "count  20000.000000  20000.000000   20000.000000  20000.000000  20000.000000   \n",
       "mean   10000.500000      0.502400   80281.447750     85.979550     23.898650   \n",
       "std     5773.647028      0.500007   41680.586319     85.992324     26.816645   \n",
       "min        1.000000      0.000000   20007.000000     -2.000000      0.000000   \n",
       "25%     5000.750000      0.000000   42217.000000      0.000000      0.000000   \n",
       "50%    10000.500000      1.000000   75366.500000     59.000000     14.000000   \n",
       "75%    15000.250000      1.000000  115881.750000    179.000000     41.000000   \n",
       "max    20000.000000      1.000000  159983.000000    335.000000     89.000000   \n",
       "\n",
       "               HOUSE  HANDSET_PRICE  OVER_15MINS_CALLS_PER_MONTH  \\\n",
       "count   20000.000000   20000.000000                 20000.000000   \n",
       "mean   493155.264250     389.615100                     8.000700   \n",
       "std    252407.884692     213.820682                     8.925418   \n",
       "min    150002.000000     130.000000                     0.000000   \n",
       "25%    263714.250000     219.000000                     1.000000   \n",
       "50%    452259.500000     326.000000                     4.000000   \n",
       "75%    702378.000000     533.250000                    15.000000   \n",
       "max    999996.000000     899.000000                    29.000000   \n",
       "\n",
       "       AVERAGE_CALL_DURATION         CHURN  \n",
       "count           20000.000000  20000.000000  \n",
       "mean                6.002250      0.492600  \n",
       "std                 4.402558      0.499958  \n",
       "min                 1.000000      0.000000  \n",
       "25%                 2.000000      0.000000  \n",
       "50%                 5.000000      0.000000  \n",
       "75%                10.000000      1.000000  \n",
       "max                15.000000      1.000000  "
      ]
     },
     "execution_count": 4,
     "metadata": {},
     "output_type": "execute_result"
    }
   ],
   "source": [
    "# 기술통계 확인\n",
    "data.describe()"
   ]
  },
  {
   "cell_type": "code",
   "execution_count": 5,
   "metadata": {},
   "outputs": [
    {
     "name": "stdout",
     "output_type": "stream",
     "text": [
      "<class 'pandas.core.frame.DataFrame'>\n",
      "RangeIndex: 20000 entries, 0 to 19999\n",
      "Data columns (total 13 columns):\n",
      " #   Column                       Non-Null Count  Dtype \n",
      "---  ------                       --------------  ----- \n",
      " 0   id                           20000 non-null  int64 \n",
      " 1   COLLEGE                      20000 non-null  int64 \n",
      " 2   INCOME                       20000 non-null  int64 \n",
      " 3   OVERAGE                      20000 non-null  int64 \n",
      " 4   LEFTOVER                     20000 non-null  int64 \n",
      " 5   HOUSE                        20000 non-null  int64 \n",
      " 6   HANDSET_PRICE                20000 non-null  int64 \n",
      " 7   OVER_15MINS_CALLS_PER_MONTH  20000 non-null  int64 \n",
      " 8   AVERAGE_CALL_DURATION        20000 non-null  int64 \n",
      " 9   REPORTED_SATISFACTION        20000 non-null  object\n",
      " 10  REPORTED_USAGE_LEVEL         20000 non-null  object\n",
      " 11  CONSIDERING_CHANGE_OF_PLAN   20000 non-null  object\n",
      " 12  CHURN                        20000 non-null  int64 \n",
      "dtypes: int64(10), object(3)\n",
      "memory usage: 2.0+ MB\n"
     ]
    }
   ],
   "source": [
    "# 변수 관련 정보 확인\n",
    "data.info()"
   ]
  },
  {
   "cell_type": "markdown",
   "metadata": {
    "id": "xyfvv8VLTvgu",
    "tags": []
   },
   "source": [
    "# 3.데이터 준비\n",
    "\n",
    "- 전처리 과정을 통해 머신러닝 알고리즘에 사용할 수 있는 형태의 데이터를 준비합니다."
   ]
  },
  {
   "cell_type": "markdown",
   "metadata": {
    "id": "r9KF35AUOrLt"
   },
   "source": [
    "**1) 변수 제거**"
   ]
  },
  {
   "cell_type": "code",
   "execution_count": 6,
   "metadata": {
    "colab": {
     "base_uri": "https://localhost:8080/",
     "height": 226
    },
    "executionInfo": {
     "elapsed": 7,
     "status": "ok",
     "timestamp": 1710481680997,
     "user": {
      "displayName": "Jangrae Lee",
      "userId": "08475661575434032088"
     },
     "user_tz": -540
    },
    "id": "MBi7nAgXOrLt",
    "outputId": "135f8049-689f-4b84-cea5-2f1b58c274de"
   },
   "outputs": [
    {
     "data": {
      "text/html": [
       "<div>\n",
       "<style scoped>\n",
       "    .dataframe tbody tr th:only-of-type {\n",
       "        vertical-align: middle;\n",
       "    }\n",
       "\n",
       "    .dataframe tbody tr th {\n",
       "        vertical-align: top;\n",
       "    }\n",
       "\n",
       "    .dataframe thead th {\n",
       "        text-align: right;\n",
       "    }\n",
       "</style>\n",
       "<table border=\"1\" class=\"dataframe\">\n",
       "  <thead>\n",
       "    <tr style=\"text-align: right;\">\n",
       "      <th></th>\n",
       "      <th>COLLEGE</th>\n",
       "      <th>INCOME</th>\n",
       "      <th>OVERAGE</th>\n",
       "      <th>LEFTOVER</th>\n",
       "      <th>HOUSE</th>\n",
       "      <th>HANDSET_PRICE</th>\n",
       "      <th>OVER_15MINS_CALLS_PER_MONTH</th>\n",
       "      <th>AVERAGE_CALL_DURATION</th>\n",
       "      <th>REPORTED_SATISFACTION</th>\n",
       "      <th>REPORTED_USAGE_LEVEL</th>\n",
       "      <th>CONSIDERING_CHANGE_OF_PLAN</th>\n",
       "      <th>CHURN</th>\n",
       "    </tr>\n",
       "  </thead>\n",
       "  <tbody>\n",
       "    <tr>\n",
       "      <th>0</th>\n",
       "      <td>0</td>\n",
       "      <td>31953</td>\n",
       "      <td>0</td>\n",
       "      <td>6</td>\n",
       "      <td>313378</td>\n",
       "      <td>161</td>\n",
       "      <td>0</td>\n",
       "      <td>4</td>\n",
       "      <td>unsat</td>\n",
       "      <td>little</td>\n",
       "      <td>no</td>\n",
       "      <td>0</td>\n",
       "    </tr>\n",
       "    <tr>\n",
       "      <th>1</th>\n",
       "      <td>1</td>\n",
       "      <td>36147</td>\n",
       "      <td>0</td>\n",
       "      <td>13</td>\n",
       "      <td>800586</td>\n",
       "      <td>244</td>\n",
       "      <td>0</td>\n",
       "      <td>6</td>\n",
       "      <td>unsat</td>\n",
       "      <td>little</td>\n",
       "      <td>considering</td>\n",
       "      <td>0</td>\n",
       "    </tr>\n",
       "    <tr>\n",
       "      <th>2</th>\n",
       "      <td>1</td>\n",
       "      <td>27273</td>\n",
       "      <td>230</td>\n",
       "      <td>0</td>\n",
       "      <td>305049</td>\n",
       "      <td>201</td>\n",
       "      <td>16</td>\n",
       "      <td>15</td>\n",
       "      <td>unsat</td>\n",
       "      <td>very_little</td>\n",
       "      <td>perhaps</td>\n",
       "      <td>0</td>\n",
       "    </tr>\n",
       "    <tr>\n",
       "      <th>3</th>\n",
       "      <td>0</td>\n",
       "      <td>120070</td>\n",
       "      <td>38</td>\n",
       "      <td>33</td>\n",
       "      <td>788235</td>\n",
       "      <td>780</td>\n",
       "      <td>3</td>\n",
       "      <td>2</td>\n",
       "      <td>unsat</td>\n",
       "      <td>very_high</td>\n",
       "      <td>considering</td>\n",
       "      <td>1</td>\n",
       "    </tr>\n",
       "    <tr>\n",
       "      <th>4</th>\n",
       "      <td>1</td>\n",
       "      <td>29215</td>\n",
       "      <td>208</td>\n",
       "      <td>85</td>\n",
       "      <td>224784</td>\n",
       "      <td>241</td>\n",
       "      <td>21</td>\n",
       "      <td>1</td>\n",
       "      <td>very_unsat</td>\n",
       "      <td>little</td>\n",
       "      <td>never_thought</td>\n",
       "      <td>0</td>\n",
       "    </tr>\n",
       "  </tbody>\n",
       "</table>\n",
       "</div>"
      ],
      "text/plain": [
       "   COLLEGE  INCOME  OVERAGE  LEFTOVER   HOUSE  HANDSET_PRICE  \\\n",
       "0        0   31953        0         6  313378            161   \n",
       "1        1   36147        0        13  800586            244   \n",
       "2        1   27273      230         0  305049            201   \n",
       "3        0  120070       38        33  788235            780   \n",
       "4        1   29215      208        85  224784            241   \n",
       "\n",
       "   OVER_15MINS_CALLS_PER_MONTH  AVERAGE_CALL_DURATION REPORTED_SATISFACTION  \\\n",
       "0                            0                      4                 unsat   \n",
       "1                            0                      6                 unsat   \n",
       "2                           16                     15                 unsat   \n",
       "3                            3                      2                 unsat   \n",
       "4                           21                      1            very_unsat   \n",
       "\n",
       "  REPORTED_USAGE_LEVEL CONSIDERING_CHANGE_OF_PLAN  CHURN  \n",
       "0               little                         no      0  \n",
       "1               little                considering      0  \n",
       "2          very_little                    perhaps      0  \n",
       "3            very_high                considering      1  \n",
       "4               little              never_thought      0  "
      ]
     },
     "execution_count": 6,
     "metadata": {},
     "output_type": "execute_result"
    }
   ],
   "source": [
    "# 변수 제거\n",
    "drop_cols = ['id']\n",
    "data.drop(columns=drop_cols, inplace=True)\n",
    "\n",
    "# 확인\n",
    "data.head()"
   ]
  },
  {
   "cell_type": "markdown",
   "metadata": {
    "id": "qbyV3l1m1b03"
   },
   "source": [
    "**2) x, y 분리**"
   ]
  },
  {
   "cell_type": "code",
   "execution_count": 7,
   "metadata": {
    "executionInfo": {
     "elapsed": 6,
     "status": "ok",
     "timestamp": 1710481680997,
     "user": {
      "displayName": "Jangrae Lee",
      "userId": "08475661575434032088"
     },
     "user_tz": -540
    },
    "id": "B1oiY7x4uO8m"
   },
   "outputs": [],
   "source": [
    "# x, y 분리\n",
    "target = 'CHURN'\n",
    "x = data.drop(columns=target)\n",
    "y = data[target]"
   ]
  },
  {
   "cell_type": "markdown",
   "metadata": {
    "id": "DOsZOwPrOrLu"
   },
   "source": [
    "**3) 가변수화**"
   ]
  },
  {
   "cell_type": "code",
   "execution_count": 8,
   "metadata": {
    "colab": {
     "base_uri": "https://localhost:8080/",
     "height": 226
    },
    "executionInfo": {
     "elapsed": 6,
     "status": "ok",
     "timestamp": 1710481680997,
     "user": {
      "displayName": "Jangrae Lee",
      "userId": "08475661575434032088"
     },
     "user_tz": -540
    },
    "id": "e8hsou4OOrLu",
    "outputId": "4d99559e-16a7-4f72-f51d-4606e3bad92e"
   },
   "outputs": [
    {
     "data": {
      "text/html": [
       "<div>\n",
       "<style scoped>\n",
       "    .dataframe tbody tr th:only-of-type {\n",
       "        vertical-align: middle;\n",
       "    }\n",
       "\n",
       "    .dataframe tbody tr th {\n",
       "        vertical-align: top;\n",
       "    }\n",
       "\n",
       "    .dataframe thead th {\n",
       "        text-align: right;\n",
       "    }\n",
       "</style>\n",
       "<table border=\"1\" class=\"dataframe\">\n",
       "  <thead>\n",
       "    <tr style=\"text-align: right;\">\n",
       "      <th></th>\n",
       "      <th>COLLEGE</th>\n",
       "      <th>INCOME</th>\n",
       "      <th>OVERAGE</th>\n",
       "      <th>LEFTOVER</th>\n",
       "      <th>HOUSE</th>\n",
       "      <th>HANDSET_PRICE</th>\n",
       "      <th>OVER_15MINS_CALLS_PER_MONTH</th>\n",
       "      <th>AVERAGE_CALL_DURATION</th>\n",
       "      <th>REPORTED_SATISFACTION_sat</th>\n",
       "      <th>REPORTED_SATISFACTION_unsat</th>\n",
       "      <th>REPORTED_SATISFACTION_very_sat</th>\n",
       "      <th>REPORTED_SATISFACTION_very_unsat</th>\n",
       "      <th>REPORTED_USAGE_LEVEL_high</th>\n",
       "      <th>REPORTED_USAGE_LEVEL_little</th>\n",
       "      <th>REPORTED_USAGE_LEVEL_very_high</th>\n",
       "      <th>REPORTED_USAGE_LEVEL_very_little</th>\n",
       "      <th>CONSIDERING_CHANGE_OF_PLAN_considering</th>\n",
       "      <th>CONSIDERING_CHANGE_OF_PLAN_never_thought</th>\n",
       "      <th>CONSIDERING_CHANGE_OF_PLAN_no</th>\n",
       "      <th>CONSIDERING_CHANGE_OF_PLAN_perhaps</th>\n",
       "    </tr>\n",
       "  </thead>\n",
       "  <tbody>\n",
       "    <tr>\n",
       "      <th>0</th>\n",
       "      <td>0</td>\n",
       "      <td>31953</td>\n",
       "      <td>0</td>\n",
       "      <td>6</td>\n",
       "      <td>313378</td>\n",
       "      <td>161</td>\n",
       "      <td>0</td>\n",
       "      <td>4</td>\n",
       "      <td>0</td>\n",
       "      <td>1</td>\n",
       "      <td>0</td>\n",
       "      <td>0</td>\n",
       "      <td>0</td>\n",
       "      <td>1</td>\n",
       "      <td>0</td>\n",
       "      <td>0</td>\n",
       "      <td>0</td>\n",
       "      <td>0</td>\n",
       "      <td>1</td>\n",
       "      <td>0</td>\n",
       "    </tr>\n",
       "    <tr>\n",
       "      <th>1</th>\n",
       "      <td>1</td>\n",
       "      <td>36147</td>\n",
       "      <td>0</td>\n",
       "      <td>13</td>\n",
       "      <td>800586</td>\n",
       "      <td>244</td>\n",
       "      <td>0</td>\n",
       "      <td>6</td>\n",
       "      <td>0</td>\n",
       "      <td>1</td>\n",
       "      <td>0</td>\n",
       "      <td>0</td>\n",
       "      <td>0</td>\n",
       "      <td>1</td>\n",
       "      <td>0</td>\n",
       "      <td>0</td>\n",
       "      <td>1</td>\n",
       "      <td>0</td>\n",
       "      <td>0</td>\n",
       "      <td>0</td>\n",
       "    </tr>\n",
       "    <tr>\n",
       "      <th>2</th>\n",
       "      <td>1</td>\n",
       "      <td>27273</td>\n",
       "      <td>230</td>\n",
       "      <td>0</td>\n",
       "      <td>305049</td>\n",
       "      <td>201</td>\n",
       "      <td>16</td>\n",
       "      <td>15</td>\n",
       "      <td>0</td>\n",
       "      <td>1</td>\n",
       "      <td>0</td>\n",
       "      <td>0</td>\n",
       "      <td>0</td>\n",
       "      <td>0</td>\n",
       "      <td>0</td>\n",
       "      <td>1</td>\n",
       "      <td>0</td>\n",
       "      <td>0</td>\n",
       "      <td>0</td>\n",
       "      <td>1</td>\n",
       "    </tr>\n",
       "    <tr>\n",
       "      <th>3</th>\n",
       "      <td>0</td>\n",
       "      <td>120070</td>\n",
       "      <td>38</td>\n",
       "      <td>33</td>\n",
       "      <td>788235</td>\n",
       "      <td>780</td>\n",
       "      <td>3</td>\n",
       "      <td>2</td>\n",
       "      <td>0</td>\n",
       "      <td>1</td>\n",
       "      <td>0</td>\n",
       "      <td>0</td>\n",
       "      <td>0</td>\n",
       "      <td>0</td>\n",
       "      <td>1</td>\n",
       "      <td>0</td>\n",
       "      <td>1</td>\n",
       "      <td>0</td>\n",
       "      <td>0</td>\n",
       "      <td>0</td>\n",
       "    </tr>\n",
       "    <tr>\n",
       "      <th>4</th>\n",
       "      <td>1</td>\n",
       "      <td>29215</td>\n",
       "      <td>208</td>\n",
       "      <td>85</td>\n",
       "      <td>224784</td>\n",
       "      <td>241</td>\n",
       "      <td>21</td>\n",
       "      <td>1</td>\n",
       "      <td>0</td>\n",
       "      <td>0</td>\n",
       "      <td>0</td>\n",
       "      <td>1</td>\n",
       "      <td>0</td>\n",
       "      <td>1</td>\n",
       "      <td>0</td>\n",
       "      <td>0</td>\n",
       "      <td>0</td>\n",
       "      <td>1</td>\n",
       "      <td>0</td>\n",
       "      <td>0</td>\n",
       "    </tr>\n",
       "  </tbody>\n",
       "</table>\n",
       "</div>"
      ],
      "text/plain": [
       "   COLLEGE  INCOME  OVERAGE  LEFTOVER   HOUSE  HANDSET_PRICE  \\\n",
       "0        0   31953        0         6  313378            161   \n",
       "1        1   36147        0        13  800586            244   \n",
       "2        1   27273      230         0  305049            201   \n",
       "3        0  120070       38        33  788235            780   \n",
       "4        1   29215      208        85  224784            241   \n",
       "\n",
       "   OVER_15MINS_CALLS_PER_MONTH  AVERAGE_CALL_DURATION  \\\n",
       "0                            0                      4   \n",
       "1                            0                      6   \n",
       "2                           16                     15   \n",
       "3                            3                      2   \n",
       "4                           21                      1   \n",
       "\n",
       "   REPORTED_SATISFACTION_sat  REPORTED_SATISFACTION_unsat  \\\n",
       "0                          0                            1   \n",
       "1                          0                            1   \n",
       "2                          0                            1   \n",
       "3                          0                            1   \n",
       "4                          0                            0   \n",
       "\n",
       "   REPORTED_SATISFACTION_very_sat  REPORTED_SATISFACTION_very_unsat  \\\n",
       "0                               0                                 0   \n",
       "1                               0                                 0   \n",
       "2                               0                                 0   \n",
       "3                               0                                 0   \n",
       "4                               0                                 1   \n",
       "\n",
       "   REPORTED_USAGE_LEVEL_high  REPORTED_USAGE_LEVEL_little  \\\n",
       "0                          0                            1   \n",
       "1                          0                            1   \n",
       "2                          0                            0   \n",
       "3                          0                            0   \n",
       "4                          0                            1   \n",
       "\n",
       "   REPORTED_USAGE_LEVEL_very_high  REPORTED_USAGE_LEVEL_very_little  \\\n",
       "0                               0                                 0   \n",
       "1                               0                                 0   \n",
       "2                               0                                 1   \n",
       "3                               1                                 0   \n",
       "4                               0                                 0   \n",
       "\n",
       "   CONSIDERING_CHANGE_OF_PLAN_considering  \\\n",
       "0                                       0   \n",
       "1                                       1   \n",
       "2                                       0   \n",
       "3                                       1   \n",
       "4                                       0   \n",
       "\n",
       "   CONSIDERING_CHANGE_OF_PLAN_never_thought  CONSIDERING_CHANGE_OF_PLAN_no  \\\n",
       "0                                         0                              1   \n",
       "1                                         0                              0   \n",
       "2                                         0                              0   \n",
       "3                                         0                              0   \n",
       "4                                         1                              0   \n",
       "\n",
       "   CONSIDERING_CHANGE_OF_PLAN_perhaps  \n",
       "0                                   0  \n",
       "1                                   0  \n",
       "2                                   1  \n",
       "3                                   0  \n",
       "4                                   0  "
      ]
     },
     "execution_count": 8,
     "metadata": {},
     "output_type": "execute_result"
    }
   ],
   "source": [
    "# 가변수화\n",
    "dumm_cols =['REPORTED_SATISFACTION','REPORTED_USAGE_LEVEL','CONSIDERING_CHANGE_OF_PLAN']\n",
    "x = pd.get_dummies(x, columns=dumm_cols, drop_first=True, dtype=int)\n",
    "\n",
    "# 확인\n",
    "x.head()"
   ]
  },
  {
   "cell_type": "markdown",
   "metadata": {
    "id": "JyUW2Hxm1hIW"
   },
   "source": [
    "**4) 학습용, 평가용 데이터 분리**"
   ]
  },
  {
   "cell_type": "code",
   "execution_count": 9,
   "metadata": {
    "executionInfo": {
     "elapsed": 5,
     "status": "ok",
     "timestamp": 1710481680997,
     "user": {
      "displayName": "Jangrae Lee",
      "userId": "08475661575434032088"
     },
     "user_tz": -540
    },
    "id": "vGgJGFX5ZAn8"
   },
   "outputs": [],
   "source": [
    "# 학습용, 평가용 데이터 분리\n",
    "from sklearn.model_selection import train_test_split\n",
    "\n",
    "x_train, x_test, y_train, y_test = train_test_split(x, y, test_size=0.3, random_state=1)"
   ]
  },
  {
   "cell_type": "markdown",
   "metadata": {
    "id": "5LC4FPPHOrLu"
   },
   "source": [
    "**5) 정규화**"
   ]
  },
  {
   "cell_type": "code",
   "execution_count": 10,
   "metadata": {
    "executionInfo": {
     "elapsed": 2,
     "status": "ok",
     "timestamp": 1710481694483,
     "user": {
      "displayName": "Jangrae Lee",
      "userId": "08475661575434032088"
     },
     "user_tz": -540
    },
    "id": "ErKzbKJIFL2B"
   },
   "outputs": [],
   "source": [
    "# 정규화\n",
    "from sklearn.preprocessing import MinMaxScaler\n",
    "\n",
    "scaler = MinMaxScaler()\n",
    "x_train_s = scaler.fit_transform(x_train)\n",
    "x_test_s = scaler.transform(x_test)"
   ]
  },
  {
   "cell_type": "markdown",
   "metadata": {
    "id": "BYr1vtpd8uw4",
    "tags": []
   },
   "source": [
    "# 4.성능 예측\n",
    "\n",
    "- 여러 알고리즘으로 만든 모델의 성능을 교차 검증을 통해 예측해 봅니다.\n",
    "- 하이퍼파라미터를 설정하지 않고 진행합니다.\n",
    "- 예측된 성능 정보를 수집해 마지막에 비교합니다."
   ]
  },
  {
   "cell_type": "code",
   "execution_count": 11,
   "metadata": {
    "id": "Gq2RQ5GPOrLv"
   },
   "outputs": [],
   "source": [
    "# xgboost 설치\n",
    "# !pip install xgboost"
   ]
  },
  {
   "cell_type": "code",
   "execution_count": 12,
   "metadata": {
    "id": "g4wARLMCOrLv"
   },
   "outputs": [],
   "source": [
    "# lightgbm 설치\n",
    "# !pip install lightgbm"
   ]
  },
  {
   "cell_type": "markdown",
   "metadata": {
    "id": "r9jDgHv5OrLv"
   },
   "source": [
    "- 이후 사용할 함수를 모두 불러옵니다."
   ]
  },
  {
   "cell_type": "code",
   "execution_count": 13,
   "metadata": {
    "executionInfo": {
     "elapsed": 283,
     "status": "ok",
     "timestamp": 1710481696727,
     "user": {
      "displayName": "Jangrae Lee",
      "userId": "08475661575434032088"
     },
     "user_tz": -540
    },
    "id": "WM6qVGeMOrLv"
   },
   "outputs": [],
   "source": [
    "# 불러오기\n",
    "from sklearn.neighbors import KNeighborsClassifier\n",
    "from sklearn.tree import DecisionTreeClassifier\n",
    "from sklearn.linear_model import LogisticRegression\n",
    "from sklearn.ensemble import RandomForestClassifier\n",
    "from xgboost import XGBClassifier\n",
    "from lightgbm import LGBMClassifier\n",
    "\n",
    "from sklearn.model_selection import cross_val_score, GridSearchCV\n",
    "from sklearn.metrics import confusion_matrix, classification_report"
   ]
  },
  {
   "cell_type": "markdown",
   "metadata": {
    "id": "9pqwajKFyK4F"
   },
   "source": [
    "**1) KNN**\n",
    "\n",
    "- KNN 모델의 성능을 교차 검증을 통해 예측해 봅니다."
   ]
  },
  {
   "cell_type": "code",
   "execution_count": 14,
   "metadata": {
    "colab": {
     "base_uri": "https://localhost:8080/"
    },
    "executionInfo": {
     "elapsed": 5,
     "status": "ok",
     "timestamp": 1710481703718,
     "user": {
      "displayName": "Jangrae Lee",
      "userId": "08475661575434032088"
     },
     "user_tz": -540
    },
    "id": "2KMvCx_-yK4H",
    "outputId": "6b31884c-db64-402d-a024-4384850c350b"
   },
   "outputs": [
    {
     "name": "stdout",
     "output_type": "stream",
     "text": [
      "평균: 0.5930000000000001\n"
     ]
    }
   ],
   "source": [
    "# 성능예측\n",
    "cv_score = cross_val_score(KNeighborsClassifier(), x_train_s, y_train, cv=5)\n",
    "\n",
    "# 결과확인\n",
    "print('평균:', cv_score.mean())"
   ]
  },
  {
   "cell_type": "code",
   "execution_count": 15,
   "metadata": {
    "executionInfo": {
     "elapsed": 412,
     "status": "ok",
     "timestamp": 1710481705591,
     "user": {
      "displayName": "Jangrae Lee",
      "userId": "08475661575434032088"
     },
     "user_tz": -540
    },
    "id": "zMEjkevGOrLw"
   },
   "outputs": [],
   "source": [
    "# 결과수집\n",
    "result = {}\n",
    "result['KNN'] = cv_score.mean()"
   ]
  },
  {
   "cell_type": "markdown",
   "metadata": {
    "id": "_2Dzy1phyWRM"
   },
   "source": [
    "**2) Decision Tree**\n",
    "\n",
    "- Decision Tree 모델의 성능을 교차 검증을 통해 예측해 봅니다."
   ]
  },
  {
   "cell_type": "code",
   "execution_count": 16,
   "metadata": {
    "id": "DQruMeL7OrLw"
   },
   "outputs": [
    {
     "name": "stdout",
     "output_type": "stream",
     "text": [
      "평균: 0.6167142857142858\n"
     ]
    }
   ],
   "source": [
    "# 성능예측\n",
    "cv_score = cross_val_score(DecisionTreeClassifier(), x_train, y_train, cv=5)\n",
    "\n",
    "# 결과확인\n",
    "print('평균:', cv_score.mean())"
   ]
  },
  {
   "cell_type": "code",
   "execution_count": 17,
   "metadata": {
    "id": "T7u_elxtOrLw"
   },
   "outputs": [],
   "source": [
    "# 결과수집\n",
    "result['Decision Tree'] = cv_score.mean()"
   ]
  },
  {
   "cell_type": "markdown",
   "metadata": {
    "id": "p5j6DiOVOrLx"
   },
   "source": [
    "**3) Logistic Regression**\n",
    "\n",
    "- Logistic Regression 모델의 성능을 교차 검증을 통해 예측해 봅니다."
   ]
  },
  {
   "cell_type": "code",
   "execution_count": 18,
   "metadata": {
    "id": "SJkektBXOrLx"
   },
   "outputs": [
    {
     "name": "stdout",
     "output_type": "stream",
     "text": [
      "평균: 0.6350714285714286\n"
     ]
    }
   ],
   "source": [
    "# 성능예측\n",
    "cv_score = cross_val_score(LogisticRegression(), x_train, y_train, cv=5)\n",
    "\n",
    "# 결과확인\n",
    "print('평균:', cv_score.mean())"
   ]
  },
  {
   "cell_type": "code",
   "execution_count": 19,
   "metadata": {
    "id": "swDom3ZdOrLx"
   },
   "outputs": [],
   "source": [
    "# 결과수집\n",
    "result['Logistic Regression'] = cv_score.mean()"
   ]
  },
  {
   "cell_type": "markdown",
   "metadata": {
    "id": "b0crO5W_ygXk"
   },
   "source": [
    "**4) Random Forest**\n",
    "\n",
    "- Random Forest 모델의 성능을 교차 검증을 통해 예측해 봅니다."
   ]
  },
  {
   "cell_type": "code",
   "execution_count": 20,
   "metadata": {
    "id": "ilWaAT7_OrLx"
   },
   "outputs": [
    {
     "name": "stdout",
     "output_type": "stream",
     "text": [
      "평균: 0.6881428571428572\n"
     ]
    }
   ],
   "source": [
    "# 성능예측\n",
    "cv_score = cross_val_score(RandomForestClassifier(), x_train, y_train, cv=5)\n",
    "\n",
    "# 결과확인\n",
    "print('평균:', cv_score.mean())"
   ]
  },
  {
   "cell_type": "code",
   "execution_count": 21,
   "metadata": {
    "id": "suuNuqekOrLy"
   },
   "outputs": [],
   "source": [
    "# 결과수집\n",
    "result['Random Forest'] = cv_score.mean()"
   ]
  },
  {
   "cell_type": "markdown",
   "metadata": {
    "id": "OfBvePtkys70"
   },
   "source": [
    "**5) XGBoost**\n",
    "\n",
    "- XGBoost 모델의 성능을 교차 검증을 통해 예측해 봅니다."
   ]
  },
  {
   "cell_type": "code",
   "execution_count": 22,
   "metadata": {
    "id": "CaZ4lbmcOrLy"
   },
   "outputs": [
    {
     "name": "stdout",
     "output_type": "stream",
     "text": [
      "평균: 0.6866428571428573\n"
     ]
    }
   ],
   "source": [
    "# 성능예측\n",
    "cv_score = cross_val_score(XGBClassifier(), x_train, y_train, cv=5)\n",
    "\n",
    "# 결과확인\n",
    "print('평균:', cv_score.mean())"
   ]
  },
  {
   "cell_type": "code",
   "execution_count": 23,
   "metadata": {
    "id": "LRSSgtR5OrLy"
   },
   "outputs": [],
   "source": [
    "# 결과수집\n",
    "result['XGBoost'] = cv_score.mean()"
   ]
  },
  {
   "cell_type": "markdown",
   "metadata": {
    "id": "OvaGeyaVOrLy"
   },
   "source": [
    "**6) LightGBM**\n",
    "\n",
    "- LightGBM 모델의 성능을 교차 검증을 통해 예측해 봅니다."
   ]
  },
  {
   "cell_type": "code",
   "execution_count": 24,
   "metadata": {
    "id": "1b3BMHy3OrLy"
   },
   "outputs": [
    {
     "name": "stdout",
     "output_type": "stream",
     "text": [
      "[LightGBM] [Info] Number of positive: 5534, number of negative: 5666\n",
      "[LightGBM] [Info] Auto-choosing col-wise multi-threading, the overhead of testing was 0.000664 seconds.\n",
      "You can set `force_col_wise=true` to remove the overhead.\n",
      "[LightGBM] [Info] Total Bins 1139\n",
      "[LightGBM] [Info] Number of data points in the train set: 11200, number of used features: 20\n",
      "[LightGBM] [Info] [binary:BoostFromScore]: pavg=0.494107 -> initscore=-0.023573\n",
      "[LightGBM] [Info] Start training from score -0.023573\n",
      "[LightGBM] [Info] Number of positive: 5534, number of negative: 5666\n",
      "[LightGBM] [Info] Auto-choosing row-wise multi-threading, the overhead of testing was 0.000162 seconds.\n",
      "You can set `force_row_wise=true` to remove the overhead.\n",
      "And if memory is not enough, you can set `force_col_wise=true`.\n",
      "[LightGBM] [Info] Total Bins 1136\n",
      "[LightGBM] [Info] Number of data points in the train set: 11200, number of used features: 20\n",
      "[LightGBM] [Info] [binary:BoostFromScore]: pavg=0.494107 -> initscore=-0.023573\n",
      "[LightGBM] [Info] Start training from score -0.023573\n",
      "[LightGBM] [Info] Number of positive: 5534, number of negative: 5666\n",
      "[LightGBM] [Info] Auto-choosing row-wise multi-threading, the overhead of testing was 0.000169 seconds.\n",
      "You can set `force_row_wise=true` to remove the overhead.\n",
      "And if memory is not enough, you can set `force_col_wise=true`.\n",
      "[LightGBM] [Info] Total Bins 1142\n",
      "[LightGBM] [Info] Number of data points in the train set: 11200, number of used features: 20\n",
      "[LightGBM] [Info] [binary:BoostFromScore]: pavg=0.494107 -> initscore=-0.023573\n",
      "[LightGBM] [Info] Start training from score -0.023573\n",
      "[LightGBM] [Info] Number of positive: 5533, number of negative: 5667\n",
      "[LightGBM] [Info] Auto-choosing row-wise multi-threading, the overhead of testing was 0.000195 seconds.\n",
      "You can set `force_row_wise=true` to remove the overhead.\n",
      "And if memory is not enough, you can set `force_col_wise=true`.\n",
      "[LightGBM] [Info] Total Bins 1140\n",
      "[LightGBM] [Info] Number of data points in the train set: 11200, number of used features: 20\n",
      "[LightGBM] [Info] [binary:BoostFromScore]: pavg=0.494018 -> initscore=-0.023930\n",
      "[LightGBM] [Info] Start training from score -0.023930\n",
      "[LightGBM] [Info] Number of positive: 5533, number of negative: 5667\n",
      "[LightGBM] [Info] Auto-choosing col-wise multi-threading, the overhead of testing was 0.000450 seconds.\n",
      "You can set `force_col_wise=true` to remove the overhead.\n",
      "[LightGBM] [Info] Total Bins 1138\n",
      "[LightGBM] [Info] Number of data points in the train set: 11200, number of used features: 20\n",
      "[LightGBM] [Info] [binary:BoostFromScore]: pavg=0.494018 -> initscore=-0.023930\n",
      "[LightGBM] [Info] Start training from score -0.023930\n",
      "평균: 0.6962142857142857\n"
     ]
    }
   ],
   "source": [
    "# 성능예측\n",
    "cv_score = cross_val_score(LGBMClassifier(), x_train, y_train, cv=5)\n",
    "\n",
    "# 결과확인\n",
    "print('평균:', cv_score.mean())"
   ]
  },
  {
   "cell_type": "code",
   "execution_count": 25,
   "metadata": {
    "id": "vKCDmDA1OrLz"
   },
   "outputs": [],
   "source": [
    "# 결과수집\n",
    "result['LightGBM'] = cv_score.mean()"
   ]
  },
  {
   "cell_type": "markdown",
   "metadata": {
    "id": "IOuLjYjYOrLz"
   },
   "source": [
    "# 5.결과 확인\n",
    "\n",
    "- 예측된 각 모델의 성능을 비교합니다."
   ]
  },
  {
   "cell_type": "code",
   "execution_count": 26,
   "metadata": {
    "id": "XCXqckRyOrLz"
   },
   "outputs": [
    {
     "name": "stdout",
     "output_type": "stream",
     "text": [
      "========================================\n",
      "KNN 0.593\n",
      "Decision Tree 0.617\n",
      "Logistic Regression 0.635\n",
      "Random Forest 0.688\n",
      "XGBoost 0.687\n",
      "LightGBM 0.696\n",
      "========================================\n"
     ]
    }
   ],
   "source": [
    "# 성능 비교\n",
    "print('=' * 40)\n",
    "for m_name, score in result.items():\n",
    "    print(m_name, score.round(3))\n",
    "print('=' * 40)"
   ]
  },
  {
   "cell_type": "code",
   "execution_count": 27,
   "metadata": {
    "id": "P14P5txwOrLz"
   },
   "outputs": [
    {
     "data": {
      "image/png": "[encoded data removed]",
      "text/plain": [
       "<Figure size 500x500 with 1 Axes>"
      ]
     },
     "metadata": {
      "image/png": {
       "height": 428,
       "width": 550
      }
     },
     "output_type": "display_data"
    }
   ],
   "source": [
    "# 성능 시각화 비교\n",
    "plt.figure(figsize=(5, 5))\n",
    "plt.barh(list(result), result.values())\n",
    "plt.show()"
   ]
  },
  {
   "cell_type": "markdown",
   "metadata": {
    "id": "qiQDxtqfOrLz"
   },
   "source": [
    "# 6.성능 튜닝\n",
    "\n",
    "- 위에서 성능이 가장 좋을 것으로 예측된 알고리즘으로 모델링합니다.\n",
    "- 본 실습에서는 하이퍼파라미터가 최적화된 LightGBM 모델을 만듭니다."
   ]
  },
  {
   "cell_type": "code",
   "execution_count": 28,
   "metadata": {
    "id": "w2Y4_QoCOrLz"
   },
   "outputs": [],
   "source": [
    "# 파라미터 \n",
    "param = {'max_depth': range(1, 21),\n",
    "         'n_estimators': range(60, 131, 10)}\n",
    "\n",
    "# 모델 선언\n",
    "model = GridSearchCV(LGBMClassifier(verbose=-1),\n",
    "                     param,\n",
    "                     cv=5,\n",
    "                     scoring='accuracy')"
   ]
  },
  {
   "cell_type": "code",
   "execution_count": 29,
   "metadata": {
    "id": "48vxjFNBOrLz"
   },
   "outputs": [
    {
     "data": {
      "text/html": [
       "<style>#sk-container-id-1 {\n",
       "  /* Definition of color scheme common for light and dark mode */\n",
       "  --sklearn-color-text: black;\n",
       "  --sklearn-color-line: gray;\n",
       "  /* Definition of color scheme for unfitted estimators */\n",
       "  --sklearn-color-unfitted-level-0: #fff5e6;\n",
       "  --sklearn-color-unfitted-level-1: #f6e4d2;\n",
       "  --sklearn-color-unfitted-level-2: #ffe0b3;\n",
       "  --sklearn-color-unfitted-level-3: chocolate;\n",
       "  /* Definition of color scheme for fitted estimators */\n",
       "  --sklearn-color-fitted-level-0: #f0f8ff;\n",
       "  --sklearn-color-fitted-level-1: #d4ebff;\n",
       "  --sklearn-color-fitted-level-2: #b3dbfd;\n",
       "  --sklearn-color-fitted-level-3: cornflowerblue;\n",
       "\n",
       "  /* Specific color for light theme */\n",
       "  --sklearn-color-text-on-default-background: var(--sg-text-color, var(--theme-code-foreground, var(--jp-content-font-color1, black)));\n",
       "  --sklearn-color-background: var(--sg-background-color, var(--theme-background, var(--jp-layout-color0, white)));\n",
       "  --sklearn-color-border-box: var(--sg-text-color, var(--theme-code-foreground, var(--jp-content-font-color1, black)));\n",
       "  --sklearn-color-icon: #696969;\n",
       "\n",
       "  @media (prefers-color-scheme: dark) {\n",
       "    /* Redefinition of color scheme for dark theme */\n",
       "    --sklearn-color-text-on-default-background: var(--sg-text-color, var(--theme-code-foreground, var(--jp-content-font-color1, white)));\n",
       "    --sklearn-color-background: var(--sg-background-color, var(--theme-background, var(--jp-layout-color0, #111)));\n",
       "    --sklearn-color-border-box: var(--sg-text-color, var(--theme-code-foreground, var(--jp-content-font-color1, white)));\n",
       "    --sklearn-color-icon: #878787;\n",
       "  }\n",
       "}\n",
       "\n",
       "#sk-container-id-1 {\n",
       "  color: var(--sklearn-color-text);\n",
       "}\n",
       "\n",
       "#sk-container-id-1 pre {\n",
       "  padding: 0;\n",
       "}\n",
       "\n",
       "#sk-container-id-1 input.sk-hidden--visually {\n",
       "  border: 0;\n",
       "  clip: rect(1px 1px 1px 1px);\n",
       "  clip: rect(1px, 1px, 1px, 1px);\n",
       "  height: 1px;\n",
       "  margin: -1px;\n",
       "  overflow: hidden;\n",
       "  padding: 0;\n",
       "  position: absolute;\n",
       "  width: 1px;\n",
       "}\n",
       "\n",
       "#sk-container-id-1 div.sk-dashed-wrapped {\n",
       "  border: 1px dashed var(--sklearn-color-line);\n",
       "  margin: 0 0.4em 0.5em 0.4em;\n",
       "  box-sizing: border-box;\n",
       "  padding-bottom: 0.4em;\n",
       "  background-color: var(--sklearn-color-background);\n",
       "}\n",
       "\n",
       "#sk-container-id-1 div.sk-container {\n",
       "  /* jupyter's `normalize.less` sets `[hidden] { display: none; }`\n",
       "     but bootstrap.min.css set `[hidden] { display: none !important; }`\n",
       "     so we also need the `!important` here to be able to override the\n",
       "     default hidden behavior on the sphinx rendered scikit-learn.org.\n",
       "     See: https://github.com/scikit-learn/scikit-learn/issues/21755 */\n",
       "  display: inline-block !important;\n",
       "  position: relative;\n",
       "}\n",
       "\n",
       "#sk-container-id-1 div.sk-text-repr-fallback {\n",
       "  display: none;\n",
       "}\n",
       "\n",
       "div.sk-parallel-item,\n",
       "div.sk-serial,\n",
       "div.sk-item {\n",
       "  /* draw centered vertical line to link estimators */\n",
       "  background-image: linear-gradient(var(--sklearn-color-text-on-default-background), var(--sklearn-color-text-on-default-background));\n",
       "  background-size: 2px 100%;\n",
       "  background-repeat: no-repeat;\n",
       "  background-position: center center;\n",
       "}\n",
       "\n",
       "/* Parallel-specific style estimator block */\n",
       "\n",
       "#sk-container-id-1 div.sk-parallel-item::after {\n",
       "  content: \"\";\n",
       "  width: 100%;\n",
       "  border-bottom: 2px solid var(--sklearn-color-text-on-default-background);\n",
       "  flex-grow: 1;\n",
       "}\n",
       "\n",
       "#sk-container-id-1 div.sk-parallel {\n",
       "  display: flex;\n",
       "  align-items: stretch;\n",
       "  justify-content: center;\n",
       "  background-color: var(--sklearn-color-background);\n",
       "  position: relative;\n",
       "}\n",
       "\n",
       "#sk-container-id-1 div.sk-parallel-item {\n",
       "  display: flex;\n",
       "  flex-direction: column;\n",
       "}\n",
       "\n",
       "#sk-container-id-1 div.sk-parallel-item:first-child::after {\n",
       "  align-self: flex-end;\n",
       "  width: 50%;\n",
       "}\n",
       "\n",
       "#sk-container-id-1 div.sk-parallel-item:last-child::after {\n",
       "  align-self: flex-start;\n",
       "  width: 50%;\n",
       "}\n",
       "\n",
       "#sk-container-id-1 div.sk-parallel-item:only-child::after {\n",
       "  width: 0;\n",
       "}\n",
       "\n",
       "/* Serial-specific style estimator block */\n",
       "\n",
       "#sk-container-id-1 div.sk-serial {\n",
       "  display: flex;\n",
       "  flex-direction: column;\n",
       "  align-items: center;\n",
       "  background-color: var(--sklearn-color-background);\n",
       "  padding-right: 1em;\n",
       "  padding-left: 1em;\n",
       "}\n",
       "\n",
       "\n",
       "/* Toggleable style: style used for estimator/Pipeline/ColumnTransformer box that is\n",
       "clickable and can be expanded/collapsed.\n",
       "- Pipeline and ColumnTransformer use this feature and define the default style\n",
       "- Estimators will overwrite some part of the style using the `sk-estimator` class\n",
       "*/\n",
       "\n",
       "/* Pipeline and ColumnTransformer style (default) */\n",
       "\n",
       "#sk-container-id-1 div.sk-toggleable {\n",
       "  /* Default theme specific background. It is overwritten whether we have a\n",
       "  specific estimator or a Pipeline/ColumnTransformer */\n",
       "  background-color: var(--sklearn-color-background);\n",
       "}\n",
       "\n",
       "/* Toggleable label */\n",
       "#sk-container-id-1 label.sk-toggleable__label {\n",
       "  cursor: pointer;\n",
       "  display: block;\n",
       "  width: 100%;\n",
       "  margin-bottom: 0;\n",
       "  padding: 0.5em;\n",
       "  box-sizing: border-box;\n",
       "  text-align: center;\n",
       "}\n",
       "\n",
       "#sk-container-id-1 label.sk-toggleable__label-arrow:before {\n",
       "  /* Arrow on the left of the label */\n",
       "  content: \"▸\";\n",
       "  float: left;\n",
       "  margin-right: 0.25em;\n",
       "  color: var(--sklearn-color-icon);\n",
       "}\n",
       "\n",
       "#sk-container-id-1 label.sk-toggleable__label-arrow:hover:before {\n",
       "  color: var(--sklearn-color-text);\n",
       "}\n",
       "\n",
       "/* Toggleable content - dropdown */\n",
       "\n",
       "#sk-container-id-1 div.sk-toggleable__content {\n",
       "  max-height: 0;\n",
       "  max-width: 0;\n",
       "  overflow: hidden;\n",
       "  text-align: left;\n",
       "  /* unfitted */\n",
       "  background-color: var(--sklearn-color-unfitted-level-0);\n",
       "}\n",
       "\n",
       "#sk-container-id-1 div.sk-toggleable__content.fitted {\n",
       "  /* fitted */\n",
       "  background-color: var(--sklearn-color-fitted-level-0);\n",
       "}\n",
       "\n",
       "#sk-container-id-1 div.sk-toggleable__content pre {\n",
       "  margin: 0.2em;\n",
       "  border-radius: 0.25em;\n",
       "  color: var(--sklearn-color-text);\n",
       "  /* unfitted */\n",
       "  background-color: var(--sklearn-color-unfitted-level-0);\n",
       "}\n",
       "\n",
       "#sk-container-id-1 div.sk-toggleable__content.fitted pre {\n",
       "  /* unfitted */\n",
       "  background-color: var(--sklearn-color-fitted-level-0);\n",
       "}\n",
       "\n",
       "#sk-container-id-1 input.sk-toggleable__control:checked~div.sk-toggleable__content {\n",
       "  /* Expand drop-down */\n",
       "  max-height: 200px;\n",
       "  max-width: 100%;\n",
       "  overflow: auto;\n",
       "}\n",
       "\n",
       "#sk-container-id-1 input.sk-toggleable__control:checked~label.sk-toggleable__label-arrow:before {\n",
       "  content: \"▾\";\n",
       "}\n",
       "\n",
       "/* Pipeline/ColumnTransformer-specific style */\n",
       "\n",
       "#sk-container-id-1 div.sk-label input.sk-toggleable__control:checked~label.sk-toggleable__label {\n",
       "  color: var(--sklearn-color-text);\n",
       "  background-color: var(--sklearn-color-unfitted-level-2);\n",
       "}\n",
       "\n",
       "#sk-container-id-1 div.sk-label.fitted input.sk-toggleable__control:checked~label.sk-toggleable__label {\n",
       "  background-color: var(--sklearn-color-fitted-level-2);\n",
       "}\n",
       "\n",
       "/* Estimator-specific style */\n",
       "\n",
       "/* Colorize estimator box */\n",
       "#sk-container-id-1 div.sk-estimator input.sk-toggleable__control:checked~label.sk-toggleable__label {\n",
       "  /* unfitted */\n",
       "  background-color: var(--sklearn-color-unfitted-level-2);\n",
       "}\n",
       "\n",
       "#sk-container-id-1 div.sk-estimator.fitted input.sk-toggleable__control:checked~label.sk-toggleable__label {\n",
       "  /* fitted */\n",
       "  background-color: var(--sklearn-color-fitted-level-2);\n",
       "}\n",
       "\n",
       "#sk-container-id-1 div.sk-label label.sk-toggleable__label,\n",
       "#sk-container-id-1 div.sk-label label {\n",
       "  /* The background is the default theme color */\n",
       "  color: var(--sklearn-color-text-on-default-background);\n",
       "}\n",
       "\n",
       "/* On hover, darken the color of the background */\n",
       "#sk-container-id-1 div.sk-label:hover label.sk-toggleable__label {\n",
       "  color: var(--sklearn-color-text);\n",
       "  background-color: var(--sklearn-color-unfitted-level-2);\n",
       "}\n",
       "\n",
       "/* Label box, darken color on hover, fitted */\n",
       "#sk-container-id-1 div.sk-label.fitted:hover label.sk-toggleable__label.fitted {\n",
       "  color: var(--sklearn-color-text);\n",
       "  background-color: var(--sklearn-color-fitted-level-2);\n",
       "}\n",
       "\n",
       "/* Estimator label */\n",
       "\n",
       "#sk-container-id-1 div.sk-label label {\n",
       "  font-family: monospace;\n",
       "  font-weight: bold;\n",
       "  display: inline-block;\n",
       "  line-height: 1.2em;\n",
       "}\n",
       "\n",
       "#sk-container-id-1 div.sk-label-container {\n",
       "  text-align: center;\n",
       "}\n",
       "\n",
       "/* Estimator-specific */\n",
       "#sk-container-id-1 div.sk-estimator {\n",
       "  font-family: monospace;\n",
       "  border: 1px dotted var(--sklearn-color-border-box);\n",
       "  border-radius: 0.25em;\n",
       "  box-sizing: border-box;\n",
       "  margin-bottom: 0.5em;\n",
       "  /* unfitted */\n",
       "  background-color: var(--sklearn-color-unfitted-level-0);\n",
       "}\n",
       "\n",
       "#sk-container-id-1 div.sk-estimator.fitted {\n",
       "  /* fitted */\n",
       "  background-color: var(--sklearn-color-fitted-level-0);\n",
       "}\n",
       "\n",
       "/* on hover */\n",
       "#sk-container-id-1 div.sk-estimator:hover {\n",
       "  /* unfitted */\n",
       "  background-color: var(--sklearn-color-unfitted-level-2);\n",
       "}\n",
       "\n",
       "#sk-container-id-1 div.sk-estimator.fitted:hover {\n",
       "  /* fitted */\n",
       "  background-color: var(--sklearn-color-fitted-level-2);\n",
       "}\n",
       "\n",
       "/* Specification for estimator info (e.g. \"i\" and \"?\") */\n",
       "\n",
       "/* Common style for \"i\" and \"?\" */\n",
       "\n",
       ".sk-estimator-doc-link,\n",
       "a:link.sk-estimator-doc-link,\n",
       "a:visited.sk-estimator-doc-link {\n",
       "  float: right;\n",
       "  font-size: smaller;\n",
       "  line-height: 1em;\n",
       "  font-family: monospace;\n",
       "  background-color: var(--sklearn-color-background);\n",
       "  border-radius: 1em;\n",
       "  height: 1em;\n",
       "  width: 1em;\n",
       "  text-decoration: none !important;\n",
       "  margin-left: 1ex;\n",
       "  /* unfitted */\n",
       "  border: var(--sklearn-color-unfitted-level-1) 1pt solid;\n",
       "  color: var(--sklearn-color-unfitted-level-1);\n",
       "}\n",
       "\n",
       ".sk-estimator-doc-link.fitted,\n",
       "a:link.sk-estimator-doc-link.fitted,\n",
       "a:visited.sk-estimator-doc-link.fitted {\n",
       "  /* fitted */\n",
       "  border: var(--sklearn-color-fitted-level-1) 1pt solid;\n",
       "  color: var(--sklearn-color-fitted-level-1);\n",
       "}\n",
       "\n",
       "/* On hover */\n",
       "div.sk-estimator:hover .sk-estimator-doc-link:hover,\n",
       ".sk-estimator-doc-link:hover,\n",
       "div.sk-label-container:hover .sk-estimator-doc-link:hover,\n",
       ".sk-estimator-doc-link:hover {\n",
       "  /* unfitted */\n",
       "  background-color: var(--sklearn-color-unfitted-level-3);\n",
       "  color: var(--sklearn-color-background);\n",
       "  text-decoration: none;\n",
       "}\n",
       "\n",
       "div.sk-estimator.fitted:hover .sk-estimator-doc-link.fitted:hover,\n",
       ".sk-estimator-doc-link.fitted:hover,\n",
       "div.sk-label-container:hover .sk-estimator-doc-link.fitted:hover,\n",
       ".sk-estimator-doc-link.fitted:hover {\n",
       "  /* fitted */\n",
       "  background-color: var(--sklearn-color-fitted-level-3);\n",
       "  color: var(--sklearn-color-background);\n",
       "  text-decoration: none;\n",
       "}\n",
       "\n",
       "/* Span, style for the box shown on hovering the info icon */\n",
       ".sk-estimator-doc-link span {\n",
       "  display: none;\n",
       "  z-index: 9999;\n",
       "  position: relative;\n",
       "  font-weight: normal;\n",
       "  right: .2ex;\n",
       "  padding: .5ex;\n",
       "  margin: .5ex;\n",
       "  width: min-content;\n",
       "  min-width: 20ex;\n",
       "  max-width: 50ex;\n",
       "  color: var(--sklearn-color-text);\n",
       "  box-shadow: 2pt 2pt 4pt #999;\n",
       "  /* unfitted */\n",
       "  background: var(--sklearn-color-unfitted-level-0);\n",
       "  border: .5pt solid var(--sklearn-color-unfitted-level-3);\n",
       "}\n",
       "\n",
       ".sk-estimator-doc-link.fitted span {\n",
       "  /* fitted */\n",
       "  background: var(--sklearn-color-fitted-level-0);\n",
       "  border: var(--sklearn-color-fitted-level-3);\n",
       "}\n",
       "\n",
       ".sk-estimator-doc-link:hover span {\n",
       "  display: block;\n",
       "}\n",
       "\n",
       "/* \"?\"-specific style due to the `<a>` HTML tag */\n",
       "\n",
       "#sk-container-id-1 a.estimator_doc_link {\n",
       "  float: right;\n",
       "  font-size: 1rem;\n",
       "  line-height: 1em;\n",
       "  font-family: monospace;\n",
       "  background-color: var(--sklearn-color-background);\n",
       "  border-radius: 1rem;\n",
       "  height: 1rem;\n",
       "  width: 1rem;\n",
       "  text-decoration: none;\n",
       "  /* unfitted */\n",
       "  color: var(--sklearn-color-unfitted-level-1);\n",
       "  border: var(--sklearn-color-unfitted-level-1) 1pt solid;\n",
       "}\n",
       "\n",
       "#sk-container-id-1 a.estimator_doc_link.fitted {\n",
       "  /* fitted */\n",
       "  border: var(--sklearn-color-fitted-level-1) 1pt solid;\n",
       "  color: var(--sklearn-color-fitted-level-1);\n",
       "}\n",
       "\n",
       "/* On hover */\n",
       "#sk-container-id-1 a.estimator_doc_link:hover {\n",
       "  /* unfitted */\n",
       "  background-color: var(--sklearn-color-unfitted-level-3);\n",
       "  color: var(--sklearn-color-background);\n",
       "  text-decoration: none;\n",
       "}\n",
       "\n",
       "#sk-container-id-1 a.estimator_doc_link.fitted:hover {\n",
       "  /* fitted */\n",
       "  background-color: var(--sklearn-color-fitted-level-3);\n",
       "}\n",
       "</style><div id=\"sk-container-id-1\" class=\"sk-top-container\"><div class=\"sk-text-repr-fallback\"><pre>GridSearchCV(cv=5, estimator=LGBMClassifier(verbose=-1),\n",
       "             param_grid={&#x27;max_depth&#x27;: range(1, 21),\n",
       "                         &#x27;n_estimators&#x27;: range(60, 131, 10)},\n",
       "             scoring=&#x27;accuracy&#x27;)</pre><b>In a Jupyter environment, please rerun this cell to show the HTML representation or trust the notebook. <br />On GitHub, the HTML representation is unable to render, please try loading this page with nbviewer.org.</b></div><div class=\"sk-container\" hidden><div class=\"sk-item sk-dashed-wrapped\"><div class=\"sk-label-container\"><div class=\"sk-label fitted sk-toggleable\"><input class=\"sk-toggleable__control sk-hidden--visually\" id=\"sk-estimator-id-1\" type=\"checkbox\" ><label for=\"sk-estimator-id-1\" class=\"sk-toggleable__label fitted sk-toggleable__label-arrow fitted\">&nbsp;&nbsp;GridSearchCV<a class=\"sk-estimator-doc-link fitted\" rel=\"noreferrer\" target=\"_blank\" href=\"https://scikit-learn.org/1.4/modules/generated/sklearn.model_selection.GridSearchCV.html\">?<span>Documentation for GridSearchCV</span></a><span class=\"sk-estimator-doc-link fitted\">i<span>Fitted</span></span></label><div class=\"sk-toggleable__content fitted\"><pre>GridSearchCV(cv=5, estimator=LGBMClassifier(verbose=-1),\n",
       "             param_grid={&#x27;max_depth&#x27;: range(1, 21),\n",
       "                         &#x27;n_estimators&#x27;: range(60, 131, 10)},\n",
       "             scoring=&#x27;accuracy&#x27;)</pre></div> </div></div><div class=\"sk-parallel\"><div class=\"sk-parallel-item\"><div class=\"sk-item\"><div class=\"sk-label-container\"><div class=\"sk-label fitted sk-toggleable\"><input class=\"sk-toggleable__control sk-hidden--visually\" id=\"sk-estimator-id-2\" type=\"checkbox\" ><label for=\"sk-estimator-id-2\" class=\"sk-toggleable__label fitted sk-toggleable__label-arrow fitted\">estimator: LGBMClassifier</label><div class=\"sk-toggleable__content fitted\"><pre>LGBMClassifier(verbose=-1)</pre></div> </div></div><div class=\"sk-serial\"><div class=\"sk-item\"><div class=\"sk-estimator fitted sk-toggleable\"><input class=\"sk-toggleable__control sk-hidden--visually\" id=\"sk-estimator-id-3\" type=\"checkbox\" ><label for=\"sk-estimator-id-3\" class=\"sk-toggleable__label fitted sk-toggleable__label-arrow fitted\">LGBMClassifier</label><div class=\"sk-toggleable__content fitted\"><pre>LGBMClassifier(verbose=-1)</pre></div> </div></div></div></div></div></div></div></div></div>"
      ],
      "text/plain": [
       "GridSearchCV(cv=5, estimator=LGBMClassifier(verbose=-1),\n",
       "             param_grid={'max_depth': range(1, 21),\n",
       "                         'n_estimators': range(60, 131, 10)},\n",
       "             scoring='accuracy')"
      ]
     },
     "execution_count": 29,
     "metadata": {},
     "output_type": "execute_result"
    }
   ],
   "source": [
    "# 학습하기(많은 시간이 소요될 수 있음)\n",
    "model.fit(x_train, y_train)"
   ]
  },
  {
   "cell_type": "code",
   "execution_count": 30,
   "metadata": {
    "id": "YFAOZ4lhOrLz"
   },
   "outputs": [
    {
     "name": "stdout",
     "output_type": "stream",
     "text": [
      "{'max_depth': 4, 'n_estimators': 60}\n",
      "0.6994999999999999\n"
     ]
    }
   ],
   "source": [
    "# 최적 파라미터, 예측 최고 성능\n",
    "print(model.best_params_)\n",
    "print(model.best_score_)"
   ]
  },
  {
   "cell_type": "code",
   "execution_count": 31,
   "metadata": {
    "id": "M3ZsGp3kOrL0"
   },
   "outputs": [
    {
     "data": {
      "image/png": "[encoded data removed]",
      "text/plain": [
       "<Figure size 600x500 with 1 Axes>"
      ]
     },
     "metadata": {
      "image/png": {
       "height": 428,
       "width": 837
      }
     },
     "output_type": "display_data"
    }
   ],
   "source": [
    "# 변수 중요도 시각화\n",
    "plt.figure(figsize=(6, 5))\n",
    "plt.barh(list(x), model.best_estimator_.feature_importances_)\n",
    "plt.show()"
   ]
  },
  {
   "cell_type": "markdown",
   "metadata": {
    "id": "s2Ov2o4bOrL0"
   },
   "source": [
    "# 7.성능 평가\n",
    "\n",
    "- 최적 파라미터로 학습된 모델에 대해 최종 성능 평가를 진행합니다."
   ]
  },
  {
   "cell_type": "code",
   "execution_count": 32,
   "metadata": {
    "id": "xhOPCEA1OrL0"
   },
   "outputs": [],
   "source": [
    "# 예측하기\n",
    "y_pred = model.predict(x_test)"
   ]
  },
  {
   "cell_type": "code",
   "execution_count": 33,
   "metadata": {
    "id": "e5EoPXRQOrL0"
   },
   "outputs": [
    {
     "name": "stdout",
     "output_type": "stream",
     "text": [
      "[[1928 1137]\n",
      " [ 673 2262]]\n",
      "              precision    recall  f1-score   support\n",
      "\n",
      "           0       0.74      0.63      0.68      3065\n",
      "           1       0.67      0.77      0.71      2935\n",
      "\n",
      "    accuracy                           0.70      6000\n",
      "   macro avg       0.70      0.70      0.70      6000\n",
      "weighted avg       0.70      0.70      0.70      6000\n",
      "\n"
     ]
    }
   ],
   "source": [
    "# 성능평가\n",
    "print(confusion_matrix(y_test, y_pred))\n",
    "print(classification_report(y_test, y_pred))"
   ]
  }
 ],
 "metadata": {
  "colab": {
   "provenance": []
  },
  "kernelspec": {
   "display_name": "base",
   "language": "python",
   "name": "python3"
  },
  "language_info": {
   "codemirror_mode": {
    "name": "ipython",
    "version": 3
   },
   "file_extension": ".py",
   "mimetype": "text/x-python",
   "name": "python",
   "nbconvert_exporter": "python",
   "pygments_lexer": "ipython3",
   "version": "3.12.4"
  }
 },
 "nbformat": 4,
 "nbformat_minor": 4
}
